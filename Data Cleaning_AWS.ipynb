{
 "cells": [
  {
   "cell_type": "markdown",
   "id": "a7474f26-2634-4080-ac4f-c1f732b9afa7",
   "metadata": {
    "id": "a7474f26-2634-4080-ac4f-c1f732b9afa7"
   },
   "source": [
    "# Trabalho de Algoritmos para Big Data - 2022/2023"
   ]
  },
  {
   "cell_type": "markdown",
   "id": "65e1b690-b3cb-4830-9cdf-160493acfa3c",
   "metadata": {
    "id": "65e1b690-b3cb-4830-9cdf-160493acfa3c"
   },
   "source": [
    "## Utilização de sistemas de bike-sharing - Londres"
   ]
  },
  {
   "cell_type": "markdown",
   "id": "be3c91af-ba1b-4bfc-90d5-286be8316876",
   "metadata": {
    "id": "be3c91af-ba1b-4bfc-90d5-286be8316876"
   },
   "source": [
    "#### Formulação de problemas: "
   ]
  },
  {
   "cell_type": "markdown",
   "id": "5f761fd7-e8b9-4fee-b20b-bb5d58686f77",
   "metadata": {
    "id": "5f761fd7-e8b9-4fee-b20b-bb5d58686f77"
   },
   "source": [
    "1. Para dada temperatura e dia da semana, prever a afluencia de rentals para cada estação"
   ]
  },
  {
   "cell_type": "code",
   "execution_count": 1,
   "id": "6c3092e1-c04c-4067-aae4-ae70d3455bfa",
   "metadata": {
    "id": "6c3092e1-c04c-4067-aae4-ae70d3455bfa",
    "outputId": "ee3b7cda-2ef9-418e-c1a7-8b95f2776b7a",
    "tags": []
   },
   "outputs": [
    {
     "name": "stdout",
     "output_type": "stream",
     "text": [
      "/\n"
     ]
    }
   ],
   "source": [
    "%%bash\n",
    "pwd"
   ]
  },
  {
   "cell_type": "markdown",
   "id": "172a4570-1d83-44f0-8f54-dc9678cca9f6",
   "metadata": {
    "id": "172a4570-1d83-44f0-8f54-dc9678cca9f6"
   },
   "source": [
    "Criar uma SparkSession"
   ]
  },
  {
   "cell_type": "code",
   "execution_count": 2,
   "id": "e6b5c20d-f6ec-44e9-8e1c-bc715cbd9a66",
   "metadata": {
    "id": "e6b5c20d-f6ec-44e9-8e1c-bc715cbd9a66",
    "outputId": "6c6e17cd-549f-45c9-c291-ffd362ad6a14",
    "tags": []
   },
   "outputs": [
    {
     "data": {
      "application/vnd.jupyter.widget-view+json": {
       "model_id": "2b399b0107704403a877265fa0f91e99",
       "version_major": 2,
       "version_minor": 0
      },
      "text/plain": [
       "VBox()"
      ]
     },
     "metadata": {},
     "output_type": "display_data"
    },
    {
     "name": "stdout",
     "output_type": "stream",
     "text": [
      "Starting Spark application\n"
     ]
    },
    {
     "data": {
      "text/html": [
       "<table>\n",
       "<tr><th>ID</th><th>YARN Application ID</th><th>Kind</th><th>State</th><th>Spark UI</th><th>Driver log</th><th>User</th><th>Current session?</th></tr><tr><td>0</td><td>application_1685053088962_0001</td><td>pyspark</td><td>idle</td><td><a target=\"_blank\" href=\"http://ip-172-31-1-80.ec2.internal:20888/proxy/application_1685053088962_0001/\" class=\"emr-proxy-link\" emr-resource=\"j-1NJ92M2UUQX36\n",
       "\" application-id=\"application_1685053088962_0001\">Link</a></td><td><a target=\"_blank\" href=\"http://ip-172-31-6-132.ec2.internal:8042/node/containerlogs/container_1685053088962_0001_01_000001/livy\" >Link</a></td><td>None</td><td>✔</td></tr></table>"
      ],
      "text/plain": [
       "<IPython.core.display.HTML object>"
      ]
     },
     "metadata": {},
     "output_type": "display_data"
    },
    {
     "data": {
      "application/vnd.jupyter.widget-view+json": {
       "model_id": "",
       "version_major": 2,
       "version_minor": 0
      },
      "text/plain": [
       "FloatProgress(value=0.0, bar_style='info', description='Progress:', layout=Layout(height='25px', width='50%'),…"
      ]
     },
     "metadata": {},
     "output_type": "display_data"
    },
    {
     "name": "stdout",
     "output_type": "stream",
     "text": [
      "SparkSession available as 'spark'.\n"
     ]
    },
    {
     "data": {
      "application/vnd.jupyter.widget-view+json": {
       "model_id": "",
       "version_major": 2,
       "version_minor": 0
      },
      "text/plain": [
       "FloatProgress(value=0.0, bar_style='info', description='Progress:', layout=Layout(height='25px', width='50%'),…"
      ]
     },
     "metadata": {},
     "output_type": "display_data"
    }
   ],
   "source": [
    "from pyspark.sql import SparkSession\n",
    "spark = SparkSession\\\n",
    "    .builder\\\n",
    "    .appName(\"BigData_TG\")\\\n",
    "    .config(\"spark.sql.shuffle.partitions\",6)\\\n",
    "    .config(\"spark.sql.repl.eagereval.enabled\",True)\\\n",
    "    .getOrCreate()\n"
   ]
  },
  {
   "cell_type": "code",
   "execution_count": 3,
   "id": "ad535851-7bd7-4fec-8aee-3c241592648a",
   "metadata": {
    "id": "ad535851-7bd7-4fec-8aee-3c241592648a",
    "tags": []
   },
   "outputs": [
    {
     "data": {
      "application/vnd.jupyter.widget-view+json": {
       "model_id": "135e162d20594350b8113a4e201aefa6",
       "version_major": 2,
       "version_minor": 0
      },
      "text/plain": [
       "VBox()"
      ]
     },
     "metadata": {},
     "output_type": "display_data"
    },
    {
     "data": {
      "application/vnd.jupyter.widget-view+json": {
       "model_id": "",
       "version_major": 2,
       "version_minor": 0
      },
      "text/plain": [
       "FloatProgress(value=0.0, bar_style='info', description='Progress:', layout=Layout(height='25px', width='50%'),…"
      ]
     },
     "metadata": {},
     "output_type": "display_data"
    },
    {
     "name": "stderr",
     "output_type": "stream",
     "text": [
      "An error was encountered:\n",
      "No module named 'pandas'\n",
      "Traceback (most recent call last):\n",
      "ModuleNotFoundError: No module named 'pandas'\n",
      "\n"
     ]
    }
   ],
   "source": [
    "# Some general imports \n",
    "\n",
    "import os\n",
    "import sys\n",
    "\n",
    "import numpy as np \n",
    "import pandas as pd\n",
    "\n",
    "import matplotlib.pyplot as plt\n",
    "import seaborn as sns\n",
    "\n",
    "# from ydata_profiling import ProfileReport\n",
    "import warnings\n",
    "warnings.filterwarnings(\"ignore\")"
   ]
  },
  {
   "cell_type": "code",
   "execution_count": 6,
   "id": "857ec7ca-6ae3-4db5-8f1e-70d37d9352f6",
   "metadata": {
    "id": "857ec7ca-6ae3-4db5-8f1e-70d37d9352f6",
    "outputId": "4e5a0a6a-e21c-4310-9e4d-d921875d03f7",
    "tags": []
   },
   "outputs": [
    {
     "name": "stderr",
     "output_type": "stream",
     "text": [
      "head: cannot open ‘s3://abdbucketjddc/dataset/london.csv’ for reading: No such file or directory\n",
      "tail: cannot open ‘s3://abdbucketjddc/dataset/london.csv’ for reading: No such file or directory\n"
     ]
    },
    {
     "ename": "CalledProcessError",
     "evalue": "Command 'b'head -n 2 s3://abdbucketjddc/dataset/london.csv\\ntail -n 2 s3://abdbucketjddc/dataset/london.csv\\n'' returned non-zero exit status 1.",
     "output_type": "error",
     "traceback": [
      "\u001b[0;31m---------------------------------------------------------------------------\u001b[0m",
      "\u001b[0;31mCalledProcessError\u001b[0m                        Traceback (most recent call last)",
      "\u001b[0;32m<ipython-input-6-04afce31f0e5>\u001b[0m in \u001b[0;36m<module>\u001b[0;34m\u001b[0m\n\u001b[0;32m----> 1\u001b[0;31m \u001b[0mget_ipython\u001b[0m\u001b[0;34m(\u001b[0m\u001b[0;34m)\u001b[0m\u001b[0;34m.\u001b[0m\u001b[0mrun_cell_magic\u001b[0m\u001b[0;34m(\u001b[0m\u001b[0;34m'bash'\u001b[0m\u001b[0;34m,\u001b[0m \u001b[0;34m''\u001b[0m\u001b[0;34m,\u001b[0m \u001b[0;34m'head -n 2 s3://abdbucketjddc/dataset/london.csv\\ntail -n 2 s3://abdbucketjddc/dataset/london.csv\\n'\u001b[0m\u001b[0;34m)\u001b[0m\u001b[0;34m\u001b[0m\u001b[0;34m\u001b[0m\u001b[0m\n\u001b[0m",
      "\u001b[0;32m/mnt/notebook-env/lib/python3.7/site-packages/IPython/core/interactiveshell.py\u001b[0m in \u001b[0;36mrun_cell_magic\u001b[0;34m(self, magic_name, line, cell)\u001b[0m\n\u001b[1;32m   2417\u001b[0m             \u001b[0;32mwith\u001b[0m \u001b[0mself\u001b[0m\u001b[0;34m.\u001b[0m\u001b[0mbuiltin_trap\u001b[0m\u001b[0;34m:\u001b[0m\u001b[0;34m\u001b[0m\u001b[0;34m\u001b[0m\u001b[0m\n\u001b[1;32m   2418\u001b[0m                 \u001b[0margs\u001b[0m \u001b[0;34m=\u001b[0m \u001b[0;34m(\u001b[0m\u001b[0mmagic_arg_s\u001b[0m\u001b[0;34m,\u001b[0m \u001b[0mcell\u001b[0m\u001b[0;34m)\u001b[0m\u001b[0;34m\u001b[0m\u001b[0;34m\u001b[0m\u001b[0m\n\u001b[0;32m-> 2419\u001b[0;31m                 \u001b[0mresult\u001b[0m \u001b[0;34m=\u001b[0m \u001b[0mfn\u001b[0m\u001b[0;34m(\u001b[0m\u001b[0;34m*\u001b[0m\u001b[0margs\u001b[0m\u001b[0;34m,\u001b[0m \u001b[0;34m**\u001b[0m\u001b[0mkwargs\u001b[0m\u001b[0;34m)\u001b[0m\u001b[0;34m\u001b[0m\u001b[0;34m\u001b[0m\u001b[0m\n\u001b[0m\u001b[1;32m   2420\u001b[0m             \u001b[0;32mreturn\u001b[0m \u001b[0mresult\u001b[0m\u001b[0;34m\u001b[0m\u001b[0;34m\u001b[0m\u001b[0m\n\u001b[1;32m   2421\u001b[0m \u001b[0;34m\u001b[0m\u001b[0m\n",
      "\u001b[0;32m/mnt/notebook-env/lib/python3.7/site-packages/IPython/core/magics/script.py\u001b[0m in \u001b[0;36mnamed_script_magic\u001b[0;34m(line, cell)\u001b[0m\n\u001b[1;32m    140\u001b[0m             \u001b[0;32melse\u001b[0m\u001b[0;34m:\u001b[0m\u001b[0;34m\u001b[0m\u001b[0;34m\u001b[0m\u001b[0m\n\u001b[1;32m    141\u001b[0m                 \u001b[0mline\u001b[0m \u001b[0;34m=\u001b[0m \u001b[0mscript\u001b[0m\u001b[0;34m\u001b[0m\u001b[0;34m\u001b[0m\u001b[0m\n\u001b[0;32m--> 142\u001b[0;31m             \u001b[0;32mreturn\u001b[0m \u001b[0mself\u001b[0m\u001b[0;34m.\u001b[0m\u001b[0mshebang\u001b[0m\u001b[0;34m(\u001b[0m\u001b[0mline\u001b[0m\u001b[0;34m,\u001b[0m \u001b[0mcell\u001b[0m\u001b[0;34m)\u001b[0m\u001b[0;34m\u001b[0m\u001b[0;34m\u001b[0m\u001b[0m\n\u001b[0m\u001b[1;32m    143\u001b[0m \u001b[0;34m\u001b[0m\u001b[0m\n\u001b[1;32m    144\u001b[0m         \u001b[0;31m# write a basic docstring:\u001b[0m\u001b[0;34m\u001b[0m\u001b[0;34m\u001b[0m\u001b[0;34m\u001b[0m\u001b[0m\n",
      "\u001b[0;32m/mnt/notebook-env/lib/python3.7/site-packages/decorator.py\u001b[0m in \u001b[0;36mfun\u001b[0;34m(*args, **kw)\u001b[0m\n\u001b[1;32m    230\u001b[0m             \u001b[0;32mif\u001b[0m \u001b[0;32mnot\u001b[0m \u001b[0mkwsyntax\u001b[0m\u001b[0;34m:\u001b[0m\u001b[0;34m\u001b[0m\u001b[0;34m\u001b[0m\u001b[0m\n\u001b[1;32m    231\u001b[0m                 \u001b[0margs\u001b[0m\u001b[0;34m,\u001b[0m \u001b[0mkw\u001b[0m \u001b[0;34m=\u001b[0m \u001b[0mfix\u001b[0m\u001b[0;34m(\u001b[0m\u001b[0margs\u001b[0m\u001b[0;34m,\u001b[0m \u001b[0mkw\u001b[0m\u001b[0;34m,\u001b[0m \u001b[0msig\u001b[0m\u001b[0;34m)\u001b[0m\u001b[0;34m\u001b[0m\u001b[0;34m\u001b[0m\u001b[0m\n\u001b[0;32m--> 232\u001b[0;31m             \u001b[0;32mreturn\u001b[0m \u001b[0mcaller\u001b[0m\u001b[0;34m(\u001b[0m\u001b[0mfunc\u001b[0m\u001b[0;34m,\u001b[0m \u001b[0;34m*\u001b[0m\u001b[0;34m(\u001b[0m\u001b[0mextras\u001b[0m \u001b[0;34m+\u001b[0m \u001b[0margs\u001b[0m\u001b[0;34m)\u001b[0m\u001b[0;34m,\u001b[0m \u001b[0;34m**\u001b[0m\u001b[0mkw\u001b[0m\u001b[0;34m)\u001b[0m\u001b[0;34m\u001b[0m\u001b[0;34m\u001b[0m\u001b[0m\n\u001b[0m\u001b[1;32m    233\u001b[0m     \u001b[0mfun\u001b[0m\u001b[0;34m.\u001b[0m\u001b[0m__name__\u001b[0m \u001b[0;34m=\u001b[0m \u001b[0mfunc\u001b[0m\u001b[0;34m.\u001b[0m\u001b[0m__name__\u001b[0m\u001b[0;34m\u001b[0m\u001b[0;34m\u001b[0m\u001b[0m\n\u001b[1;32m    234\u001b[0m     \u001b[0mfun\u001b[0m\u001b[0;34m.\u001b[0m\u001b[0m__doc__\u001b[0m \u001b[0;34m=\u001b[0m \u001b[0mfunc\u001b[0m\u001b[0;34m.\u001b[0m\u001b[0m__doc__\u001b[0m\u001b[0;34m\u001b[0m\u001b[0;34m\u001b[0m\u001b[0m\n",
      "\u001b[0;32m/mnt/notebook-env/lib/python3.7/site-packages/IPython/core/magic.py\u001b[0m in \u001b[0;36m<lambda>\u001b[0;34m(f, *a, **k)\u001b[0m\n\u001b[1;32m    185\u001b[0m     \u001b[0;31m# but it's overkill for just that one bit of state.\u001b[0m\u001b[0;34m\u001b[0m\u001b[0;34m\u001b[0m\u001b[0;34m\u001b[0m\u001b[0m\n\u001b[1;32m    186\u001b[0m     \u001b[0;32mdef\u001b[0m \u001b[0mmagic_deco\u001b[0m\u001b[0;34m(\u001b[0m\u001b[0marg\u001b[0m\u001b[0;34m)\u001b[0m\u001b[0;34m:\u001b[0m\u001b[0;34m\u001b[0m\u001b[0;34m\u001b[0m\u001b[0m\n\u001b[0;32m--> 187\u001b[0;31m         \u001b[0mcall\u001b[0m \u001b[0;34m=\u001b[0m \u001b[0;32mlambda\u001b[0m \u001b[0mf\u001b[0m\u001b[0;34m,\u001b[0m \u001b[0;34m*\u001b[0m\u001b[0ma\u001b[0m\u001b[0;34m,\u001b[0m \u001b[0;34m**\u001b[0m\u001b[0mk\u001b[0m\u001b[0;34m:\u001b[0m \u001b[0mf\u001b[0m\u001b[0;34m(\u001b[0m\u001b[0;34m*\u001b[0m\u001b[0ma\u001b[0m\u001b[0;34m,\u001b[0m \u001b[0;34m**\u001b[0m\u001b[0mk\u001b[0m\u001b[0;34m)\u001b[0m\u001b[0;34m\u001b[0m\u001b[0;34m\u001b[0m\u001b[0m\n\u001b[0m\u001b[1;32m    188\u001b[0m \u001b[0;34m\u001b[0m\u001b[0m\n\u001b[1;32m    189\u001b[0m         \u001b[0;32mif\u001b[0m \u001b[0mcallable\u001b[0m\u001b[0;34m(\u001b[0m\u001b[0marg\u001b[0m\u001b[0;34m)\u001b[0m\u001b[0;34m:\u001b[0m\u001b[0;34m\u001b[0m\u001b[0;34m\u001b[0m\u001b[0m\n",
      "\u001b[0;32m/mnt/notebook-env/lib/python3.7/site-packages/IPython/core/magics/script.py\u001b[0m in \u001b[0;36mshebang\u001b[0;34m(self, line, cell)\u001b[0m\n\u001b[1;32m    243\u001b[0m             \u001b[0msys\u001b[0m\u001b[0;34m.\u001b[0m\u001b[0mstderr\u001b[0m\u001b[0;34m.\u001b[0m\u001b[0mflush\u001b[0m\u001b[0;34m(\u001b[0m\u001b[0;34m)\u001b[0m\u001b[0;34m\u001b[0m\u001b[0;34m\u001b[0m\u001b[0m\n\u001b[1;32m    244\u001b[0m         \u001b[0;32mif\u001b[0m \u001b[0margs\u001b[0m\u001b[0;34m.\u001b[0m\u001b[0mraise_error\u001b[0m \u001b[0;32mand\u001b[0m \u001b[0mp\u001b[0m\u001b[0;34m.\u001b[0m\u001b[0mreturncode\u001b[0m\u001b[0;34m!=\u001b[0m\u001b[0;36m0\u001b[0m\u001b[0;34m:\u001b[0m\u001b[0;34m\u001b[0m\u001b[0;34m\u001b[0m\u001b[0m\n\u001b[0;32m--> 245\u001b[0;31m             \u001b[0;32mraise\u001b[0m \u001b[0mCalledProcessError\u001b[0m\u001b[0;34m(\u001b[0m\u001b[0mp\u001b[0m\u001b[0;34m.\u001b[0m\u001b[0mreturncode\u001b[0m\u001b[0;34m,\u001b[0m \u001b[0mcell\u001b[0m\u001b[0;34m,\u001b[0m \u001b[0moutput\u001b[0m\u001b[0;34m=\u001b[0m\u001b[0mout\u001b[0m\u001b[0;34m,\u001b[0m \u001b[0mstderr\u001b[0m\u001b[0;34m=\u001b[0m\u001b[0merr\u001b[0m\u001b[0;34m)\u001b[0m\u001b[0;34m\u001b[0m\u001b[0;34m\u001b[0m\u001b[0m\n\u001b[0m\u001b[1;32m    246\u001b[0m \u001b[0;34m\u001b[0m\u001b[0m\n\u001b[1;32m    247\u001b[0m     \u001b[0;32mdef\u001b[0m \u001b[0m_run_script\u001b[0m\u001b[0;34m(\u001b[0m\u001b[0mself\u001b[0m\u001b[0;34m,\u001b[0m \u001b[0mp\u001b[0m\u001b[0;34m,\u001b[0m \u001b[0mcell\u001b[0m\u001b[0;34m,\u001b[0m \u001b[0mto_close\u001b[0m\u001b[0;34m)\u001b[0m\u001b[0;34m:\u001b[0m\u001b[0;34m\u001b[0m\u001b[0;34m\u001b[0m\u001b[0m\n",
      "\u001b[0;31mCalledProcessError\u001b[0m: Command 'b'head -n 2 s3://abdbucketjddc/dataset/london.csv\\ntail -n 2 s3://abdbucketjddc/dataset/london.csv\\n'' returned non-zero exit status 1."
     ]
    }
   ],
   "source": [
    "%%bash\n",
    "head -n 2 s3://abdbucketjddc/dataset/london.csv\n",
    "tail -n 2 s3://abdbucketjddc/dataset/london.csv"
   ]
  },
  {
   "cell_type": "code",
   "execution_count": null,
   "id": "95e69a3a-496b-4dbe-a541-8eda1d70cc70",
   "metadata": {
    "id": "95e69a3a-496b-4dbe-a541-8eda1d70cc70",
    "outputId": "38f2b7df-d82a-46d9-ec5a-50054356ce4a",
    "tags": []
   },
   "outputs": [
    {
     "name": "stdout",
     "output_type": "stream",
     "text": [
      "station_id,station_name,longitude,latitude\n",
      "1,\"River Street, Clerkenwell\",-0.109971,51.5292\n",
      "838,\"Fore Street Avenue, Guildhall\",-0.09140169999999999,51.518093\n",
      "839,\"Sea Containers, South Bank\",-0.1068403,51.507974\n"
     ]
    }
   ],
   "source": [
    "! head -n 2 csv/london_stations.csv\n",
    "! tail -n 2 csv/london_stations.csv"
   ]
  },
  {
   "cell_type": "code",
   "execution_count": null,
   "id": "9a06ec73-74cd-4772-94ce-a8a8acd1d381",
   "metadata": {
    "id": "9a06ec73-74cd-4772-94ce-a8a8acd1d381",
    "outputId": "6ea6ed28-12a6-4fb1-e498-a36fa260c38b",
    "tags": []
   },
   "outputs": [
    {
     "name": "stdout",
     "output_type": "stream",
     "text": [
      "date,cloud_cover,sunshine,global_radiation,max_temp,mean_temp,min_temp,precipitation,pressure,snow_depth\n",
      "19790101,2.0,7.0,52.0,2.3,-4.1,-7.5,0.4,101900.0,9.0\n",
      "20201230,6.0,0.4,22.0,5.6,2.7,-0.1,0.0,100200.0,\n",
      "20201231,7.0,1.3,34.0,1.5,-0.8,-3.1,0.0,100500.0,\n"
     ]
    }
   ],
   "source": [
    "! head -n 2 csv/london_weather.csv\n",
    "! tail -n 2 csv/london_weather.csv"
   ]
  },
  {
   "cell_type": "code",
   "execution_count": 7,
   "id": "f357e7c7-0bd6-45c4-a70b-fd73c66917fc",
   "metadata": {
    "id": "f357e7c7-0bd6-45c4-a70b-fd73c66917fc",
    "tags": []
   },
   "outputs": [
    {
     "data": {
      "application/vnd.jupyter.widget-view+json": {
       "model_id": "19275b9a995c47cdaf817acaca6ec1c1",
       "version_major": 2,
       "version_minor": 0
      },
      "text/plain": [
       "VBox()"
      ]
     },
     "metadata": {},
     "output_type": "display_data"
    },
    {
     "data": {
      "application/vnd.jupyter.widget-view+json": {
       "model_id": "",
       "version_major": 2,
       "version_minor": 0
      },
      "text/plain": [
       "FloatProgress(value=0.0, bar_style='info', description='Progress:', layout=Layout(height='25px', width='50%'),…"
      ]
     },
     "metadata": {},
     "output_type": "display_data"
    }
   ],
   "source": [
    "# Some Spark related imports we will use hereafter\n",
    "\n",
    "import sys\n",
    "\n",
    "from pyspark.sql import SparkSession\n",
    "import pyspark.sql.functions as F\n",
    "from pyspark.sql.types import *\n",
    "\n",
    "from pyspark.ml import Pipeline\n",
    "from pyspark.ml.stat import Correlation\n",
    "from pyspark.ml.feature import VectorAssembler, StringIndexer, OneHotEncoder\n",
    "from pyspark.ml.classification import LinearSVC\n",
    "from pyspark.ml.evaluation import BinaryClassificationEvaluator"
   ]
  },
  {
   "cell_type": "markdown",
   "id": "7a031ec3-35d0-44f7-b7bc-158b9c7f1da9",
   "metadata": {
    "id": "7a031ec3-35d0-44f7-b7bc-158b9c7f1da9"
   },
   "source": [
    "Lets read our files:"
   ]
  },
  {
   "cell_type": "code",
   "execution_count": 8,
   "id": "36eb5447-5e23-4650-bd21-6ea530cf9e77",
   "metadata": {
    "id": "36eb5447-5e23-4650-bd21-6ea530cf9e77",
    "outputId": "98150dbc-1da5-47ba-fd4f-47a3bbec2a05",
    "tags": []
   },
   "outputs": [
    {
     "data": {
      "application/vnd.jupyter.widget-view+json": {
       "model_id": "a65ad4b04abd48df880884d342b2aef7",
       "version_major": 2,
       "version_minor": 0
      },
      "text/plain": [
       "VBox()"
      ]
     },
     "metadata": {},
     "output_type": "display_data"
    },
    {
     "data": {
      "application/vnd.jupyter.widget-view+json": {
       "model_id": "",
       "version_major": 2,
       "version_minor": 0
      },
      "text/plain": [
       "FloatProgress(value=0.0, bar_style='info', description='Progress:', layout=Layout(height='25px', width='50%'),…"
      ]
     },
     "metadata": {},
     "output_type": "display_data"
    }
   ],
   "source": [
    "filename = 's3://abdbucketjddc/dataset/london.csv'\n",
    "london = spark.read.csv(filename, header=\"true\", inferSchema=\"true\", sep=',')"
   ]
  },
  {
   "cell_type": "code",
   "execution_count": 9,
   "id": "7a157aa4-09ca-49e8-ac4d-0c8847166681",
   "metadata": {
    "id": "7a157aa4-09ca-49e8-ac4d-0c8847166681",
    "tags": []
   },
   "outputs": [
    {
     "data": {
      "application/vnd.jupyter.widget-view+json": {
       "model_id": "59950b777358428fa3e403c44f1fde99",
       "version_major": 2,
       "version_minor": 0
      },
      "text/plain": [
       "VBox()"
      ]
     },
     "metadata": {},
     "output_type": "display_data"
    },
    {
     "data": {
      "application/vnd.jupyter.widget-view+json": {
       "model_id": "",
       "version_major": 2,
       "version_minor": 0
      },
      "text/plain": [
       "FloatProgress(value=0.0, bar_style='info', description='Progress:', layout=Layout(height='25px', width='50%'),…"
      ]
     },
     "metadata": {},
     "output_type": "display_data"
    }
   ],
   "source": [
    "filename = 's3://abdbucketjddc/dataset/london_stations.csv'\n",
    "stations = spark.read.csv(filename, header=\"true\", inferSchema=\"true\", sep=',')"
   ]
  },
  {
   "cell_type": "code",
   "execution_count": 10,
   "id": "265a6a74-1d15-4dca-b316-1703761dc2e8",
   "metadata": {
    "id": "265a6a74-1d15-4dca-b316-1703761dc2e8",
    "tags": []
   },
   "outputs": [
    {
     "data": {
      "application/vnd.jupyter.widget-view+json": {
       "model_id": "f8a473a574ed4cc7a37d0309ae88120a",
       "version_major": 2,
       "version_minor": 0
      },
      "text/plain": [
       "VBox()"
      ]
     },
     "metadata": {},
     "output_type": "display_data"
    },
    {
     "data": {
      "application/vnd.jupyter.widget-view+json": {
       "model_id": "",
       "version_major": 2,
       "version_minor": 0
      },
      "text/plain": [
       "FloatProgress(value=0.0, bar_style='info', description='Progress:', layout=Layout(height='25px', width='50%'),…"
      ]
     },
     "metadata": {},
     "output_type": "display_data"
    }
   ],
   "source": [
    "filename = 's3://abdbucketjddc/dataset/london_weather.csv'\n",
    "weather = spark.read.csv(filename, header=\"true\", inferSchema=\"true\", sep=',')"
   ]
  },
  {
   "cell_type": "markdown",
   "id": "515fbaeb-f930-4b1f-a55f-d73cf0681ded",
   "metadata": {
    "id": "515fbaeb-f930-4b1f-a55f-d73cf0681ded"
   },
   "source": [
    "### Lets analyze the structure of our datasets:"
   ]
  },
  {
   "cell_type": "markdown",
   "id": "cb2c53b9-6f55-4387-a580-9fb9e591319d",
   "metadata": {
    "id": "cb2c53b9-6f55-4387-a580-9fb9e591319d"
   },
   "source": [
    "#### Rentals:"
   ]
  },
  {
   "cell_type": "code",
   "execution_count": 11,
   "id": "22e8c3a4-4e12-481e-9308-42a9f17d734c",
   "metadata": {
    "id": "22e8c3a4-4e12-481e-9308-42a9f17d734c",
    "outputId": "4275121c-085b-4ee1-a2f2-257179331dd2",
    "tags": []
   },
   "outputs": [
    {
     "data": {
      "application/vnd.jupyter.widget-view+json": {
       "model_id": "e0d1dce66476429c89308f1456b115e5",
       "version_major": 2,
       "version_minor": 0
      },
      "text/plain": [
       "VBox()"
      ]
     },
     "metadata": {},
     "output_type": "display_data"
    },
    {
     "data": {
      "application/vnd.jupyter.widget-view+json": {
       "model_id": "",
       "version_major": 2,
       "version_minor": 0
      },
      "text/plain": [
       "FloatProgress(value=0.0, bar_style='info', description='Progress:', layout=Layout(height='25px', width='50%'),…"
      ]
     },
     "metadata": {},
     "output_type": "display_data"
    },
    {
     "name": "stdout",
     "output_type": "stream",
     "text": [
      "root\n",
      " |-- rental_id: integer (nullable = true)\n",
      " |-- duration: double (nullable = true)\n",
      " |-- bike_id: double (nullable = true)\n",
      " |-- end_rental_date_time: timestamp (nullable = true)\n",
      " |-- end_station_id: double (nullable = true)\n",
      " |-- end_station_name: string (nullable = true)\n",
      " |-- start_rental_date_time: timestamp (nullable = true)\n",
      " |-- start_station_id: integer (nullable = true)\n",
      " |-- start_station_name: string (nullable = true)\n",
      "\n",
      "None\n",
      "38215560"
     ]
    }
   ],
   "source": [
    "print(london.printSchema())\n",
    "london_count = london.count()\n",
    "london_count"
   ]
  },
  {
   "cell_type": "code",
   "execution_count": 12,
   "id": "cdf478ef-7b1f-41a3-abad-5d8cab5905e4",
   "metadata": {
    "id": "cdf478ef-7b1f-41a3-abad-5d8cab5905e4",
    "outputId": "2e85ec2d-d356-4363-9d52-7ca5edc2a722",
    "tags": []
   },
   "outputs": [
    {
     "data": {
      "application/vnd.jupyter.widget-view+json": {
       "model_id": "901b22a9139d44229565a57e459e9078",
       "version_major": 2,
       "version_minor": 0
      },
      "text/plain": [
       "VBox()"
      ]
     },
     "metadata": {},
     "output_type": "display_data"
    },
    {
     "data": {
      "application/vnd.jupyter.widget-view+json": {
       "model_id": "",
       "version_major": 2,
       "version_minor": 0
      },
      "text/plain": [
       "FloatProgress(value=0.0, bar_style='info', description='Progress:', layout=Layout(height='25px', width='50%'),…"
      ]
     },
     "metadata": {},
     "output_type": "display_data"
    },
    {
     "name": "stdout",
     "output_type": "stream",
     "text": [
      "-RECORD 0--------------------------------------\n",
      " rental_id              | 61343322             \n",
      " duration               | 60.0                 \n",
      " bike_id                | 12871.0              \n",
      " end_rental_date_time   | 2016-12-28 00:01:00  \n",
      " end_station_id         | 660.0                \n",
      " end_station_name       | West Kensington S... \n",
      " start_rental_date_time | 2016-12-28 00:00:00  \n",
      " start_station_id       | 633                  \n",
      " start_station_name     | Vereker Road Nort... \n",
      "-RECORD 1--------------------------------------\n",
      " rental_id              | 61343321             \n",
      " duration               | 300.0                \n",
      " bike_id                | 2837.0               \n",
      " end_rental_date_time   | 2016-12-28 00:05:00  \n",
      " end_station_id         | 763.0                \n",
      " end_station_name       | Mile End Park Lei... \n",
      " start_rental_date_time | 2016-12-28 00:00:00  \n",
      " start_station_id       | 531                  \n",
      " start_station_name     | Twig Folly Bridge... \n",
      "-RECORD 2--------------------------------------\n",
      " rental_id              | 61343323             \n",
      " duration               | 360.0                \n",
      " bike_id                | 1269.0               \n",
      " end_rental_date_time   | 2016-12-28 00:06:00  \n",
      " end_station_id         | 99.0                 \n",
      " end_station_name       | Old Quebec Street... \n",
      " start_rental_date_time | 2016-12-28 00:00:00  \n",
      " start_station_id       | 116                  \n",
      " start_station_name     | Little Argyll Str... \n",
      "-RECORD 3--------------------------------------\n",
      " rental_id              | 61343325             \n",
      " duration               | 1140.0               \n",
      " bike_id                | 4208.0               \n",
      " end_rental_date_time   | 2016-12-28 00:20:00  \n",
      " end_station_id         | 468.0                \n",
      " end_station_name       | Cantrell Road, Bow   \n",
      " start_rental_date_time | 2016-12-28 00:01:00  \n",
      " start_station_id       | 443                  \n",
      " start_station_name     | Philpot Street, W... \n",
      "-RECORD 4--------------------------------------\n",
      " rental_id              | 61343324             \n",
      " duration               | null                 \n",
      " bike_id                | 1406.0               \n",
      " end_rental_date_time   | null                 \n",
      " end_station_id         | null                 \n",
      " end_station_name       | null                 \n",
      " start_rental_date_time | 2016-12-28 00:01:00  \n",
      " start_station_id       | 319                  \n",
      " start_station_name     | Baldwin Street, S... \n",
      "-RECORD 5--------------------------------------\n",
      " rental_id              | 61343326             \n",
      " duration               | 1380.0               \n",
      " bike_id                | 11485.0              \n",
      " end_rental_date_time   | 2016-12-28 00:25:00  \n",
      " end_station_id         | 219.0                \n",
      " end_station_name       | Bramham Gardens, ... \n",
      " start_rental_date_time | 2016-12-28 00:02:00  \n",
      " start_station_id       | 116                  \n",
      " start_station_name     | Little Argyll Str... \n",
      "-RECORD 6--------------------------------------\n",
      " rental_id              | 61343327             \n",
      " duration               | 960.0                \n",
      " bike_id                | 7686.0               \n",
      " end_rental_date_time   | 2016-12-28 00:20:00  \n",
      " end_station_id         | 710.0                \n",
      " end_station_name       | Albert Bridge Roa... \n",
      " start_rental_date_time | 2016-12-28 00:04:00  \n",
      " start_station_id       | 74                   \n",
      " start_station_name     | Vauxhall Cross, V... \n",
      "-RECORD 7--------------------------------------\n",
      " rental_id              | 61343328             \n",
      " duration               | 720.0                \n",
      " bike_id                | 4192.0               \n",
      " end_rental_date_time   | 2016-12-28 00:16:00  \n",
      " end_station_id         | 260.0                \n",
      " end_station_name       | Broadwick Street,... \n",
      " start_rental_date_time | 2016-12-28 00:04:00  \n",
      " start_station_id       | 188                  \n",
      " start_station_name     | Nutford Place, Ma... \n",
      "-RECORD 8--------------------------------------\n",
      " rental_id              | 61343329             \n",
      " duration               | 780.0                \n",
      " bike_id                | 10103.0              \n",
      " end_rental_date_time   | 2016-12-28 00:18:00  \n",
      " end_station_id         | 233.0                \n",
      " end_station_name       | Pall Mall East, W... \n",
      " start_rental_date_time | 2016-12-28 00:05:00  \n",
      " start_station_id       | 68                   \n",
      " start_station_name     | Theobald's Road ,... \n",
      "-RECORD 9--------------------------------------\n",
      " rental_id              | 61343330             \n",
      " duration               | 180.0                \n",
      " bike_id                | 14189.0              \n",
      " end_rental_date_time   | 2016-12-28 00:08:00  \n",
      " end_station_id         | 275.0                \n",
      " end_station_name       | Barbican Centre, ... \n",
      " start_rental_date_time | 2016-12-28 00:05:00  \n",
      " start_station_id       | 95                   \n",
      " start_station_name     | Aldersgate Street... \n",
      "only showing top 10 rows"
     ]
    }
   ],
   "source": [
    "london.show(10, vertical=True)"
   ]
  },
  {
   "cell_type": "markdown",
   "id": "a8c26e75-9c07-4e47-b02c-b6bdcc64ff69",
   "metadata": {
    "id": "a8c26e75-9c07-4e47-b02c-b6bdcc64ff69"
   },
   "source": [
    "#### Stations:"
   ]
  },
  {
   "cell_type": "code",
   "execution_count": 13,
   "id": "b49db3f4-2543-4f1a-ab88-3774f14dadd1",
   "metadata": {
    "id": "b49db3f4-2543-4f1a-ab88-3774f14dadd1",
    "outputId": "bb3764dc-a935-4172-c3d7-080350eae4e5",
    "tags": []
   },
   "outputs": [
    {
     "data": {
      "application/vnd.jupyter.widget-view+json": {
       "model_id": "c7cb82e2d53048e7b1fb30c6c0166060",
       "version_major": 2,
       "version_minor": 0
      },
      "text/plain": [
       "VBox()"
      ]
     },
     "metadata": {},
     "output_type": "display_data"
    },
    {
     "data": {
      "application/vnd.jupyter.widget-view+json": {
       "model_id": "",
       "version_major": 2,
       "version_minor": 0
      },
      "text/plain": [
       "FloatProgress(value=0.0, bar_style='info', description='Progress:', layout=Layout(height='25px', width='50%'),…"
      ]
     },
     "metadata": {},
     "output_type": "display_data"
    },
    {
     "name": "stdout",
     "output_type": "stream",
     "text": [
      "root\n",
      " |-- station_id: integer (nullable = true)\n",
      " |-- station_name: string (nullable = true)\n",
      " |-- longitude: double (nullable = true)\n",
      " |-- latitude: double (nullable = true)\n",
      "\n",
      "None\n",
      "802"
     ]
    }
   ],
   "source": [
    "print(stations.printSchema())\n",
    "stations_count = stations.count()\n",
    "stations_count"
   ]
  },
  {
   "cell_type": "code",
   "execution_count": 14,
   "id": "339a20a6-2946-4092-9c04-0c002e548b49",
   "metadata": {
    "id": "339a20a6-2946-4092-9c04-0c002e548b49",
    "outputId": "844f0ad8-7c6d-46db-94e9-a80afb56209e",
    "tags": []
   },
   "outputs": [
    {
     "data": {
      "application/vnd.jupyter.widget-view+json": {
       "model_id": "abecaceb7cc042669f9a68ef2e8130f0",
       "version_major": 2,
       "version_minor": 0
      },
      "text/plain": [
       "VBox()"
      ]
     },
     "metadata": {},
     "output_type": "display_data"
    },
    {
     "data": {
      "application/vnd.jupyter.widget-view+json": {
       "model_id": "",
       "version_major": 2,
       "version_minor": 0
      },
      "text/plain": [
       "FloatProgress(value=0.0, bar_style='info', description='Progress:', layout=Layout(height='25px', width='50%'),…"
      ]
     },
     "metadata": {},
     "output_type": "display_data"
    },
    {
     "name": "stdout",
     "output_type": "stream",
     "text": [
      "-RECORD 0----------------------------\n",
      " station_id   | 1                    \n",
      " station_name | River Street, Cle... \n",
      " longitude    | -0.109971            \n",
      " latitude     | 51.5292              \n",
      "-RECORD 1----------------------------\n",
      " station_id   | 2                    \n",
      " station_name | Phillimore Garden... \n",
      " longitude    | -0.197574            \n",
      " latitude     | 51.4996              \n",
      "-RECORD 2----------------------------\n",
      " station_id   | 3                    \n",
      " station_name | Christopher Stree... \n",
      " longitude    | -0.0846057           \n",
      " latitude     | 51.5213              \n",
      "-RECORD 3----------------------------\n",
      " station_id   | 4                    \n",
      " station_name | St. Chad's Street... \n",
      " longitude    | -0.120974            \n",
      " latitude     | 51.5301              \n",
      "-RECORD 4----------------------------\n",
      " station_id   | 5                    \n",
      " station_name | Sedding Street, S... \n",
      " longitude    | -0.156876            \n",
      " latitude     | 51.4931              \n",
      "-RECORD 5----------------------------\n",
      " station_id   | 6                    \n",
      " station_name | Broadcasting Hous... \n",
      " longitude    | -0.144229            \n",
      " latitude     | 51.5181              \n",
      "-RECORD 6----------------------------\n",
      " station_id   | 7                    \n",
      " station_name | Charlbert Street,... \n",
      " longitude    | -0.168074            \n",
      " latitude     | 51.5343              \n",
      "-RECORD 7----------------------------\n",
      " station_id   | 8                    \n",
      " station_name | Maida Vale, Maida... \n",
      " longitude    | -0.18348599999999998 \n",
      " latitude     | 51.529857            \n",
      "-RECORD 8----------------------------\n",
      " station_id   | 9                    \n",
      " station_name | New Globe Walk, B... \n",
      " longitude    | -0.09644080000000001 \n",
      " latitude     | 51.5074              \n",
      "-RECORD 9----------------------------\n",
      " station_id   | 10                   \n",
      " station_name | Park Street, Bank... \n",
      " longitude    | -0.0927542           \n",
      " latitude     | 51.506               \n",
      "only showing top 10 rows"
     ]
    }
   ],
   "source": [
    "stations.show(10, vertical=True)"
   ]
  },
  {
   "cell_type": "markdown",
   "id": "a7e20483-8226-44d1-bb43-7e626e21275e",
   "metadata": {
    "id": "a7e20483-8226-44d1-bb43-7e626e21275e"
   },
   "source": [
    "#### Weather"
   ]
  },
  {
   "cell_type": "code",
   "execution_count": 15,
   "id": "afac0f7f-4d48-4694-891c-29bc3685a400",
   "metadata": {
    "id": "afac0f7f-4d48-4694-891c-29bc3685a400",
    "outputId": "d5a14d7d-9183-4d14-a96f-9124d03b1063",
    "tags": []
   },
   "outputs": [
    {
     "data": {
      "application/vnd.jupyter.widget-view+json": {
       "model_id": "53efe31cc817420c87a2e19f3e627bac",
       "version_major": 2,
       "version_minor": 0
      },
      "text/plain": [
       "VBox()"
      ]
     },
     "metadata": {},
     "output_type": "display_data"
    },
    {
     "data": {
      "application/vnd.jupyter.widget-view+json": {
       "model_id": "",
       "version_major": 2,
       "version_minor": 0
      },
      "text/plain": [
       "FloatProgress(value=0.0, bar_style='info', description='Progress:', layout=Layout(height='25px', width='50%'),…"
      ]
     },
     "metadata": {},
     "output_type": "display_data"
    },
    {
     "name": "stdout",
     "output_type": "stream",
     "text": [
      "root\n",
      " |-- date: integer (nullable = true)\n",
      " |-- cloud_cover: double (nullable = true)\n",
      " |-- sunshine: double (nullable = true)\n",
      " |-- global_radiation: double (nullable = true)\n",
      " |-- max_temp: double (nullable = true)\n",
      " |-- mean_temp: double (nullable = true)\n",
      " |-- min_temp: double (nullable = true)\n",
      " |-- precipitation: double (nullable = true)\n",
      " |-- pressure: double (nullable = true)\n",
      " |-- snow_depth: double (nullable = true)\n",
      "\n",
      "None\n",
      "15341"
     ]
    }
   ],
   "source": [
    "print(weather.printSchema())\n",
    "weather_count = weather.count()\n",
    "weather_count"
   ]
  },
  {
   "cell_type": "code",
   "execution_count": 16,
   "id": "69e219e9-8ded-429a-8a77-669e2a2815b7",
   "metadata": {
    "id": "69e219e9-8ded-429a-8a77-669e2a2815b7",
    "outputId": "dabace38-c97b-486c-beec-71684ad81f35",
    "tags": []
   },
   "outputs": [
    {
     "data": {
      "application/vnd.jupyter.widget-view+json": {
       "model_id": "f3533ce0ebb04d8cb9c887e27b8729df",
       "version_major": 2,
       "version_minor": 0
      },
      "text/plain": [
       "VBox()"
      ]
     },
     "metadata": {},
     "output_type": "display_data"
    },
    {
     "data": {
      "application/vnd.jupyter.widget-view+json": {
       "model_id": "",
       "version_major": 2,
       "version_minor": 0
      },
      "text/plain": [
       "FloatProgress(value=0.0, bar_style='info', description='Progress:', layout=Layout(height='25px', width='50%'),…"
      ]
     },
     "metadata": {},
     "output_type": "display_data"
    },
    {
     "name": "stdout",
     "output_type": "stream",
     "text": [
      "-RECORD 0--------------------\n",
      " date             | 19790101 \n",
      " cloud_cover      | 2.0      \n",
      " sunshine         | 7.0      \n",
      " global_radiation | 52.0     \n",
      " max_temp         | 2.3      \n",
      " mean_temp        | -4.1     \n",
      " min_temp         | -7.5     \n",
      " precipitation    | 0.4      \n",
      " pressure         | 101900.0 \n",
      " snow_depth       | 9.0      \n",
      "-RECORD 1--------------------\n",
      " date             | 19790102 \n",
      " cloud_cover      | 6.0      \n",
      " sunshine         | 1.7      \n",
      " global_radiation | 27.0     \n",
      " max_temp         | 1.6      \n",
      " mean_temp        | -2.6     \n",
      " min_temp         | -7.5     \n",
      " precipitation    | 0.0      \n",
      " pressure         | 102530.0 \n",
      " snow_depth       | 8.0      \n",
      "-RECORD 2--------------------\n",
      " date             | 19790103 \n",
      " cloud_cover      | 5.0      \n",
      " sunshine         | 0.0      \n",
      " global_radiation | 13.0     \n",
      " max_temp         | 1.3      \n",
      " mean_temp        | -2.8     \n",
      " min_temp         | -7.2     \n",
      " precipitation    | 0.0      \n",
      " pressure         | 102050.0 \n",
      " snow_depth       | 4.0      \n",
      "-RECORD 3--------------------\n",
      " date             | 19790104 \n",
      " cloud_cover      | 8.0      \n",
      " sunshine         | 0.0      \n",
      " global_radiation | 13.0     \n",
      " max_temp         | -0.3     \n",
      " mean_temp        | -2.6     \n",
      " min_temp         | -6.5     \n",
      " precipitation    | 0.0      \n",
      " pressure         | 100840.0 \n",
      " snow_depth       | 2.0      \n",
      "-RECORD 4--------------------\n",
      " date             | 19790105 \n",
      " cloud_cover      | 6.0      \n",
      " sunshine         | 2.0      \n",
      " global_radiation | 29.0     \n",
      " max_temp         | 5.6      \n",
      " mean_temp        | -0.8     \n",
      " min_temp         | -1.4     \n",
      " precipitation    | 0.0      \n",
      " pressure         | 102250.0 \n",
      " snow_depth       | 1.0      \n",
      "-RECORD 5--------------------\n",
      " date             | 19790106 \n",
      " cloud_cover      | 5.0      \n",
      " sunshine         | 3.8      \n",
      " global_radiation | 39.0     \n",
      " max_temp         | 8.3      \n",
      " mean_temp        | -0.5     \n",
      " min_temp         | -6.6     \n",
      " precipitation    | 0.7      \n",
      " pressure         | 102780.0 \n",
      " snow_depth       | 1.0      \n",
      "-RECORD 6--------------------\n",
      " date             | 19790107 \n",
      " cloud_cover      | 8.0      \n",
      " sunshine         | 0.0      \n",
      " global_radiation | 13.0     \n",
      " max_temp         | 8.5      \n",
      " mean_temp        | 1.5      \n",
      " min_temp         | -5.3     \n",
      " precipitation    | 5.2      \n",
      " pressure         | 102520.0 \n",
      " snow_depth       | 0.0      \n",
      "-RECORD 7--------------------\n",
      " date             | 19790108 \n",
      " cloud_cover      | 8.0      \n",
      " sunshine         | 0.1      \n",
      " global_radiation | 15.0     \n",
      " max_temp         | 5.8      \n",
      " mean_temp        | 6.9      \n",
      " min_temp         | 5.3      \n",
      " precipitation    | 0.8      \n",
      " pressure         | 101870.0 \n",
      " snow_depth       | 0.0      \n",
      "-RECORD 8--------------------\n",
      " date             | 19790109 \n",
      " cloud_cover      | 4.0      \n",
      " sunshine         | 5.8      \n",
      " global_radiation | 50.0     \n",
      " max_temp         | 5.2      \n",
      " mean_temp        | 3.7      \n",
      " min_temp         | 1.6      \n",
      " precipitation    | 7.2      \n",
      " pressure         | 101170.0 \n",
      " snow_depth       | 0.0      \n",
      "-RECORD 9--------------------\n",
      " date             | 19790110 \n",
      " cloud_cover      | 7.0      \n",
      " sunshine         | 1.9      \n",
      " global_radiation | 30.0     \n",
      " max_temp         | 4.9      \n",
      " mean_temp        | 3.3      \n",
      " min_temp         | 1.4      \n",
      " precipitation    | 2.1      \n",
      " pressure         | 98700.0  \n",
      " snow_depth       | 0.0      \n",
      "only showing top 10 rows"
     ]
    }
   ],
   "source": [
    "weather.show(10, vertical=True)"
   ]
  },
  {
   "cell_type": "markdown",
   "id": "f5e9832c-e2f8-4b25-a1d3-3cc066148118",
   "metadata": {
    "id": "f5e9832c-e2f8-4b25-a1d3-3cc066148118",
    "tags": []
   },
   "source": [
    "### NULL Values"
   ]
  },
  {
   "cell_type": "code",
   "execution_count": 17,
   "id": "57d2f6da-df08-4979-b60f-22cb17e4d649",
   "metadata": {
    "id": "57d2f6da-df08-4979-b60f-22cb17e4d649",
    "outputId": "1d33e21a-de03-41af-dc66-63c29eb38c63",
    "tags": []
   },
   "outputs": [
    {
     "data": {
      "application/vnd.jupyter.widget-view+json": {
       "model_id": "8f21a235d01d497ca629a22db8865a64",
       "version_major": 2,
       "version_minor": 0
      },
      "text/plain": [
       "VBox()"
      ]
     },
     "metadata": {},
     "output_type": "display_data"
    },
    {
     "data": {
      "application/vnd.jupyter.widget-view+json": {
       "model_id": "",
       "version_major": 2,
       "version_minor": 0
      },
      "text/plain": [
       "FloatProgress(value=0.0, bar_style='info', description='Progress:', layout=Layout(height='25px', width='50%'),…"
      ]
     },
     "metadata": {},
     "output_type": "display_data"
    },
    {
     "name": "stdout",
     "output_type": "stream",
     "text": [
      "\n",
      "Nulls in Rentals:\n",
      "Column duration with 67617 nulls or NaN, out of 38215560 records (0.18%)\n",
      "Column bike_id with 17 nulls or NaN, out of 38215560 records (0.00%)\n",
      "Column end_rental_date_time with 67617 nulls or NaN, out of 38215560 records (0.18%)\n",
      "Column end_station_id with 68213 nulls or NaN, out of 38215560 records (0.18%)\n",
      "Column end_station_name with 68213 nulls or NaN, out of 38215560 records (0.18%)"
     ]
    }
   ],
   "source": [
    "print('\\nNulls in Rentals:')\n",
    "cols_to_forget = []\n",
    "rentals_cols_interest = [x for x in london.columns if x not in cols_to_forget]\n",
    "for cl in rentals_cols_interest:\n",
    "    k = london.select(cl).filter(F.col(cl).isNull()).count()\n",
    "    if k > 0:\n",
    "        print(f'Column {cl} with {k} nulls or NaN, out of {london_count} records ({k*100/london_count:.2f}%)')"
   ]
  },
  {
   "cell_type": "code",
   "execution_count": 18,
   "id": "6fe0fa71-78a5-43f0-8c0a-298f4052c0da",
   "metadata": {
    "id": "6fe0fa71-78a5-43f0-8c0a-298f4052c0da",
    "outputId": "6fde0e37-9f56-46ca-fd5d-b8fd82a5d126",
    "tags": []
   },
   "outputs": [
    {
     "data": {
      "application/vnd.jupyter.widget-view+json": {
       "model_id": "83f72f8ad60f457a9e0d732924635a60",
       "version_major": 2,
       "version_minor": 0
      },
      "text/plain": [
       "VBox()"
      ]
     },
     "metadata": {},
     "output_type": "display_data"
    },
    {
     "data": {
      "application/vnd.jupyter.widget-view+json": {
       "model_id": "",
       "version_major": 2,
       "version_minor": 0
      },
      "text/plain": [
       "FloatProgress(value=0.0, bar_style='info', description='Progress:', layout=Layout(height='25px', width='50%'),…"
      ]
     },
     "metadata": {},
     "output_type": "display_data"
    },
    {
     "name": "stdout",
     "output_type": "stream",
     "text": [
      "\n",
      "Nulls in Stations:"
     ]
    }
   ],
   "source": [
    "print('\\nNulls in Stations:')\n",
    "cols_to_forget = []\n",
    "stations_cols_interest = [x for x in stations.columns if x not in cols_to_forget]\n",
    "for cl in stations_cols_interest:\n",
    "    k = stations.select(cl).filter(F.col(cl).isNull()).count()\n",
    "    if k > 0:\n",
    "        print(f'Column {cl} with {k} nulls or NaN, out of {stations_count} records ({k*100/stations_count:.2f}%)')"
   ]
  },
  {
   "cell_type": "code",
   "execution_count": 19,
   "id": "8a7bbaba-2758-4245-b40d-06254bab643d",
   "metadata": {
    "id": "8a7bbaba-2758-4245-b40d-06254bab643d",
    "outputId": "2e2af9f2-1648-4a5f-e383-4b0da9a15603",
    "tags": []
   },
   "outputs": [
    {
     "data": {
      "application/vnd.jupyter.widget-view+json": {
       "model_id": "13b8d80bc48648c88f8654589619b540",
       "version_major": 2,
       "version_minor": 0
      },
      "text/plain": [
       "VBox()"
      ]
     },
     "metadata": {},
     "output_type": "display_data"
    },
    {
     "data": {
      "application/vnd.jupyter.widget-view+json": {
       "model_id": "",
       "version_major": 2,
       "version_minor": 0
      },
      "text/plain": [
       "FloatProgress(value=0.0, bar_style='info', description='Progress:', layout=Layout(height='25px', width='50%'),…"
      ]
     },
     "metadata": {},
     "output_type": "display_data"
    },
    {
     "name": "stdout",
     "output_type": "stream",
     "text": [
      "\n",
      "Nulls in Weather:\n",
      "Column cloud_cover with 19 nulls or NaN, out of 15341 records (0.12%)\n",
      "Column global_radiation with 19 nulls or NaN, out of 15341 records (0.12%)\n",
      "Column max_temp with 6 nulls or NaN, out of 15341 records (0.04%)\n",
      "Column mean_temp with 36 nulls or NaN, out of 15341 records (0.23%)\n",
      "Column min_temp with 2 nulls or NaN, out of 15341 records (0.01%)\n",
      "Column precipitation with 6 nulls or NaN, out of 15341 records (0.04%)\n",
      "Column pressure with 4 nulls or NaN, out of 15341 records (0.03%)\n",
      "Column snow_depth with 1441 nulls or NaN, out of 15341 records (9.39%)"
     ]
    }
   ],
   "source": [
    "print('\\nNulls in Weather:')\n",
    "weather_count = weather.count()\n",
    "cols_to_forget = []\n",
    "weather_cols_interest = [x for x in weather.columns if x not in cols_to_forget]\n",
    "for cl in weather_cols_interest:\n",
    "    k = weather.select(cl).filter(F.col(cl).isNull()).count()\n",
    "    if k > 0:\n",
    "        print(f'Column {cl} with {k} nulls or NaN, out of {weather_count} records ({k*100/weather_count:.2f}%)')"
   ]
  },
  {
   "cell_type": "markdown",
   "id": "687333ae-25bc-4dcd-8356-8d8751bb2988",
   "metadata": {
    "id": "687333ae-25bc-4dcd-8356-8d8751bb2988"
   },
   "source": [
    "'snow_depth' better to remove. \n",
    "Let´s analyze if we can fill the other features with null values"
   ]
  },
  {
   "cell_type": "markdown",
   "id": "490296a2-2378-48a9-9790-9551375b3a36",
   "metadata": {
    "id": "490296a2-2378-48a9-9790-9551375b3a36"
   },
   "source": [
    "#### Check for outliers"
   ]
  },
  {
   "cell_type": "code",
   "execution_count": 20,
   "id": "26165cbd-7986-447c-b70d-374c66b380af",
   "metadata": {
    "id": "26165cbd-7986-447c-b70d-374c66b380af",
    "outputId": "f5bece38-c016-41d8-cd3b-8318511d189d",
    "tags": []
   },
   "outputs": [
    {
     "data": {
      "application/vnd.jupyter.widget-view+json": {
       "model_id": "dcb94a28085f42549fb18316e9fbfb39",
       "version_major": 2,
       "version_minor": 0
      },
      "text/plain": [
       "VBox()"
      ]
     },
     "metadata": {},
     "output_type": "display_data"
    },
    {
     "data": {
      "application/vnd.jupyter.widget-view+json": {
       "model_id": "",
       "version_major": 2,
       "version_minor": 0
      },
      "text/plain": [
       "FloatProgress(value=0.0, bar_style='info', description='Progress:', layout=Layout(height='25px', width='50%'),…"
      ]
     },
     "metadata": {},
     "output_type": "display_data"
    },
    {
     "name": "stdout",
     "output_type": "stream",
     "text": [
      "\n",
      "Feature describe for Rentals:\n",
      "-RECORD 0----------------------------------\n",
      " summary            | count                \n",
      " rental_id          | 38215560             \n",
      " duration           | 38147943             \n",
      " bike_id            | 38215543             \n",
      " end_station_id     | 38147347             \n",
      " end_station_name   | 38147347             \n",
      " start_station_id   | 38215560             \n",
      " start_station_name | 38215560             \n",
      "-RECORD 1----------------------------------\n",
      " summary            | mean                 \n",
      " rental_id          | 8.138741601914042E7  \n",
      " duration           | 1286.4046914665885   \n",
      " bike_id            | 8741.978706412729    \n",
      " end_station_id     | 373.7964623594925    \n",
      " end_station_name   | null                 \n",
      " start_station_id   | 375.993760133307     \n",
      " start_station_name | null                 \n",
      "-RECORD 2----------------------------------\n",
      " summary            | stddev               \n",
      " rental_id          | 1.1536705978260422E7 \n",
      " duration           | 4058.5640765654603   \n",
      " bike_id            | 4935.785460330394    \n",
      " end_station_id     | 242.42057504066813   \n",
      " end_station_name   | null                 \n",
      " start_station_id   | 242.11116856831276   \n",
      " start_station_name | null                 \n",
      "-RECORD 3----------------------------------\n",
      " summary            | min                  \n",
      " rental_id          | 61343321             \n",
      " duration           | -3360.0              \n",
      " bike_id            | 1.0                  \n",
      " end_station_id     | 1.0                  \n",
      " end_station_name   | Abbey Orchard Str... \n",
      " start_station_id   | 1                    \n",
      " start_station_name | Abbey Orchard Str... \n",
      "-RECORD 4----------------------------------\n",
      " summary            | max                  \n",
      " rental_id          | 101367999            \n",
      " duration           | 1984694.0            \n",
      " bike_id            | 18512.0              \n",
      " end_station_id     | 839.0                \n",
      " end_station_name   | York Way, Kings C... \n",
      " start_station_id   | 839                  \n",
      " start_station_name | York Way, Kings C..."
     ]
    }
   ],
   "source": [
    "cols_interest = []\n",
    "print('\\nFeature describe for Rentals:')\n",
    "london.describe().show(vertical=True)"
   ]
  },
  {
   "cell_type": "code",
   "execution_count": 21,
   "id": "4d0c6da1-418d-457f-a12f-99c16e7ebfca",
   "metadata": {
    "id": "4d0c6da1-418d-457f-a12f-99c16e7ebfca",
    "outputId": "dd1248b6-63f0-4be5-8120-098da7ab7204",
    "tags": []
   },
   "outputs": [
    {
     "data": {
      "application/vnd.jupyter.widget-view+json": {
       "model_id": "6f18c7d4e97c41ebbc136ed9d122fe7c",
       "version_major": 2,
       "version_minor": 0
      },
      "text/plain": [
       "VBox()"
      ]
     },
     "metadata": {},
     "output_type": "display_data"
    },
    {
     "data": {
      "application/vnd.jupyter.widget-view+json": {
       "model_id": "",
       "version_major": 2,
       "version_minor": 0
      },
      "text/plain": [
       "FloatProgress(value=0.0, bar_style='info', description='Progress:', layout=Layout(height='25px', width='50%'),…"
      ]
     },
     "metadata": {},
     "output_type": "display_data"
    },
    {
     "name": "stdout",
     "output_type": "stream",
     "text": [
      "\n",
      "Feature describe for Stations:\n",
      "-RECORD 0----------------------------\n",
      " summary      | count                \n",
      " station_id   | 802                  \n",
      " station_name | 802                  \n",
      " longitude    | 802                  \n",
      " latitude     | 802                  \n",
      "-RECORD 1----------------------------\n",
      " summary      | mean                 \n",
      " station_id   | 418.5224438902743    \n",
      " station_name | null                 \n",
      " longitude    | -0.12803249000997505 \n",
      " latitude     | 51.5057102121322     \n",
      "-RECORD 2----------------------------\n",
      " summary      | stddev               \n",
      " station_id   | 243.94179248820723   \n",
      " station_name | null                 \n",
      " longitude    | 0.05524560719993001  \n",
      " latitude     | 0.021132255816371483 \n",
      "-RECORD 3----------------------------\n",
      " summary      | min                  \n",
      " station_id   | 1                    \n",
      " station_name | Abbey Orchard Str... \n",
      " longitude    | -0.23676999999999998 \n",
      " latitude     | 51.3341              \n",
      "-RECORD 4----------------------------\n",
      " summary      | max                  \n",
      " station_id   | 839                  \n",
      " station_name | York Way, Kings C... \n",
      " longitude    | -0.002275            \n",
      " latitude     | 51.5494"
     ]
    }
   ],
   "source": [
    "cols_interest = []\n",
    "print('\\nFeature describe for Stations:')\n",
    "stations.describe().show(vertical=True)"
   ]
  },
  {
   "cell_type": "markdown",
   "id": "40445cac-56fa-4a2c-8308-e4676a9b9f2e",
   "metadata": {
    "id": "40445cac-56fa-4a2c-8308-e4676a9b9f2e",
    "tags": []
   },
   "source": [
    "A duration of 1984694 seconds, seems like an outlier"
   ]
  },
  {
   "cell_type": "code",
   "execution_count": 22,
   "id": "85d964a8-2a60-40f8-8ada-09b6a5c7edc9",
   "metadata": {
    "id": "85d964a8-2a60-40f8-8ada-09b6a5c7edc9",
    "outputId": "e195d65d-0e1d-4126-9a6a-b0845da233e2",
    "tags": []
   },
   "outputs": [
    {
     "data": {
      "application/vnd.jupyter.widget-view+json": {
       "model_id": "637479d885274fb98415e9bbc6b2e039",
       "version_major": 2,
       "version_minor": 0
      },
      "text/plain": [
       "VBox()"
      ]
     },
     "metadata": {},
     "output_type": "display_data"
    },
    {
     "data": {
      "application/vnd.jupyter.widget-view+json": {
       "model_id": "",
       "version_major": 2,
       "version_minor": 0
      },
      "text/plain": [
       "FloatProgress(value=0.0, bar_style='info', description='Progress:', layout=Layout(height='25px', width='50%'),…"
      ]
     },
     "metadata": {},
     "output_type": "display_data"
    },
    {
     "name": "stdout",
     "output_type": "stream",
     "text": [
      "\n",
      "Feature describe for Weather:\n",
      "-RECORD 0-------------------------------\n",
      " summary          | count               \n",
      " date             | 15341               \n",
      " cloud_cover      | 15322               \n",
      " sunshine         | 15341               \n",
      " global_radiation | 15322               \n",
      " max_temp         | 15335               \n",
      " mean_temp        | 15305               \n",
      " min_temp         | 15339               \n",
      " precipitation    | 15335               \n",
      " pressure         | 15337               \n",
      " snow_depth       | 13900               \n",
      "-RECORD 1-------------------------------\n",
      " summary          | mean                \n",
      " date             | 1.999567159344241E7 \n",
      " cloud_cover      | 5.268241743897663   \n",
      " sunshine         | 4.350237924515966   \n",
      " global_radiation | 118.75695078971414  \n",
      " max_temp         | 15.388777306814523  \n",
      " mean_temp        | 11.475511270826521  \n",
      " min_temp         | 7.559867005671808   \n",
      " precipitation    | 1.6686338441474187  \n",
      " pressure         | 101536.6055943144   \n",
      " snow_depth       | 0.03798561151079137 \n",
      "-RECORD 2-------------------------------\n",
      " summary          | stddev              \n",
      " date             | 121217.55827681546  \n",
      " cloud_cover      | 2.0700721035686156  \n",
      " sunshine         | 4.028339404679589   \n",
      " global_radiation | 88.89827186362788   \n",
      " max_temp         | 6.554753578982621   \n",
      " mean_temp        | 5.729708517751966   \n",
      " min_temp         | 5.32675580728827    \n",
      " precipitation    | 3.738540011689818   \n",
      " pressure         | 1049.722604365711   \n",
      " snow_depth       | 0.5456328457172575  \n",
      "-RECORD 3-------------------------------\n",
      " summary          | min                 \n",
      " date             | 19790101            \n",
      " cloud_cover      | 0.0                 \n",
      " sunshine         | 0.0                 \n",
      " global_radiation | 8.0                 \n",
      " max_temp         | -6.2                \n",
      " mean_temp        | -7.6                \n",
      " min_temp         | -11.8               \n",
      " precipitation    | 0.0                 \n",
      " pressure         | 95960.0             \n",
      " snow_depth       | 0.0                 \n",
      "-RECORD 4-------------------------------\n",
      " summary          | max                 \n",
      " date             | 20201231            \n",
      " cloud_cover      | 9.0                 \n",
      " sunshine         | 16.0                \n",
      " global_radiation | 402.0               \n",
      " max_temp         | 37.9                \n",
      " mean_temp        | 29.0                \n",
      " min_temp         | 22.3                \n",
      " precipitation    | 61.8                \n",
      " pressure         | 104820.0            \n",
      " snow_depth       | 22.0"
     ]
    }
   ],
   "source": [
    "print('\\nFeature describe for Weather:')\n",
    "weather.describe().show(vertical=True)"
   ]
  },
  {
   "cell_type": "markdown",
   "id": "d2dd9eef-13ea-4789-b3dd-a5a97f6876ec",
   "metadata": {
    "id": "d2dd9eef-13ea-4789-b3dd-a5a97f6876ec"
   },
   "source": [
    "#### Unique values"
   ]
  },
  {
   "cell_type": "code",
   "execution_count": 23,
   "id": "efcf4e9d-20a3-4fc2-ba3c-d2dcaefe69c4",
   "metadata": {
    "id": "efcf4e9d-20a3-4fc2-ba3c-d2dcaefe69c4",
    "outputId": "ded1c32f-cbd2-4ac9-c8fe-e0cac3b26402",
    "tags": []
   },
   "outputs": [
    {
     "data": {
      "application/vnd.jupyter.widget-view+json": {
       "model_id": "95b77604adc14c79a7a5f70ca2b37ef0",
       "version_major": 2,
       "version_minor": 0
      },
      "text/plain": [
       "VBox()"
      ]
     },
     "metadata": {},
     "output_type": "display_data"
    },
    {
     "data": {
      "application/vnd.jupyter.widget-view+json": {
       "model_id": "",
       "version_major": 2,
       "version_minor": 0
      },
      "text/plain": [
       "FloatProgress(value=0.0, bar_style='info', description='Progress:', layout=Layout(height='25px', width='50%'),…"
      ]
     },
     "metadata": {},
     "output_type": "display_data"
    }
   ],
   "source": [
    "columns = [x for x in london.columns]\n",
    "london_count = london.count()"
   ]
  },
  {
   "cell_type": "code",
   "execution_count": 24,
   "id": "f88700a3-863c-40da-af16-f258ad010d31",
   "metadata": {
    "id": "f88700a3-863c-40da-af16-f258ad010d31",
    "outputId": "94136a75-14a0-479e-a719-dd3fdeebc295",
    "tags": []
   },
   "outputs": [
    {
     "data": {
      "application/vnd.jupyter.widget-view+json": {
       "model_id": "6c8a8f2ee4d24b8ba0edec300bc617b3",
       "version_major": 2,
       "version_minor": 0
      },
      "text/plain": [
       "VBox()"
      ]
     },
     "metadata": {},
     "output_type": "display_data"
    },
    {
     "data": {
      "application/vnd.jupyter.widget-view+json": {
       "model_id": "",
       "version_major": 2,
       "version_minor": 0
      },
      "text/plain": [
       "FloatProgress(value=0.0, bar_style='info', description='Progress:', layout=Layout(height='25px', width='50%'),…"
      ]
     },
     "metadata": {},
     "output_type": "display_data"
    },
    {
     "name": "stdout",
     "output_type": "stream",
     "text": [
      "\n",
      "Unique values (Rentals):\n",
      "Column rental_id with 38215560 distinct values, out of 38215560 records (100.00%)\n",
      "Column duration with 20597 distinct values, out of 38215560 records (0.05%)\n",
      "Column bike_id with 16020 distinct values, out of 38215560 records (0.04%)\n",
      "Column end_rental_date_time with 1779017 distinct values, out of 38215560 records (4.66%)\n",
      "Column end_station_id with 809 distinct values, out of 38215560 records (0.00%)\n",
      "Column end_station_name with 841 distinct values, out of 38215560 records (0.00%)\n",
      "Column start_rental_date_time with 1780309 distinct values, out of 38215560 records (4.66%)\n",
      "Column start_station_id with 807 distinct values, out of 38215560 records (0.00%)\n",
      "Column start_station_name with 839 distinct values, out of 38215560 records (0.00%)"
     ]
    }
   ],
   "source": [
    "print('\\nUnique values (Rentals):')\n",
    "for cl in columns:\n",
    "    k = london.select(cl).distinct().count()\n",
    "    print(f'Column {cl} with {k} distinct values, out of {london_count} records ({k*100/london_count:.2f}%)')"
   ]
  },
  {
   "cell_type": "markdown",
   "id": "1ca78cdd-97df-4786-af5e-6cd94d067402",
   "metadata": {
    "id": "1ca78cdd-97df-4786-af5e-6cd94d067402"
   },
   "source": [
    "From the results above two conclusions can be taken:\n",
    "- There are 16019 Bikes in total\n",
    "- There are inconsitency between the Station number, since the start_station_id must not be different from the end_station_id. Thus the 2 extra station will be dropped from the dataframe."
   ]
  },
  {
   "cell_type": "code",
   "execution_count": 25,
   "id": "f479748e-331c-46e9-8d2e-324dfb8287d3",
   "metadata": {
    "id": "f479748e-331c-46e9-8d2e-324dfb8287d3",
    "tags": []
   },
   "outputs": [
    {
     "data": {
      "application/vnd.jupyter.widget-view+json": {
       "model_id": "bfcd63b2725945fa92344984bd114691",
       "version_major": 2,
       "version_minor": 0
      },
      "text/plain": [
       "VBox()"
      ]
     },
     "metadata": {},
     "output_type": "display_data"
    },
    {
     "data": {
      "application/vnd.jupyter.widget-view+json": {
       "model_id": "",
       "version_major": 2,
       "version_minor": 0
      },
      "text/plain": [
       "FloatProgress(value=0.0, bar_style='info', description='Progress:', layout=Layout(height='25px', width='50%'),…"
      ]
     },
     "metadata": {},
     "output_type": "display_data"
    }
   ],
   "source": [
    "columns = [x for x in stations.columns]\n",
    "stations_count = stations.count()"
   ]
  },
  {
   "cell_type": "code",
   "execution_count": 26,
   "id": "0132127c-e1c5-4088-95de-0b0ddf28ebc0",
   "metadata": {
    "id": "0132127c-e1c5-4088-95de-0b0ddf28ebc0",
    "outputId": "15ddbe7d-19af-45e2-8331-ac377dc2d927",
    "tags": []
   },
   "outputs": [
    {
     "data": {
      "application/vnd.jupyter.widget-view+json": {
       "model_id": "7f746df98ab046f49fb48fd6ece1f0d4",
       "version_major": 2,
       "version_minor": 0
      },
      "text/plain": [
       "VBox()"
      ]
     },
     "metadata": {},
     "output_type": "display_data"
    },
    {
     "data": {
      "application/vnd.jupyter.widget-view+json": {
       "model_id": "",
       "version_major": 2,
       "version_minor": 0
      },
      "text/plain": [
       "FloatProgress(value=0.0, bar_style='info', description='Progress:', layout=Layout(height='25px', width='50%'),…"
      ]
     },
     "metadata": {},
     "output_type": "display_data"
    },
    {
     "name": "stdout",
     "output_type": "stream",
     "text": [
      "\n",
      "Unique values (Stations):\n",
      "Column station_id with 802 distinct values, out of 802 records (100.00%)\n",
      "Column station_name with 802 distinct values, out of 802 records (100.00%)\n",
      "Column longitude with 792 distinct values, out of 802 records (98.75%)\n",
      "Column latitude with 505 distinct values, out of 802 records (62.97%)"
     ]
    }
   ],
   "source": [
    "print('\\nUnique values (Stations):')\n",
    "for cl in columns:\n",
    "    k = stations.select(cl).distinct().count()\n",
    "    print(f'Column {cl} with {k} distinct values, out of {stations_count} records ({k*100/stations_count:.2f}%)')"
   ]
  },
  {
   "cell_type": "code",
   "execution_count": 27,
   "id": "1814400d-8cf7-457b-a0d6-79bdcbd497b4",
   "metadata": {
    "id": "1814400d-8cf7-457b-a0d6-79bdcbd497b4",
    "tags": []
   },
   "outputs": [
    {
     "data": {
      "application/vnd.jupyter.widget-view+json": {
       "model_id": "62878450b08b40b491fe09f3cc566aba",
       "version_major": 2,
       "version_minor": 0
      },
      "text/plain": [
       "VBox()"
      ]
     },
     "metadata": {},
     "output_type": "display_data"
    },
    {
     "data": {
      "application/vnd.jupyter.widget-view+json": {
       "model_id": "",
       "version_major": 2,
       "version_minor": 0
      },
      "text/plain": [
       "FloatProgress(value=0.0, bar_style='info', description='Progress:', layout=Layout(height='25px', width='50%'),…"
      ]
     },
     "metadata": {},
     "output_type": "display_data"
    }
   ],
   "source": [
    "columns = [x for x in weather.columns]\n",
    "weather_count = weather.count()"
   ]
  },
  {
   "cell_type": "code",
   "execution_count": 28,
   "id": "388b0940-ca0c-4597-bdc8-5a3812ae3f28",
   "metadata": {
    "id": "388b0940-ca0c-4597-bdc8-5a3812ae3f28",
    "outputId": "fb4151bf-cd97-43bf-95d5-405b90f927fe",
    "tags": []
   },
   "outputs": [
    {
     "data": {
      "application/vnd.jupyter.widget-view+json": {
       "model_id": "b6751ba7044d407ba3ebb591d6cc271c",
       "version_major": 2,
       "version_minor": 0
      },
      "text/plain": [
       "VBox()"
      ]
     },
     "metadata": {},
     "output_type": "display_data"
    },
    {
     "data": {
      "application/vnd.jupyter.widget-view+json": {
       "model_id": "",
       "version_major": 2,
       "version_minor": 0
      },
      "text/plain": [
       "FloatProgress(value=0.0, bar_style='info', description='Progress:', layout=Layout(height='25px', width='50%'),…"
      ]
     },
     "metadata": {},
     "output_type": "display_data"
    },
    {
     "name": "stdout",
     "output_type": "stream",
     "text": [
      "\n",
      "Unique values (Weather):\n",
      "Column date with 15341 distinct values, out of 15341 records (100.00%)\n",
      "Column cloud_cover with 11 distinct values, out of 15341 records (0.07%)\n",
      "Column sunshine with 160 distinct values, out of 15341 records (1.04%)\n",
      "Column global_radiation with 361 distinct values, out of 15341 records (2.35%)\n",
      "Column max_temp with 375 distinct values, out of 15341 records (2.44%)\n",
      "Column mean_temp with 322 distinct values, out of 15341 records (2.10%)\n",
      "Column min_temp with 297 distinct values, out of 15341 records (1.94%)\n",
      "Column precipitation with 263 distinct values, out of 15341 records (1.71%)\n",
      "Column pressure with 643 distinct values, out of 15341 records (4.19%)\n",
      "Column snow_depth with 20 distinct values, out of 15341 records (0.13%)"
     ]
    }
   ],
   "source": [
    "print('\\nUnique values (Weather):')\n",
    "for cl in columns:\n",
    "    k = weather.select(cl).distinct().count()\n",
    "    print(f'Column {cl} with {k} distinct values, out of {weather_count} records ({k*100/weather_count:.2f}%)')"
   ]
  },
  {
   "cell_type": "markdown",
   "id": "54b8328f-949a-4901-be02-d5ba87e93c4b",
   "metadata": {
    "id": "54b8328f-949a-4901-be02-d5ba87e93c4b",
    "tags": []
   },
   "source": [
    "#### Lets check for duplicates:"
   ]
  },
  {
   "cell_type": "code",
   "execution_count": 29,
   "id": "5d58ee4f-4757-415f-bc94-44eaa6a5af29",
   "metadata": {
    "id": "5d58ee4f-4757-415f-bc94-44eaa6a5af29",
    "outputId": "21408ccc-6725-4b0c-e9e1-dd870398ff3f",
    "tags": []
   },
   "outputs": [
    {
     "data": {
      "application/vnd.jupyter.widget-view+json": {
       "model_id": "a8f69d60305e4e0aa66d7aa21f42c4dd",
       "version_major": 2,
       "version_minor": 0
      },
      "text/plain": [
       "VBox()"
      ]
     },
     "metadata": {},
     "output_type": "display_data"
    },
    {
     "data": {
      "application/vnd.jupyter.widget-view+json": {
       "model_id": "",
       "version_major": 2,
       "version_minor": 0
      },
      "text/plain": [
       "FloatProgress(value=0.0, bar_style='info', description='Progress:', layout=Layout(height='25px', width='50%'),…"
      ]
     },
     "metadata": {},
     "output_type": "display_data"
    },
    {
     "name": "stdout",
     "output_type": "stream",
     "text": [
      "\n",
      "How many duplicates (Rentals):\n",
      "0"
     ]
    }
   ],
   "source": [
    "print('\\nHow many duplicates (Rentals):')\n",
    "\n",
    "print(london.count() - london.dropDuplicates().count())"
   ]
  },
  {
   "cell_type": "code",
   "execution_count": 30,
   "id": "038d9008-5c2d-4955-aa17-8d9d418d950b",
   "metadata": {
    "id": "038d9008-5c2d-4955-aa17-8d9d418d950b",
    "outputId": "e9e80913-5be9-464d-acb6-0202a4ee05c7",
    "tags": []
   },
   "outputs": [
    {
     "data": {
      "application/vnd.jupyter.widget-view+json": {
       "model_id": "2c9ec337be3748ef9cf9802cbfcc3eb0",
       "version_major": 2,
       "version_minor": 0
      },
      "text/plain": [
       "VBox()"
      ]
     },
     "metadata": {},
     "output_type": "display_data"
    },
    {
     "data": {
      "application/vnd.jupyter.widget-view+json": {
       "model_id": "",
       "version_major": 2,
       "version_minor": 0
      },
      "text/plain": [
       "FloatProgress(value=0.0, bar_style='info', description='Progress:', layout=Layout(height='25px', width='50%'),…"
      ]
     },
     "metadata": {},
     "output_type": "display_data"
    },
    {
     "name": "stdout",
     "output_type": "stream",
     "text": [
      "\n",
      "How many duplicates (Stations):\n",
      "0"
     ]
    }
   ],
   "source": [
    "print('\\nHow many duplicates (Stations):')\n",
    "\n",
    "print(stations.count() - stations.dropDuplicates().count())"
   ]
  },
  {
   "cell_type": "code",
   "execution_count": 31,
   "id": "d1f21f38-7382-48d8-aa03-d4a9f6de7be1",
   "metadata": {
    "id": "d1f21f38-7382-48d8-aa03-d4a9f6de7be1",
    "outputId": "c7dcb58b-30dc-4603-f50a-a8f7208d5d6b",
    "tags": []
   },
   "outputs": [
    {
     "data": {
      "application/vnd.jupyter.widget-view+json": {
       "model_id": "971e8a1db8c84c3698f784bf6319a8ec",
       "version_major": 2,
       "version_minor": 0
      },
      "text/plain": [
       "VBox()"
      ]
     },
     "metadata": {},
     "output_type": "display_data"
    },
    {
     "data": {
      "application/vnd.jupyter.widget-view+json": {
       "model_id": "",
       "version_major": 2,
       "version_minor": 0
      },
      "text/plain": [
       "FloatProgress(value=0.0, bar_style='info', description='Progress:', layout=Layout(height='25px', width='50%'),…"
      ]
     },
     "metadata": {},
     "output_type": "display_data"
    },
    {
     "name": "stdout",
     "output_type": "stream",
     "text": [
      "\n",
      "How many duplicates (Weather):\n",
      "0"
     ]
    }
   ],
   "source": [
    "print('\\nHow many duplicates (Weather):')\n",
    "\n",
    "print(weather.count() - weather.dropDuplicates().count())"
   ]
  },
  {
   "cell_type": "markdown",
   "id": "9617cd4d-6ed9-4103-b0e4-8e9173240041",
   "metadata": {
    "id": "9617cd4d-6ed9-4103-b0e4-8e9173240041"
   },
   "source": [
    "#### Other tests"
   ]
  },
  {
   "cell_type": "markdown",
   "id": "825a5db3-bbf5-4eda-86ed-48be0e7c09e2",
   "metadata": {
    "id": "825a5db3-bbf5-4eda-86ed-48be0e7c09e2"
   },
   "source": [
    "##### Checking if every end date is after every start date (Rentals):"
   ]
  },
  {
   "cell_type": "code",
   "execution_count": 32,
   "id": "c3778bc8-b74d-48c7-9816-3e2457375f6c",
   "metadata": {
    "id": "c3778bc8-b74d-48c7-9816-3e2457375f6c",
    "outputId": "7169f073-f7ba-466f-f748-246a4629168e",
    "tags": []
   },
   "outputs": [
    {
     "data": {
      "application/vnd.jupyter.widget-view+json": {
       "model_id": "e2826edd2d7d4136a47293b4620b7a5d",
       "version_major": 2,
       "version_minor": 0
      },
      "text/plain": [
       "VBox()"
      ]
     },
     "metadata": {},
     "output_type": "display_data"
    },
    {
     "data": {
      "application/vnd.jupyter.widget-view+json": {
       "model_id": "",
       "version_major": 2,
       "version_minor": 0
      },
      "text/plain": [
       "FloatProgress(value=0.0, bar_style='info', description='Progress:', layout=Layout(height='25px', width='50%'),…"
      ]
     },
     "metadata": {},
     "output_type": "display_data"
    },
    {
     "name": "stdout",
     "output_type": "stream",
     "text": [
      "\n",
      "Incorrect in dates:\n",
      "8220"
     ]
    }
   ],
   "source": [
    "print('\\nIncorrect in dates:')\n",
    "print(london.filter(F.col('end_rental_date_time') <= F.col('start_rental_date_time')).count())"
   ]
  },
  {
   "cell_type": "markdown",
   "id": "5e8a0071-9039-4382-a607-1521e175693d",
   "metadata": {
    "id": "5e8a0071-9039-4382-a607-1521e175693d"
   },
   "source": [
    "##### Check if we have any rental with a duration lesser or equal to 0 (Rentals):"
   ]
  },
  {
   "cell_type": "code",
   "execution_count": 33,
   "id": "deffbcbb-82d8-4aab-918d-8b894d93cbfc",
   "metadata": {
    "id": "deffbcbb-82d8-4aab-918d-8b894d93cbfc",
    "outputId": "49b00923-23be-4dc4-c91d-2c312f3f42e9",
    "tags": []
   },
   "outputs": [
    {
     "data": {
      "application/vnd.jupyter.widget-view+json": {
       "model_id": "052de5fa6bd34442a184845474a10bad",
       "version_major": 2,
       "version_minor": 0
      },
      "text/plain": [
       "VBox()"
      ]
     },
     "metadata": {},
     "output_type": "display_data"
    },
    {
     "data": {
      "application/vnd.jupyter.widget-view+json": {
       "model_id": "",
       "version_major": 2,
       "version_minor": 0
      },
      "text/plain": [
       "FloatProgress(value=0.0, bar_style='info', description='Progress:', layout=Layout(height='25px', width='50%'),…"
      ]
     },
     "metadata": {},
     "output_type": "display_data"
    },
    {
     "name": "stdout",
     "output_type": "stream",
     "text": [
      "5582"
     ]
    }
   ],
   "source": [
    "print(london.select('duration').filter(F.col('duration') <= 0).count())"
   ]
  },
  {
   "cell_type": "markdown",
   "id": "2a980c32-31dc-405f-966d-b095ed557d12",
   "metadata": {
    "id": "2a980c32-31dc-405f-966d-b095ed557d12"
   },
   "source": [
    "## Actions"
   ]
  },
  {
   "cell_type": "markdown",
   "id": "ec275fd7-e452-4114-821b-f652a69a334c",
   "metadata": {
    "id": "ec275fd7-e452-4114-821b-f652a69a334c"
   },
   "source": [
    "### Rentals"
   ]
  },
  {
   "cell_type": "markdown",
   "id": "23b441dd-233f-48b5-a555-265e5623ea8a",
   "metadata": {
    "id": "23b441dd-233f-48b5-a555-265e5623ea8a"
   },
   "source": [
    "#### Filter for every valid date period"
   ]
  },
  {
   "cell_type": "code",
   "execution_count": 34,
   "id": "fa07c77d-f8aa-4ee2-9d86-4554297dc1f0",
   "metadata": {
    "id": "fa07c77d-f8aa-4ee2-9d86-4554297dc1f0",
    "tags": []
   },
   "outputs": [
    {
     "data": {
      "application/vnd.jupyter.widget-view+json": {
       "model_id": "90523513e48745e49767e33d5ce1867e",
       "version_major": 2,
       "version_minor": 0
      },
      "text/plain": [
       "VBox()"
      ]
     },
     "metadata": {},
     "output_type": "display_data"
    },
    {
     "data": {
      "application/vnd.jupyter.widget-view+json": {
       "model_id": "",
       "version_major": 2,
       "version_minor": 0
      },
      "text/plain": [
       "FloatProgress(value=0.0, bar_style='info', description='Progress:', layout=Layout(height='25px', width='50%'),…"
      ]
     },
     "metadata": {},
     "output_type": "display_data"
    }
   ],
   "source": [
    "london = london.filter(F.col('end_rental_date_time') > F.col('start_rental_date_time'))"
   ]
  },
  {
   "cell_type": "markdown",
   "id": "0a1bb958-a88b-461b-bcb6-7281c366cfe7",
   "metadata": {
    "id": "0a1bb958-a88b-461b-bcb6-7281c366cfe7"
   },
   "source": [
    "#### Dropping rows in with null values:"
   ]
  },
  {
   "cell_type": "code",
   "execution_count": 35,
   "id": "360c2ed2-7334-49cd-b008-afe59fbf99be",
   "metadata": {
    "id": "360c2ed2-7334-49cd-b008-afe59fbf99be",
    "outputId": "e5e8fae5-2b38-45f8-d07e-35993c30bc55",
    "tags": []
   },
   "outputs": [
    {
     "data": {
      "application/vnd.jupyter.widget-view+json": {
       "model_id": "e5ef52a3ebe545f4a428b71a2cd88c0f",
       "version_major": 2,
       "version_minor": 0
      },
      "text/plain": [
       "VBox()"
      ]
     },
     "metadata": {},
     "output_type": "display_data"
    },
    {
     "data": {
      "application/vnd.jupyter.widget-view+json": {
       "model_id": "",
       "version_major": 2,
       "version_minor": 0
      },
      "text/plain": [
       "FloatProgress(value=0.0, bar_style='info', description='Progress:', layout=Layout(height='25px', width='50%'),…"
      ]
     },
     "metadata": {},
     "output_type": "display_data"
    }
   ],
   "source": [
    "london_nonull = london.na.drop()"
   ]
  },
  {
   "cell_type": "code",
   "execution_count": 36,
   "id": "22bc52a6-862f-493b-b659-8dc9b8514702",
   "metadata": {},
   "outputs": [
    {
     "data": {
      "application/vnd.jupyter.widget-view+json": {
       "model_id": "7b555a22b02a4e0d9f2aa30941aef07d",
       "version_major": 2,
       "version_minor": 0
      },
      "text/plain": [
       "VBox()"
      ]
     },
     "metadata": {},
     "output_type": "display_data"
    },
    {
     "data": {
      "application/vnd.jupyter.widget-view+json": {
       "model_id": "",
       "version_major": 2,
       "version_minor": 0
      },
      "text/plain": [
       "FloatProgress(value=0.0, bar_style='info', description='Progress:', layout=Layout(height='25px', width='50%'),…"
      ]
     },
     "metadata": {},
     "output_type": "display_data"
    },
    {
     "name": "stdout",
     "output_type": "stream",
     "text": [
      "38139058"
     ]
    }
   ],
   "source": [
    "london_nonull_count = london_nonull.count()\n",
    "london_nonull_count"
   ]
  },
  {
   "cell_type": "markdown",
   "id": "7068caee-cc0c-47b8-867c-4d2c844836a0",
   "metadata": {
    "id": "7068caee-cc0c-47b8-867c-4d2c844836a0"
   },
   "source": [
    "Difference between both datasets:"
   ]
  },
  {
   "cell_type": "code",
   "execution_count": 37,
   "id": "9d6df27e-eb86-4ccc-98a1-9df754f35ba8",
   "metadata": {
    "id": "9d6df27e-eb86-4ccc-98a1-9df754f35ba8",
    "outputId": "bb696831-95f3-4555-c904-ab0b3b0bacd6",
    "tags": []
   },
   "outputs": [
    {
     "data": {
      "application/vnd.jupyter.widget-view+json": {
       "model_id": "32630bc379da4946ad97d599bf05af18",
       "version_major": 2,
       "version_minor": 0
      },
      "text/plain": [
       "VBox()"
      ]
     },
     "metadata": {},
     "output_type": "display_data"
    },
    {
     "data": {
      "application/vnd.jupyter.widget-view+json": {
       "model_id": "",
       "version_major": 2,
       "version_minor": 0
      },
      "text/plain": [
       "FloatProgress(value=0.0, bar_style='info', description='Progress:', layout=Layout(height='25px', width='50%'),…"
      ]
     },
     "metadata": {},
     "output_type": "display_data"
    },
    {
     "name": "stdout",
     "output_type": "stream",
     "text": [
      "76502"
     ]
    }
   ],
   "source": [
    "print(london_count - london_nonull_count)"
   ]
  },
  {
   "cell_type": "markdown",
   "id": "92712a85-cc06-4789-865a-879da89704f2",
   "metadata": {
    "id": "92712a85-cc06-4789-865a-879da89704f2"
   },
   "source": [
    "#### Adding a column for: year, month, day, hour"
   ]
  },
  {
   "cell_type": "code",
   "execution_count": 38,
   "id": "c7447019-387b-4b40-a0fb-fbadebcbf6c1",
   "metadata": {
    "id": "c7447019-387b-4b40-a0fb-fbadebcbf6c1",
    "tags": []
   },
   "outputs": [
    {
     "data": {
      "application/vnd.jupyter.widget-view+json": {
       "model_id": "f3bfaaf377c54ec7bcc2d8588eb61181",
       "version_major": 2,
       "version_minor": 0
      },
      "text/plain": [
       "VBox()"
      ]
     },
     "metadata": {},
     "output_type": "display_data"
    },
    {
     "data": {
      "application/vnd.jupyter.widget-view+json": {
       "model_id": "",
       "version_major": 2,
       "version_minor": 0
      },
      "text/plain": [
       "FloatProgress(value=0.0, bar_style='info', description='Progress:', layout=Layout(height='25px', width='50%'),…"
      ]
     },
     "metadata": {},
     "output_type": "display_data"
    }
   ],
   "source": [
    "from pyspark.sql.functions import year\n",
    "from pyspark.sql.functions import month\n",
    "from pyspark.sql.functions import hour, dayofweek\n",
    "from pyspark.sql.functions import to_date, date_format\n",
    "\n",
    "new_london = ( london_nonull\n",
    "              .withColumn('Year', year(F.col('start_rental_date_time')))\n",
    "              .withColumn('Month', month(F.col('start_rental_date_time')))\n",
    "              .withColumn(\"Day\", date_format(F.col('start_rental_date_time'), \"d\"))\n",
    "              .withColumn('Hour', hour(F.col('start_rental_date_time')))\n",
    "              .withColumn('DayofWeek', dayofweek(F.col('start_rental_date_time')))\n",
    ")"
   ]
  },
  {
   "cell_type": "code",
   "execution_count": 39,
   "id": "92dc8825-cc12-44d6-bd85-1a5a98c0a9bc",
   "metadata": {
    "id": "92dc8825-cc12-44d6-bd85-1a5a98c0a9bc",
    "outputId": "97d869f8-15ec-4869-c8d3-e6c92159cfb3",
    "tags": []
   },
   "outputs": [
    {
     "data": {
      "application/vnd.jupyter.widget-view+json": {
       "model_id": "cefbbecb333a45cea54e3e76fe3497f4",
       "version_major": 2,
       "version_minor": 0
      },
      "text/plain": [
       "VBox()"
      ]
     },
     "metadata": {},
     "output_type": "display_data"
    },
    {
     "data": {
      "application/vnd.jupyter.widget-view+json": {
       "model_id": "",
       "version_major": 2,
       "version_minor": 0
      },
      "text/plain": [
       "FloatProgress(value=0.0, bar_style='info', description='Progress:', layout=Layout(height='25px', width='50%'),…"
      ]
     },
     "metadata": {},
     "output_type": "display_data"
    },
    {
     "name": "stdout",
     "output_type": "stream",
     "text": [
      "-RECORD 0--------------------------------------\n",
      " rental_id              | 61343322             \n",
      " duration               | 60.0                 \n",
      " bike_id                | 12871.0              \n",
      " end_rental_date_time   | 2016-12-28 00:01:00  \n",
      " end_station_id         | 660.0                \n",
      " end_station_name       | West Kensington S... \n",
      " start_rental_date_time | 2016-12-28 00:00:00  \n",
      " start_station_id       | 633                  \n",
      " start_station_name     | Vereker Road Nort... \n",
      " Year                   | 2016                 \n",
      " Month                  | 12                   \n",
      " Day                    | 28                   \n",
      " Hour                   | 0                    \n",
      " DayofWeek              | 4                    \n",
      "-RECORD 1--------------------------------------\n",
      " rental_id              | 61343321             \n",
      " duration               | 300.0                \n",
      " bike_id                | 2837.0               \n",
      " end_rental_date_time   | 2016-12-28 00:05:00  \n",
      " end_station_id         | 763.0                \n",
      " end_station_name       | Mile End Park Lei... \n",
      " start_rental_date_time | 2016-12-28 00:00:00  \n",
      " start_station_id       | 531                  \n",
      " start_station_name     | Twig Folly Bridge... \n",
      " Year                   | 2016                 \n",
      " Month                  | 12                   \n",
      " Day                    | 28                   \n",
      " Hour                   | 0                    \n",
      " DayofWeek              | 4                    \n",
      "-RECORD 2--------------------------------------\n",
      " rental_id              | 61343323             \n",
      " duration               | 360.0                \n",
      " bike_id                | 1269.0               \n",
      " end_rental_date_time   | 2016-12-28 00:06:00  \n",
      " end_station_id         | 99.0                 \n",
      " end_station_name       | Old Quebec Street... \n",
      " start_rental_date_time | 2016-12-28 00:00:00  \n",
      " start_station_id       | 116                  \n",
      " start_station_name     | Little Argyll Str... \n",
      " Year                   | 2016                 \n",
      " Month                  | 12                   \n",
      " Day                    | 28                   \n",
      " Hour                   | 0                    \n",
      " DayofWeek              | 4                    \n",
      "-RECORD 3--------------------------------------\n",
      " rental_id              | 61343325             \n",
      " duration               | 1140.0               \n",
      " bike_id                | 4208.0               \n",
      " end_rental_date_time   | 2016-12-28 00:20:00  \n",
      " end_station_id         | 468.0                \n",
      " end_station_name       | Cantrell Road, Bow   \n",
      " start_rental_date_time | 2016-12-28 00:01:00  \n",
      " start_station_id       | 443                  \n",
      " start_station_name     | Philpot Street, W... \n",
      " Year                   | 2016                 \n",
      " Month                  | 12                   \n",
      " Day                    | 28                   \n",
      " Hour                   | 0                    \n",
      " DayofWeek              | 4                    \n",
      "-RECORD 4--------------------------------------\n",
      " rental_id              | 61343326             \n",
      " duration               | 1380.0               \n",
      " bike_id                | 11485.0              \n",
      " end_rental_date_time   | 2016-12-28 00:25:00  \n",
      " end_station_id         | 219.0                \n",
      " end_station_name       | Bramham Gardens, ... \n",
      " start_rental_date_time | 2016-12-28 00:02:00  \n",
      " start_station_id       | 116                  \n",
      " start_station_name     | Little Argyll Str... \n",
      " Year                   | 2016                 \n",
      " Month                  | 12                   \n",
      " Day                    | 28                   \n",
      " Hour                   | 0                    \n",
      " DayofWeek              | 4                    \n",
      "only showing top 5 rows"
     ]
    }
   ],
   "source": [
    "new_london.show(5, vertical=True)"
   ]
  },
  {
   "cell_type": "markdown",
   "id": "c61a591a-6094-4fac-9829-9f3a09d61f26",
   "metadata": {
    "id": "c61a591a-6094-4fac-9829-9f3a09d61f26"
   },
   "source": [
    "#import the dataframe\n",
    "\n",
    "filename = 'new_csv.csv'\n",
    "\n",
    "new_london = spark.read.csv(filename, header=\"true\", inferSchema=\"true\", sep=',')"
   ]
  },
  {
   "cell_type": "markdown",
   "id": "4ce317b4-1941-491a-b41b-ac48157008f2",
   "metadata": {
    "id": "4ce317b4-1941-491a-b41b-ac48157008f2"
   },
   "source": [
    "### Weather"
   ]
  },
  {
   "cell_type": "markdown",
   "id": "c08a5961-0cb7-463a-8961-9558946fbda2",
   "metadata": {
    "id": "c08a5961-0cb7-463a-8961-9558946fbda2"
   },
   "source": [
    "#### Fill 'null' values with the backwards fill method."
   ]
  },
  {
   "cell_type": "code",
   "execution_count": 40,
   "id": "088a79d8-3634-4daf-b20a-3c3ec058cb18",
   "metadata": {
    "id": "088a79d8-3634-4daf-b20a-3c3ec058cb18",
    "tags": []
   },
   "outputs": [
    {
     "data": {
      "application/vnd.jupyter.widget-view+json": {
       "model_id": "701455eb44584d64b9e5a388d2ea84d0",
       "version_major": 2,
       "version_minor": 0
      },
      "text/plain": [
       "VBox()"
      ]
     },
     "metadata": {},
     "output_type": "display_data"
    },
    {
     "data": {
      "application/vnd.jupyter.widget-view+json": {
       "model_id": "",
       "version_major": 2,
       "version_minor": 0
      },
      "text/plain": [
       "FloatProgress(value=0.0, bar_style='info', description='Progress:', layout=Layout(height='25px', width='50%'),…"
      ]
     },
     "metadata": {},
     "output_type": "display_data"
    }
   ],
   "source": [
    "from pyspark.sql.functions import mean, last, col\n",
    "from pyspark.sql.window import Window\n",
    "# Assume `df` is your DataFrame\n",
    "\n",
    "# Compute the mean of the column with null values\n",
    "#mean_value = new_weather.select(mean(col(\"mean\"))).collect()[0][0]\n",
    "\n",
    "# Replace null values with the mean\n",
    "#new_weather = new_weather.fillna(mean_value, subset=[\"mean\"])\n",
    "\n",
    "#bfill\n",
    "\n",
    "w = Window.orderBy(\"date\").rowsBetween(Window.unboundedPreceding, -1)\n",
    "\n",
    "weather = (weather\n",
    "                .withColumn(\"mean_temp_test\", last(col(\"mean_temp\"), True).over(w))\n",
    "                .withColumn('cloud_cover_test',last(col('cloud_cover'), True).over(w))\n",
    "                .withColumn('global_radiation_test',last(col('global_radiation'), True).over(w))\n",
    "                .withColumn('max_temp_test',last(col('max_temp'), True).over(w))\n",
    "                .withColumn('min_temp_test',last(col('min_temp'), True).over(w))\n",
    "                .withColumn('precipitation_test',last(col('precipitation'), True).over(w))\n",
    "                .withColumn('pressure_test',last(col('pressure'), True).over(w))\n",
    "          )\n",
    "\n",
    "#weather.filter(F.col('mean_test').isNull()).show()"
   ]
  },
  {
   "cell_type": "code",
   "execution_count": 41,
   "id": "80c232b7-cc04-44a4-bdeb-05241215d392",
   "metadata": {
    "id": "80c232b7-cc04-44a4-bdeb-05241215d392",
    "tags": []
   },
   "outputs": [
    {
     "data": {
      "application/vnd.jupyter.widget-view+json": {
       "model_id": "d664de6f869a45bca6acadc499b59fac",
       "version_major": 2,
       "version_minor": 0
      },
      "text/plain": [
       "VBox()"
      ]
     },
     "metadata": {},
     "output_type": "display_data"
    },
    {
     "data": {
      "application/vnd.jupyter.widget-view+json": {
       "model_id": "",
       "version_major": 2,
       "version_minor": 0
      },
      "text/plain": [
       "FloatProgress(value=0.0, bar_style='info', description='Progress:', layout=Layout(height='25px', width='50%'),…"
      ]
     },
     "metadata": {},
     "output_type": "display_data"
    }
   ],
   "source": [
    "from pyspark.sql.functions import when, col\n",
    "\n",
    "new_mean = when(col('mean_temp').isNull(), col('mean_temp_test')).otherwise(col('mean_temp'))\n",
    "new_cloud = when(col('cloud_cover').isNull(), col('cloud_cover_test')).otherwise(col('cloud_cover'))\n",
    "new_gr = when(col('global_radiation').isNull(), col('global_radiation_test')).otherwise(col('global_radiation'))\n",
    "new_maxt = when(col('max_temp').isNull(), col('max_temp_test')).otherwise(col('max_temp'))\n",
    "new_mint = when(col('min_temp').isNull(), col('min_temp_test')).otherwise(col('min_temp'))\n",
    "new_prec = when(col('precipitation').isNull(), col('precipitation_test')).otherwise(col('precipitation'))\n",
    "new_press = when(col('pressure').isNull(), col('pressure_test')).otherwise(col('pressure'))\n",
    "\n",
    "new_weather = (weather\n",
    "                .withColumn('mean', new_mean)\n",
    "                .withColumn('cloud', new_cloud)\n",
    "                .withColumn('gr', new_gr)\n",
    "                .withColumn('maxt', new_maxt)\n",
    "                .withColumn('mint', new_mint)\n",
    "                .withColumn('prec', new_prec)\n",
    "                .withColumn('press', new_press)\n",
    "              )"
   ]
  },
  {
   "cell_type": "markdown",
   "id": "36f9e03d-9f7c-4618-b026-f6e4b59b854f",
   "metadata": {
    "id": "36f9e03d-9f7c-4618-b026-f6e4b59b854f",
    "tags": []
   },
   "source": [
    "#### Dropping 'snow_depth' feature"
   ]
  },
  {
   "cell_type": "code",
   "execution_count": 42,
   "id": "8a4a1597-4a88-4eee-a883-ceec8094f2eb",
   "metadata": {
    "id": "8a4a1597-4a88-4eee-a883-ceec8094f2eb",
    "tags": []
   },
   "outputs": [
    {
     "data": {
      "application/vnd.jupyter.widget-view+json": {
       "model_id": "e3251a9a074342fd956ff9b1af1918d3",
       "version_major": 2,
       "version_minor": 0
      },
      "text/plain": [
       "VBox()"
      ]
     },
     "metadata": {},
     "output_type": "display_data"
    },
    {
     "data": {
      "application/vnd.jupyter.widget-view+json": {
       "model_id": "",
       "version_major": 2,
       "version_minor": 0
      },
      "text/plain": [
       "FloatProgress(value=0.0, bar_style='info', description='Progress:', layout=Layout(height='25px', width='50%'),…"
      ]
     },
     "metadata": {},
     "output_type": "display_data"
    }
   ],
   "source": [
    "new_weather = new_weather.drop(F.col('snow_depth'))"
   ]
  },
  {
   "cell_type": "markdown",
   "id": "aa7e1d6d-8c2f-4215-ac62-b5e1a5d206ba",
   "metadata": {
    "id": "aa7e1d6d-8c2f-4215-ac62-b5e1a5d206ba"
   },
   "source": [
    "Check if changes were efective"
   ]
  },
  {
   "cell_type": "code",
   "execution_count": 43,
   "id": "1274e945-1c85-4d2f-bcba-04a87a89bb02",
   "metadata": {
    "id": "1274e945-1c85-4d2f-bcba-04a87a89bb02",
    "outputId": "023bea6c-e395-4bc1-ce66-f68179bb6002",
    "tags": []
   },
   "outputs": [
    {
     "data": {
      "application/vnd.jupyter.widget-view+json": {
       "model_id": "202790ba295c4467987d6208a0b31398",
       "version_major": 2,
       "version_minor": 0
      },
      "text/plain": [
       "VBox()"
      ]
     },
     "metadata": {},
     "output_type": "display_data"
    },
    {
     "data": {
      "application/vnd.jupyter.widget-view+json": {
       "model_id": "",
       "version_major": 2,
       "version_minor": 0
      },
      "text/plain": [
       "FloatProgress(value=0.0, bar_style='info', description='Progress:', layout=Layout(height='25px', width='50%'),…"
      ]
     },
     "metadata": {},
     "output_type": "display_data"
    },
    {
     "name": "stdout",
     "output_type": "stream",
     "text": [
      "\n",
      "Nulls in Weather:"
     ]
    }
   ],
   "source": [
    "print('\\nNulls in Weather:')\n",
    "new_weather_count = new_weather.count()\n",
    "cols_to_forget = ['cloud_cover', 'global_radiation', 'max_temp', 'mean_temp', 'min_temp', 'precipitation', 'pressure',\"mean_temp_test\",'cloud_cover_test','global_radiation_test', 'max_temp_test', 'min_temp_test', 'precipitation_test', 'pressure_test']\n",
    "weather_cols_interest = [x for x in new_weather.columns if x not in cols_to_forget]\n",
    "for cl in weather_cols_interest:\n",
    "    k = new_weather.select(cl).filter(F.col(cl).isNull()).count()\n",
    "    if k > 0:\n",
    "        print(f'Column {cl} with {k} nulls or NaN, out of {new_weather_count} records ({k*100/new_weather_count:.2f}%)')"
   ]
  },
  {
   "cell_type": "code",
   "execution_count": 44,
   "id": "93b5656a-71e0-49ef-96e3-5b13c2605f2e",
   "metadata": {
    "id": "93b5656a-71e0-49ef-96e3-5b13c2605f2e",
    "outputId": "8ec27007-72dd-4a44-fbbc-9c89e0e98429",
    "tags": []
   },
   "outputs": [
    {
     "data": {
      "application/vnd.jupyter.widget-view+json": {
       "model_id": "44cf1e8b615f44dd9ae7a9b2c587cd1c",
       "version_major": 2,
       "version_minor": 0
      },
      "text/plain": [
       "VBox()"
      ]
     },
     "metadata": {},
     "output_type": "display_data"
    },
    {
     "data": {
      "application/vnd.jupyter.widget-view+json": {
       "model_id": "",
       "version_major": 2,
       "version_minor": 0
      },
      "text/plain": [
       "FloatProgress(value=0.0, bar_style='info', description='Progress:', layout=Layout(height='25px', width='50%'),…"
      ]
     },
     "metadata": {},
     "output_type": "display_data"
    },
    {
     "name": "stdout",
     "output_type": "stream",
     "text": [
      "-RECORD 0-----------------------\n",
      " summary  | count               \n",
      " date     | 15341               \n",
      " sunshine | 15341               \n",
      " mean     | 15341               \n",
      " cloud    | 15341               \n",
      " gr       | 15341               \n",
      " maxt     | 15341               \n",
      " mint     | 15341               \n",
      " prec     | 15341               \n",
      " press    | 15341               \n",
      "-RECORD 1-----------------------\n",
      " summary  | mean                \n",
      " date     | 1.999567159344241E7 \n",
      " sunshine | 4.350237924515966   \n",
      " mean     | 11.472876605175669  \n",
      " cloud    | 5.26777915390131    \n",
      " gr       | 118.89172804901897  \n",
      " maxt     | 15.389700801773074  \n",
      " mint     | 7.560093866110414   \n",
      " prec     | 1.6684635942898551  \n",
      " press    | 101536.65927905613  \n",
      "-RECORD 2-----------------------\n",
      " summary  | stddev              \n",
      " date     | 121217.55827681546  \n",
      " sunshine | 4.028339404679589   \n",
      " mean     | 5.728950610266871   \n",
      " cloud    | 2.0702455817982637  \n",
      " gr       | 88.95028904838944   \n",
      " maxt     | 6.555536453716224   \n",
      " mint     | 5.326466288287469   \n",
      " prec     | 3.7381677972293077  \n",
      " press    | 1049.7209565281753  \n",
      "-RECORD 3-----------------------\n",
      " summary  | min                 \n",
      " date     | 19790101            \n",
      " sunshine | 0.0                 \n",
      " mean     | -7.6                \n",
      " cloud    | 0.0                 \n",
      " gr       | 8.0                 \n",
      " maxt     | -6.2                \n",
      " mint     | -11.8               \n",
      " prec     | 0.0                 \n",
      " press    | 95960.0             \n",
      "-RECORD 4-----------------------\n",
      " summary  | max                 \n",
      " date     | 20201231            \n",
      " sunshine | 16.0                \n",
      " mean     | 29.0                \n",
      " cloud    | 9.0                 \n",
      " gr       | 402.0               \n",
      " maxt     | 37.9                \n",
      " mint     | 22.3                \n",
      " prec     | 61.8                \n",
      " press    | 104820.0"
     ]
    }
   ],
   "source": [
    "cols_to_forget = ['cloud_cover', 'global_radiation', 'max_temp', 'mean_temp', 'min_temp', 'precipitation', 'pressure',\"mean_temp_test\",'cloud_cover_test','global_radiation_test', 'max_temp_test', 'min_temp_test', 'precipitation_test', 'pressure_test']\n",
    "\n",
    "weather_cols_interest = [x for x in new_weather.columns if x not in cols_to_forget]\n",
    "\n",
    "new_weather.select(weather_cols_interest).describe().show(vertical=True)"
   ]
  },
  {
   "cell_type": "markdown",
   "id": "109f74f2-1699-4ed2-bd7e-0e9ce456aed1",
   "metadata": {
    "id": "109f74f2-1699-4ed2-bd7e-0e9ce456aed1"
   },
   "source": [
    "### Concatenate all datasets:"
   ]
  },
  {
   "cell_type": "code",
   "execution_count": 45,
   "id": "679d1c49-5522-4050-98af-0664cf739683",
   "metadata": {
    "id": "679d1c49-5522-4050-98af-0664cf739683",
    "outputId": "45dba8a2-c590-4873-9915-f6fde1edd252",
    "tags": []
   },
   "outputs": [
    {
     "data": {
      "application/vnd.jupyter.widget-view+json": {
       "model_id": "58bf3e8a9719456a8389d39cd4098943",
       "version_major": 2,
       "version_minor": 0
      },
      "text/plain": [
       "VBox()"
      ]
     },
     "metadata": {},
     "output_type": "display_data"
    },
    {
     "data": {
      "application/vnd.jupyter.widget-view+json": {
       "model_id": "",
       "version_major": 2,
       "version_minor": 0
      },
      "text/plain": [
       "FloatProgress(value=0.0, bar_style='info', description='Progress:', layout=Layout(height='25px', width='50%'),…"
      ]
     },
     "metadata": {},
     "output_type": "display_data"
    }
   ],
   "source": [
    "from pyspark.sql.functions import date_format\n",
    "\n",
    "new_london = new_london.withColumn(\"dateconc\",  date_format(F.col(\"start_rental_date_time\"), \"yyyyMMdd\"))\n"
   ]
  },
  {
   "cell_type": "code",
   "execution_count": 46,
   "id": "1c79b942-cdb8-46c8-9d0f-ae7c1aebb3c5",
   "metadata": {},
   "outputs": [
    {
     "data": {
      "application/vnd.jupyter.widget-view+json": {
       "model_id": "d73e60bdcd0641c1a6ca741e9af47695",
       "version_major": 2,
       "version_minor": 0
      },
      "text/plain": [
       "VBox()"
      ]
     },
     "metadata": {},
     "output_type": "display_data"
    },
    {
     "data": {
      "application/vnd.jupyter.widget-view+json": {
       "model_id": "",
       "version_major": 2,
       "version_minor": 0
      },
      "text/plain": [
       "FloatProgress(value=0.0, bar_style='info', description='Progress:', layout=Layout(height='25px', width='50%'),…"
      ]
     },
     "metadata": {},
     "output_type": "display_data"
    },
    {
     "name": "stdout",
     "output_type": "stream",
     "text": [
      "-RECORD 0--------------------------------------\n",
      " rental_id              | 61343322             \n",
      " duration               | 60.0                 \n",
      " bike_id                | 12871.0              \n",
      " end_rental_date_time   | 2016-12-28 00:01:00  \n",
      " end_station_id         | 660.0                \n",
      " end_station_name       | West Kensington S... \n",
      " start_rental_date_time | 2016-12-28 00:00:00  \n",
      " start_station_id       | 633                  \n",
      " start_station_name     | Vereker Road Nort... \n",
      " Year                   | 2016                 \n",
      " Month                  | 12                   \n",
      " Day                    | 28                   \n",
      " Hour                   | 0                    \n",
      " DayofWeek              | 4                    \n",
      " dateconc               | 20161228             \n",
      "only showing top 1 row"
     ]
    }
   ],
   "source": [
    "new_london.show(1, vertical=True)"
   ]
  },
  {
   "cell_type": "code",
   "execution_count": 47,
   "id": "7612240a-2349-4212-8d8b-cea0dddefbee",
   "metadata": {
    "id": "7612240a-2349-4212-8d8b-cea0dddefbee",
    "outputId": "b9ae9dc5-9888-484c-f395-5f76cd317b10",
    "tags": []
   },
   "outputs": [
    {
     "data": {
      "application/vnd.jupyter.widget-view+json": {
       "model_id": "a8817776fd2c4d2285ff7cce8f946baa",
       "version_major": 2,
       "version_minor": 0
      },
      "text/plain": [
       "VBox()"
      ]
     },
     "metadata": {},
     "output_type": "display_data"
    },
    {
     "data": {
      "application/vnd.jupyter.widget-view+json": {
       "model_id": "",
       "version_major": 2,
       "version_minor": 0
      },
      "text/plain": [
       "FloatProgress(value=0.0, bar_style='info', description='Progress:', layout=Layout(height='25px', width='50%'),…"
      ]
     },
     "metadata": {},
     "output_type": "display_data"
    }
   ],
   "source": [
    "from pyspark.sql.functions import sum,avg,max,count\n",
    "\n",
    "group_cols = [\"start_station_id\", \"Hour\",\"Day\",'DayofWeek', \"Month\", \"Year\",\"dateconc\",\"end_station_id\",\"end_station_name\"]\n",
    "grouped = new_london.groupBy(group_cols) \\\n",
    "            .agg(sum(\"duration\").alias(\"sum_duration\"), \\\n",
    "                 avg(\"duration\").alias(\"avg_duration\"), \\\n",
    "                 count('duration').alias('num_rentals')\n",
    "                 )"
   ]
  },
  {
   "cell_type": "code",
   "execution_count": 48,
   "id": "f97d76d4-7073-40c4-968c-76414159bae3",
   "metadata": {
    "id": "f97d76d4-7073-40c4-968c-76414159bae3",
    "outputId": "faab2a2c-b997-4658-9280-b0b608b5f013",
    "tags": []
   },
   "outputs": [
    {
     "data": {
      "application/vnd.jupyter.widget-view+json": {
       "model_id": "c7760df3ed9c40cbb47dbd86d30ed7e9",
       "version_major": 2,
       "version_minor": 0
      },
      "text/plain": [
       "VBox()"
      ]
     },
     "metadata": {},
     "output_type": "display_data"
    },
    {
     "data": {
      "application/vnd.jupyter.widget-view+json": {
       "model_id": "",
       "version_major": 2,
       "version_minor": 0
      },
      "text/plain": [
       "FloatProgress(value=0.0, bar_style='info', description='Progress:', layout=Layout(height='25px', width='50%'),…"
      ]
     },
     "metadata": {},
     "output_type": "display_data"
    }
   ],
   "source": [
    "grouped = grouped.join(stations, grouped.start_station_id == stations.station_id, \"left\")"
   ]
  },
  {
   "cell_type": "code",
   "execution_count": 49,
   "id": "d8184a6f-1b59-42de-a340-68cfcecf5f9f",
   "metadata": {
    "id": "d8184a6f-1b59-42de-a340-68cfcecf5f9f",
    "tags": []
   },
   "outputs": [
    {
     "data": {
      "application/vnd.jupyter.widget-view+json": {
       "model_id": "0b82328517f246a6be973b277d645e49",
       "version_major": 2,
       "version_minor": 0
      },
      "text/plain": [
       "VBox()"
      ]
     },
     "metadata": {},
     "output_type": "display_data"
    },
    {
     "data": {
      "application/vnd.jupyter.widget-view+json": {
       "model_id": "",
       "version_major": 2,
       "version_minor": 0
      },
      "text/plain": [
       "FloatProgress(value=0.0, bar_style='info', description='Progress:', layout=Layout(height='25px', width='50%'),…"
      ]
     },
     "metadata": {},
     "output_type": "display_data"
    }
   ],
   "source": [
    "columns_to_drop = ['end_station_name']\n",
    "grouped = grouped.select([column for column in grouped.columns if column not in columns_to_drop])"
   ]
  },
  {
   "cell_type": "code",
   "execution_count": 50,
   "id": "1c05661d-21b2-4040-8516-44218df44ee8",
   "metadata": {
    "id": "1c05661d-21b2-4040-8516-44218df44ee8",
    "outputId": "ff6b5d8e-42aa-472a-8d1e-543830ffc722",
    "tags": []
   },
   "outputs": [
    {
     "data": {
      "application/vnd.jupyter.widget-view+json": {
       "model_id": "cca4c4a1e1e2493cb99f47a514f6cd72",
       "version_major": 2,
       "version_minor": 0
      },
      "text/plain": [
       "VBox()"
      ]
     },
     "metadata": {},
     "output_type": "display_data"
    },
    {
     "data": {
      "application/vnd.jupyter.widget-view+json": {
       "model_id": "",
       "version_major": 2,
       "version_minor": 0
      },
      "text/plain": [
       "FloatProgress(value=0.0, bar_style='info', description='Progress:', layout=Layout(height='25px', width='50%'),…"
      ]
     },
     "metadata": {},
     "output_type": "display_data"
    }
   ],
   "source": [
    "from pyspark.sql.functions import substring_index\n",
    "\n",
    "#create a new column called \"start_area\" with values after the comma (area name)\n",
    "\n",
    "# Define the delimiter (',') and the index (1) after which to extract the values\n",
    "delimiter = \",\"\n",
    "index = -1\n",
    "\n",
    "# Create the new column using substring_index\n",
    "grouped = grouped.withColumn(\"area\", substring_index(grouped.station_name, delimiter, index))"
   ]
  },
  {
   "cell_type": "code",
   "execution_count": 51,
   "id": "8fd18f58-fcf2-498f-8642-fbe0d4d4e02b",
   "metadata": {
    "id": "8fd18f58-fcf2-498f-8642-fbe0d4d4e02b",
    "outputId": "2e35b778-618c-4f1c-82eb-ee451d69e993",
    "tags": []
   },
   "outputs": [
    {
     "data": {
      "application/vnd.jupyter.widget-view+json": {
       "model_id": "ddadfd8606844b8eb8dc7c0f0e1900cb",
       "version_major": 2,
       "version_minor": 0
      },
      "text/plain": [
       "VBox()"
      ]
     },
     "metadata": {},
     "output_type": "display_data"
    },
    {
     "data": {
      "application/vnd.jupyter.widget-view+json": {
       "model_id": "",
       "version_major": 2,
       "version_minor": 0
      },
      "text/plain": [
       "FloatProgress(value=0.0, bar_style='info', description='Progress:', layout=Layout(height='25px', width='50%'),…"
      ]
     },
     "metadata": {},
     "output_type": "display_data"
    }
   ],
   "source": [
    "from pyspark.sql.functions import col, regexp_replace\n",
    "grouped = grouped.withColumn(\"area_cleaned\", regexp_replace(col(\"area\"), r\"['.\\s]+\", \"\"))\n",
    "\n",
    "#unique_values = unique_values.select('area_test')\n",
    "unique_values = grouped.select(\"area_cleaned\",\"area\").orderBy(\"area_cleaned\",\"area\").distinct()"
   ]
  },
  {
   "cell_type": "code",
   "execution_count": 52,
   "id": "4b637659-1c78-48fa-b64c-aa13dba77b92",
   "metadata": {
    "id": "4b637659-1c78-48fa-b64c-aa13dba77b92",
    "outputId": "666bf4b7-5d2b-439d-84dc-bd5bd1882d6a",
    "tags": []
   },
   "outputs": [
    {
     "data": {
      "application/vnd.jupyter.widget-view+json": {
       "model_id": "2589f4a8424c4de9876f0c7248167ba3",
       "version_major": 2,
       "version_minor": 0
      },
      "text/plain": [
       "VBox()"
      ]
     },
     "metadata": {},
     "output_type": "display_data"
    },
    {
     "data": {
      "application/vnd.jupyter.widget-view+json": {
       "model_id": "",
       "version_major": 2,
       "version_minor": 0
      },
      "text/plain": [
       "FloatProgress(value=0.0, bar_style='info', description='Progress:', layout=Layout(height='25px', width='50%'),…"
      ]
     },
     "metadata": {},
     "output_type": "display_data"
    }
   ],
   "source": [
    "cols_to_forget = ['cloud_cover', 'global_radiation', 'max_temp', 'mean_temp', 'min_temp', 'precipitation', 'pressure',\"mean_temp_test\",'cloud_cover_test','global_radiation_test', 'max_temp_test', 'min_temp_test', 'precipitation_test', 'pressure_test']\n",
    "\n",
    "weather_cols_interest = [x for x in new_weather.columns if x not in cols_to_forget]\n",
    "new_weather = new_weather.select(weather_cols_interest)\n",
    "grouped = grouped.join(new_weather,grouped.dateconc == new_weather.date, \"left\")"
   ]
  },
  {
   "cell_type": "code",
   "execution_count": 53,
   "id": "b606035f-38b8-4552-a5ad-70f4ac0c1440",
   "metadata": {
    "id": "b606035f-38b8-4552-a5ad-70f4ac0c1440",
    "tags": []
   },
   "outputs": [
    {
     "data": {
      "application/vnd.jupyter.widget-view+json": {
       "model_id": "7d3c2ea4d7304570a27097c491bc84f2",
       "version_major": 2,
       "version_minor": 0
      },
      "text/plain": [
       "VBox()"
      ]
     },
     "metadata": {},
     "output_type": "display_data"
    },
    {
     "data": {
      "application/vnd.jupyter.widget-view+json": {
       "model_id": "",
       "version_major": 2,
       "version_minor": 0
      },
      "text/plain": [
       "FloatProgress(value=0.0, bar_style='info', description='Progress:', layout=Layout(height='25px', width='50%'),…"
      ]
     },
     "metadata": {},
     "output_type": "display_data"
    }
   ],
   "source": [
    "grouped = grouped.drop(F.col('area'))"
   ]
  },
  {
   "cell_type": "code",
   "execution_count": 54,
   "id": "f79f8c2f-413e-4c42-ab02-7ab3ec214d3a",
   "metadata": {
    "id": "f79f8c2f-413e-4c42-ab02-7ab3ec214d3a",
    "tags": []
   },
   "outputs": [
    {
     "data": {
      "application/vnd.jupyter.widget-view+json": {
       "model_id": "18ef122cedcc4212b47ee36a29580d9e",
       "version_major": 2,
       "version_minor": 0
      },
      "text/plain": [
       "VBox()"
      ]
     },
     "metadata": {},
     "output_type": "display_data"
    },
    {
     "data": {
      "application/vnd.jupyter.widget-view+json": {
       "model_id": "",
       "version_major": 2,
       "version_minor": 0
      },
      "text/plain": [
       "FloatProgress(value=0.0, bar_style='info', description='Progress:', layout=Layout(height='25px', width='50%'),…"
      ]
     },
     "metadata": {},
     "output_type": "display_data"
    }
   ],
   "source": [
    "bikes_and_stations = grouped"
   ]
  },
  {
   "cell_type": "markdown",
   "id": "a2bae76d-f94c-4b8f-a932-37b036480287",
   "metadata": {
    "id": "a2bae76d-f94c-4b8f-a932-37b036480287"
   },
   "source": [
    "#### Check concatenated dataset data quality"
   ]
  },
  {
   "cell_type": "code",
   "execution_count": 55,
   "id": "906ce285-d0d6-41a6-a203-ae52cd5eb772",
   "metadata": {
    "id": "906ce285-d0d6-41a6-a203-ae52cd5eb772",
    "outputId": "9ea5aa17-b2ff-4074-e441-1982328c0acf",
    "tags": []
   },
   "outputs": [
    {
     "data": {
      "application/vnd.jupyter.widget-view+json": {
       "model_id": "ba795087dcd146fd85f50a9ad88a16ee",
       "version_major": 2,
       "version_minor": 0
      },
      "text/plain": [
       "VBox()"
      ]
     },
     "metadata": {},
     "output_type": "display_data"
    },
    {
     "data": {
      "application/vnd.jupyter.widget-view+json": {
       "model_id": "",
       "version_major": 2,
       "version_minor": 0
      },
      "text/plain": [
       "FloatProgress(value=0.0, bar_style='info', description='Progress:', layout=Layout(height='25px', width='50%'),…"
      ]
     },
     "metadata": {},
     "output_type": "display_data"
    },
    {
     "name": "stdout",
     "output_type": "stream",
     "text": [
      "root\n",
      " |-- start_station_id: integer (nullable = true)\n",
      " |-- Hour: integer (nullable = true)\n",
      " |-- Day: string (nullable = true)\n",
      " |-- DayofWeek: integer (nullable = true)\n",
      " |-- Month: integer (nullable = true)\n",
      " |-- Year: integer (nullable = true)\n",
      " |-- dateconc: string (nullable = true)\n",
      " |-- end_station_id: double (nullable = true)\n",
      " |-- sum_duration: double (nullable = true)\n",
      " |-- avg_duration: double (nullable = true)\n",
      " |-- num_rentals: long (nullable = false)\n",
      " |-- station_id: integer (nullable = true)\n",
      " |-- station_name: string (nullable = true)\n",
      " |-- longitude: double (nullable = true)\n",
      " |-- latitude: double (nullable = true)\n",
      " |-- area_cleaned: string (nullable = true)\n",
      " |-- date: integer (nullable = true)\n",
      " |-- sunshine: double (nullable = true)\n",
      " |-- mean: double (nullable = true)\n",
      " |-- cloud: double (nullable = true)\n",
      " |-- gr: double (nullable = true)\n",
      " |-- maxt: double (nullable = true)\n",
      " |-- mint: double (nullable = true)\n",
      " |-- prec: double (nullable = true)\n",
      " |-- press: double (nullable = true)\n",
      "\n",
      "None\n",
      "38139723"
     ]
    }
   ],
   "source": [
    "print(bikes_and_stations.printSchema())\n",
    "bikes_and_stations_count = london.count()\n",
    "bikes_and_stations_count"
   ]
  },
  {
   "cell_type": "code",
   "execution_count": 56,
   "id": "b7f5741c-00ce-45d7-ae0a-73c901d0323b",
   "metadata": {
    "id": "b7f5741c-00ce-45d7-ae0a-73c901d0323b",
    "outputId": "2da27475-97d6-4bdb-c11d-130274de0b0c",
    "tags": []
   },
   "outputs": [
    {
     "data": {
      "application/vnd.jupyter.widget-view+json": {
       "model_id": "dbe3a590493942c9931b2b12b7f2313a",
       "version_major": 2,
       "version_minor": 0
      },
      "text/plain": [
       "VBox()"
      ]
     },
     "metadata": {},
     "output_type": "display_data"
    },
    {
     "data": {
      "application/vnd.jupyter.widget-view+json": {
       "model_id": "",
       "version_major": 2,
       "version_minor": 0
      },
      "text/plain": [
       "FloatProgress(value=0.0, bar_style='info', description='Progress:', layout=Layout(height='25px', width='50%'),…"
      ]
     },
     "metadata": {},
     "output_type": "display_data"
    },
    {
     "name": "stdout",
     "output_type": "stream",
     "text": [
      "-RECORD 0--------------------------------\n",
      " start_station_id | 299                  \n",
      " Hour             | 13                   \n",
      " Day              | 16                   \n",
      " DayofWeek        | 5                    \n",
      " Month            | 2                    \n",
      " Year             | 2017                 \n",
      " dateconc         | 20170216             \n",
      " end_station_id   | 424.0                \n",
      " sum_duration     | 360.0                \n",
      " avg_duration     | 360.0                \n",
      " num_rentals      | 1                    \n",
      " station_id       | 299                  \n",
      " station_name     | Vincent Square, W... \n",
      " longitude        | -0.136929            \n",
      " latitude         | 51.494               \n",
      " area_cleaned     | Westminster          \n",
      " date             | 20170216             \n",
      " sunshine         | 2.5                  \n",
      " mean             | 8.6                  \n",
      " cloud            | 6.0                  \n",
      " gr               | 57.0                 \n",
      " maxt             | 13.5                 \n",
      " mint             | 4.8                  \n",
      " prec             | 0.2                  \n",
      " press            | 102960.0             \n",
      "-RECORD 1--------------------------------\n",
      " start_station_id | 553                  \n",
      " Hour             | 13                   \n",
      " Day              | 16                   \n",
      " DayofWeek        | 5                    \n",
      " Month            | 2                    \n",
      " Year             | 2017                 \n",
      " dateconc         | 20170216             \n",
      " end_station_id   | 512.0                \n",
      " sum_duration     | 540.0                \n",
      " avg_duration     | 540.0                \n",
      " num_rentals      | 1                    \n",
      " station_id       | 553                  \n",
      " station_name     | Regent's Row, Hag... \n",
      " longitude        | -0.062546            \n",
      " latitude         | 51.5357              \n",
      " area_cleaned     | Haggerston           \n",
      " date             | 20170216             \n",
      " sunshine         | 2.5                  \n",
      " mean             | 8.6                  \n",
      " cloud            | 6.0                  \n",
      " gr               | 57.0                 \n",
      " maxt             | 13.5                 \n",
      " mint             | 4.8                  \n",
      " prec             | 0.2                  \n",
      " press            | 102960.0             \n",
      "-RECORD 2--------------------------------\n",
      " start_station_id | 308                  \n",
      " Hour             | 13                   \n",
      " Day              | 16                   \n",
      " DayofWeek        | 5                    \n",
      " Month            | 2                    \n",
      " Year             | 2017                 \n",
      " dateconc         | 20170216             \n",
      " end_station_id   | 196.0                \n",
      " sum_duration     | 360.0                \n",
      " avg_duration     | 360.0                \n",
      " num_rentals      | 1                    \n",
      " station_id       | 308                  \n",
      " station_name     | Long Lane, Bermon... \n",
      " longitude        | -0.0856663           \n",
      " latitude         | 51.4991              \n",
      " area_cleaned     | Bermondsey           \n",
      " date             | 20170216             \n",
      " sunshine         | 2.5                  \n",
      " mean             | 8.6                  \n",
      " cloud            | 6.0                  \n",
      " gr               | 57.0                 \n",
      " maxt             | 13.5                 \n",
      " mint             | 4.8                  \n",
      " prec             | 0.2                  \n",
      " press            | 102960.0             \n",
      "-RECORD 3--------------------------------\n",
      " start_station_id | 140                  \n",
      " Hour             | 13                   \n",
      " Day              | 16                   \n",
      " DayofWeek        | 5                    \n",
      " Month            | 2                    \n",
      " Year             | 2017                 \n",
      " dateconc         | 20170216             \n",
      " end_station_id   | 697.0                \n",
      " sum_duration     | 1020.0               \n",
      " avg_duration     | 1020.0               \n",
      " num_rentals      | 1                    \n",
      " station_id       | 140                  \n",
      " station_name     | Finsbury Square, ... \n",
      " longitude        | -0.0856342           \n",
      " latitude         | 51.521               \n",
      " area_cleaned     | Moorgate             \n",
      " date             | 20170216             \n",
      " sunshine         | 2.5                  \n",
      " mean             | 8.6                  \n",
      " cloud            | 6.0                  \n",
      " gr               | 57.0                 \n",
      " maxt             | 13.5                 \n",
      " mint             | 4.8                  \n",
      " prec             | 0.2                  \n",
      " press            | 102960.0             \n",
      "-RECORD 4--------------------------------\n",
      " start_station_id | 57                   \n",
      " Hour             | 13                   \n",
      " Day              | 16                   \n",
      " DayofWeek        | 5                    \n",
      " Month            | 2                    \n",
      " Year             | 2017                 \n",
      " dateconc         | 20170216             \n",
      " end_station_id   | 806.0                \n",
      " sum_duration     | 480.0                \n",
      " avg_duration     | 480.0                \n",
      " num_rentals      | 1                    \n",
      " station_id       | 57                   \n",
      " station_name     | Guilford Street, ... \n",
      " longitude        | -0.12020299999999999 \n",
      " latitude         | 51.5233              \n",
      " area_cleaned     | Bloomsbury           \n",
      " date             | 20170216             \n",
      " sunshine         | 2.5                  \n",
      " mean             | 8.6                  \n",
      " cloud            | 6.0                  \n",
      " gr               | 57.0                 \n",
      " maxt             | 13.5                 \n",
      " mint             | 4.8                  \n",
      " prec             | 0.2                  \n",
      " press            | 102960.0             \n",
      "-RECORD 5--------------------------------\n",
      " start_station_id | 248                  \n",
      " Hour             | 13                   \n",
      " Day              | 16                   \n",
      " DayofWeek        | 5                    \n",
      " Month            | 2                    \n",
      " Year             | 2017                 \n",
      " dateconc         | 20170216             \n",
      " end_station_id   | 356.0                \n",
      " sum_duration     | 2580.0               \n",
      " avg_duration     | 1290.0               \n",
      " num_rentals      | 2                    \n",
      " station_id       | 248                  \n",
      " station_name     | Triangle Car Park... \n",
      " longitude        | -0.17028             \n",
      " latitude         | 51.5065              \n",
      " area_cleaned     | HydePark             \n",
      " date             | 20170216             \n",
      " sunshine         | 2.5                  \n",
      " mean             | 8.6                  \n",
      " cloud            | 6.0                  \n",
      " gr               | 57.0                 \n",
      " maxt             | 13.5                 \n",
      " mint             | 4.8                  \n",
      " prec             | 0.2                  \n",
      " press            | 102960.0             \n",
      "-RECORD 6--------------------------------\n",
      " start_station_id | 587                  \n",
      " Hour             | 13                   \n",
      " Day              | 16                   \n",
      " DayofWeek        | 5                    \n",
      " Month            | 2                    \n",
      " Year             | 2017                 \n",
      " dateconc         | 20170216             \n",
      " end_station_id   | 104.0                \n",
      " sum_duration     | 240.0                \n",
      " avg_duration     | 240.0                \n",
      " num_rentals      | 1                    \n",
      " station_id       | 587                  \n",
      " station_name     | Monument Street, ... \n",
      " longitude        | -0.08497             \n",
      " latitude         | 51.5096              \n",
      " area_cleaned     | Monument             \n",
      " date             | 20170216             \n",
      " sunshine         | 2.5                  \n",
      " mean             | 8.6                  \n",
      " cloud            | 6.0                  \n",
      " gr               | 57.0                 \n",
      " maxt             | 13.5                 \n",
      " mint             | 4.8                  \n",
      " prec             | 0.2                  \n",
      " press            | 102960.0             \n",
      "-RECORD 7--------------------------------\n",
      " start_station_id | 524                  \n",
      " Hour             | 13                   \n",
      " Day              | 16                   \n",
      " DayofWeek        | 5                    \n",
      " Month            | 2                    \n",
      " Year             | 2017                 \n",
      " dateconc         | 20170216             \n",
      " end_station_id   | 428.0                \n",
      " sum_duration     | 720.0                \n",
      " avg_duration     | 720.0                \n",
      " num_rentals      | 1                    \n",
      " station_id       | 524                  \n",
      " station_name     | Lancaster Gate, B... \n",
      " longitude        | -0.179668            \n",
      " latitude         | 51.5117              \n",
      " area_cleaned     | Bayswater            \n",
      " date             | 20170216             \n",
      " sunshine         | 2.5                  \n",
      " mean             | 8.6                  \n",
      " cloud            | 6.0                  \n",
      " gr               | 57.0                 \n",
      " maxt             | 13.5                 \n",
      " mint             | 4.8                  \n",
      " prec             | 0.2                  \n",
      " press            | 102960.0             \n",
      "-RECORD 8--------------------------------\n",
      " start_station_id | 61                   \n",
      " Hour             | 13                   \n",
      " Day              | 16                   \n",
      " DayofWeek        | 5                    \n",
      " Month            | 2                    \n",
      " Year             | 2017                 \n",
      " dateconc         | 20170216             \n",
      " end_station_id   | 297.0                \n",
      " sum_duration     | 540.0                \n",
      " avg_duration     | 540.0                \n",
      " num_rentals      | 1                    \n",
      " station_id       | 61                   \n",
      " station_name     | Great Dover Stree... \n",
      " longitude        | -0.0894469           \n",
      " latitude         | 51.4974              \n",
      " area_cleaned     | TheBorough           \n",
      " date             | 20170216             \n",
      " sunshine         | 2.5                  \n",
      " mean             | 8.6                  \n",
      " cloud            | 6.0                  \n",
      " gr               | 57.0                 \n",
      " maxt             | 13.5                 \n",
      " mint             | 4.8                  \n",
      " prec             | 0.2                  \n",
      " press            | 102960.0             \n",
      "-RECORD 9--------------------------------\n",
      " start_station_id | 74                   \n",
      " Hour             | 13                   \n",
      " Day              | 16                   \n",
      " DayofWeek        | 5                    \n",
      " Month            | 2                    \n",
      " Year             | 2017                 \n",
      " dateconc         | 20170216             \n",
      " end_station_id   | 191.0                \n",
      " sum_duration     | 780.0                \n",
      " avg_duration     | 780.0                \n",
      " num_rentals      | 1                    \n",
      " station_id       | 74                   \n",
      " station_name     | Vauxhall Cross, V... \n",
      " longitude        | -0.12447000000000001 \n",
      " latitude         | 51.4859              \n",
      " area_cleaned     | Vauxhall             \n",
      " date             | 20170216             \n",
      " sunshine         | 2.5                  \n",
      " mean             | 8.6                  \n",
      " cloud            | 6.0                  \n",
      " gr               | 57.0                 \n",
      " maxt             | 13.5                 \n",
      " mint             | 4.8                  \n",
      " prec             | 0.2                  \n",
      " press            | 102960.0             \n",
      "only showing top 10 rows"
     ]
    }
   ],
   "source": [
    "bikes_and_stations.show(10, vertical=True)"
   ]
  },
  {
   "cell_type": "code",
   "execution_count": 57,
   "id": "e6e3ecff-140b-4f67-8a39-039a2c6abcdd",
   "metadata": {
    "id": "e6e3ecff-140b-4f67-8a39-039a2c6abcdd",
    "outputId": "b35f6934-2833-4e43-8bf8-305cc9244f22",
    "tags": []
   },
   "outputs": [
    {
     "data": {
      "application/vnd.jupyter.widget-view+json": {
       "model_id": "683275b7e4d34807bbd6c4ba9cd6058b",
       "version_major": 2,
       "version_minor": 0
      },
      "text/plain": [
       "VBox()"
      ]
     },
     "metadata": {},
     "output_type": "display_data"
    },
    {
     "data": {
      "application/vnd.jupyter.widget-view+json": {
       "model_id": "",
       "version_major": 2,
       "version_minor": 0
      },
      "text/plain": [
       "FloatProgress(value=0.0, bar_style='info', description='Progress:', layout=Layout(height='25px', width='50%'),…"
      ]
     },
     "metadata": {},
     "output_type": "display_data"
    },
    {
     "name": "stdout",
     "output_type": "stream",
     "text": [
      "\n",
      "Nulls in dataframe:\n",
      "Column station_id with 3780 nulls or NaN, out of 38139723 records (0.01%)\n",
      "Column station_name with 3780 nulls or NaN, out of 38139723 records (0.01%)\n",
      "Column longitude with 3780 nulls or NaN, out of 38139723 records (0.01%)\n",
      "Column latitude with 3780 nulls or NaN, out of 38139723 records (0.01%)\n",
      "Column area_cleaned with 3780 nulls or NaN, out of 38139723 records (0.01%)"
     ]
    }
   ],
   "source": [
    "print('\\nNulls in dataframe:')\n",
    "cols_to_forget = []\n",
    "bikes_and_stations_cols_int = [x for x in bikes_and_stations.columns if x not in cols_to_forget]\n",
    "for cl in bikes_and_stations_cols_int:\n",
    "    k = bikes_and_stations.select(cl).filter(F.col(cl).isNull()).count()\n",
    "    if k > 0:\n",
    "        print(f'Column {cl} with {k} nulls or NaN, out of {bikes_and_stations_count} records ({k*100/bikes_and_stations_count:.2f}%)')"
   ]
  },
  {
   "cell_type": "code",
   "execution_count": 58,
   "id": "6ac0842c-7412-4060-9c28-f4ae5bf4e537",
   "metadata": {
    "id": "6ac0842c-7412-4060-9c28-f4ae5bf4e537"
   },
   "outputs": [
    {
     "data": {
      "application/vnd.jupyter.widget-view+json": {
       "model_id": "5a6fb8c6e79c4b079c2e01d1b625ba38",
       "version_major": 2,
       "version_minor": 0
      },
      "text/plain": [
       "VBox()"
      ]
     },
     "metadata": {},
     "output_type": "display_data"
    },
    {
     "data": {
      "application/vnd.jupyter.widget-view+json": {
       "model_id": "",
       "version_major": 2,
       "version_minor": 0
      },
      "text/plain": [
       "FloatProgress(value=0.0, bar_style='info', description='Progress:', layout=Layout(height='25px', width='50%'),…"
      ]
     },
     "metadata": {},
     "output_type": "display_data"
    },
    {
     "name": "stdout",
     "output_type": "stream",
     "text": [
      "\n",
      "Feature describe for dataframe:\n",
      "-RECORD 0--------------------------------\n",
      " summary          | count                \n",
      " start_station_id | 32230756             \n",
      " Hour             | 32230756             \n",
      " Day              | 32230756             \n",
      " DayofWeek        | 32230756             \n",
      " Month            | 32230756             \n",
      " Year             | 32230756             \n",
      " dateconc         | 32230756             \n",
      " end_station_id   | 32230756             \n",
      " sum_duration     | 32230756             \n",
      " avg_duration     | 32230756             \n",
      " num_rentals      | 32230756             \n",
      " station_id       | 32226976             \n",
      " station_name     | 32226976             \n",
      " longitude        | 32226976             \n",
      " latitude         | 32226976             \n",
      " area_cleaned     | 32226976             \n",
      " date             | 32230756             \n",
      " sunshine         | 32230756             \n",
      " mean             | 32230756             \n",
      " cloud            | 32230756             \n",
      " gr               | 32230756             \n",
      " maxt             | 32230756             \n",
      " mint             | 32230756             \n",
      " prec             | 32230756             \n",
      " press            | 32230756             \n",
      "-RECORD 1--------------------------------\n",
      " summary          | mean                 \n",
      " start_station_id | 374.62916293368977   \n",
      " Hour             | 13.631250473926208   \n",
      " Day              | 15.719029519506151   \n",
      " DayofWeek        | 4.027922894517274    \n",
      " Month            | 6.317480886889529    \n",
      " Year             | 2018.3532628586186   \n",
      " dateconc         | 2.0184180095704395E7 \n",
      " end_station_id   | 372.3272282846856    \n",
      " sum_duration     | 1522.3470915792357   \n",
      " avg_duration     | 1167.032584136862    \n",
      " num_rentals      | 1.183312547803719    \n",
      " station_id       | 374.6274259800237    \n",
      " station_name     | null                 \n",
      " longitude        | -0.1258594257226125  \n",
      " latitude         | 51.507813474082965   \n",
      " area_cleaned     | null                 \n",
      " date             | 2.0184180095704395E7 \n",
      " sunshine         | 5.233910579105469    \n",
      " mean             | 13.655536571933954   \n",
      " cloud            | 4.790773260174226    \n",
      " gr               | 140.67006470465662   \n",
      " maxt             | 18.07157595686467    \n",
      " mint             | 9.183966842169964    \n",
      " prec             | 1.3222593848046598   \n",
      " press            | 101601.26800066371   \n",
      "-RECORD 2--------------------------------\n",
      " summary          | stddev               \n",
      " start_station_id | 242.09425675997574   \n",
      " Hour             | 4.909566337405412    \n",
      " Day              | 8.737743972006268    \n",
      " DayofWeek        | 1.8618614957842752   \n",
      " Month            | 3.1031116588074346   \n",
      " Year             | 1.0636255246479633   \n",
      " dateconc         | 10594.075527027107   \n",
      " end_station_id   | 242.33169926943364   \n",
      " sum_duration     | 5100.092945971759    \n",
      " avg_duration     | 4087.951880891385    \n",
      " num_rentals      | 0.6165088205343546   \n",
      " station_id       | 242.10828762702187   \n",
      " station_name     | null                 \n",
      " longitude        | 0.04914555890585612  \n",
      " latitude         | 0.01867673707494716  \n",
      " area_cleaned     | null                 \n",
      " date             | 10594.075527027107   \n",
      " sunshine         | 4.384442069393444    \n",
      " mean             | 5.864176627209094    \n",
      " cloud            | 2.389760958002571    \n",
      " gr               | 97.71327979232768    \n",
      " maxt             | 6.962383623283556    \n",
      " mint             | 5.2451178293200025   \n",
      " prec             | 3.1309633239913133   \n",
      " press            | 978.0548213968297    \n",
      "-RECORD 3--------------------------------\n",
      " summary          | min                  \n",
      " start_station_id | 1                    \n",
      " Hour             | 0                    \n",
      " Day              | 1                    \n",
      " DayofWeek        | 1                    \n",
      " Month            | 1                    \n",
      " Year             | 2016                 \n",
      " dateconc         | 20161228             \n",
      " end_station_id   | 1.0                  \n",
      " sum_duration     | 2.0                  \n",
      " avg_duration     | 2.0                  \n",
      " num_rentals      | 1                    \n",
      " station_id       | 1                    \n",
      " station_name     | Abbey Orchard Str... \n",
      " longitude        | -0.23676999999999998 \n",
      " latitude         | 51.3341              \n",
      " area_cleaned     | Aldgate              \n",
      " date             | 20161228             \n",
      " sunshine         | 0.0                  \n",
      " mean             | -3.3                 \n",
      " cloud            | 0.0                  \n",
      " gr               | 10.0                 \n",
      " maxt             | -1.2                 \n",
      " mint             | -5.4                 \n",
      " prec             | 0.0                  \n",
      " press            | 97900.0              \n",
      "-RECORD 4--------------------------------\n",
      " summary          | max                  \n",
      " start_station_id | 839                  \n",
      " Hour             | 23                   \n",
      " Day              | 9                    \n",
      " DayofWeek        | 7                    \n",
      " Month            | 12                   \n",
      " Year             | 2020                 \n",
      " dateconc         | 20200901             \n",
      " end_station_id   | 839.0                \n",
      " sum_duration     | 1984694.0            \n",
      " avg_duration     | 1984694.0            \n",
      " num_rentals      | 57                   \n",
      " station_id       | 839                  \n",
      " station_name     | York Way, Kings C... \n",
      " longitude        | -0.002275            \n",
      " latitude         | 51.5494              \n",
      " area_cleaned     | Whitechapel          \n",
      " date             | 20200901             \n",
      " sunshine         | 16.0                 \n",
      " mean             | 28.8                 \n",
      " cloud            | 9.0                  \n",
      " gr               | 402.0                \n",
      " maxt             | 37.9                 \n",
      " mint             | 21.7                 \n",
      " prec             | 36.8                 \n",
      " press            | 104820.0"
     ]
    }
   ],
   "source": [
    "cols_interest = []\n",
    "print('\\nFeature describe for dataframe:')\n",
    "bikes_and_stations.describe().show(vertical=True)"
   ]
  },
  {
   "cell_type": "code",
   "execution_count": 59,
   "id": "3595ad58-b34c-4dbd-89ea-7836323ed75f",
   "metadata": {
    "id": "3595ad58-b34c-4dbd-89ea-7836323ed75f",
    "tags": []
   },
   "outputs": [
    {
     "data": {
      "application/vnd.jupyter.widget-view+json": {
       "model_id": "8a8636cf0e02413bbb9365af1b972200",
       "version_major": 2,
       "version_minor": 0
      },
      "text/plain": [
       "VBox()"
      ]
     },
     "metadata": {},
     "output_type": "display_data"
    },
    {
     "data": {
      "application/vnd.jupyter.widget-view+json": {
       "model_id": "",
       "version_major": 2,
       "version_minor": 0
      },
      "text/plain": [
       "FloatProgress(value=0.0, bar_style='info', description='Progress:', layout=Layout(height='25px', width='50%'),…"
      ]
     },
     "metadata": {},
     "output_type": "display_data"
    },
    {
     "name": "stdout",
     "output_type": "stream",
     "text": [
      "\n",
      "How many duplicates:\n",
      "0"
     ]
    }
   ],
   "source": [
    "print('\\nHow many duplicates:')\n",
    "\n",
    "print(bikes_and_stations.count() - bikes_and_stations.dropDuplicates().count())"
   ]
  },
  {
   "cell_type": "code",
   "execution_count": 64,
   "id": "c676ae15-bbb9-495c-a96e-f02025b78f74",
   "metadata": {
    "id": "c676ae15-bbb9-495c-a96e-f02025b78f74"
   },
   "outputs": [
    {
     "data": {
      "application/vnd.jupyter.widget-view+json": {
       "model_id": "1b59b97c61fe4b47b31fd6a40563c223",
       "version_major": 2,
       "version_minor": 0
      },
      "text/plain": [
       "VBox()"
      ]
     },
     "metadata": {},
     "output_type": "display_data"
    },
    {
     "data": {
      "application/vnd.jupyter.widget-view+json": {
       "model_id": "52611106174445529f672125851db56a",
       "version_major": 2,
       "version_minor": 0
      },
      "text/plain": [
       "FloatProgress(value=0.0, bar_style='info', description='Progress:', layout=Layout(height='25px', width='50%'),…"
      ]
     },
     "metadata": {},
     "output_type": "display_data"
    },
    {
     "name": "stderr",
     "output_type": "stream",
     "text": [
      "Interrupted by user\n"
     ]
    }
   ],
   "source": [
    "print('\\nUnique values:')\n",
    "for cl in bikes_and_stations.columns:\n",
    "    k = bikes_and_stations.select(cl).distinct().count()\n",
    "    print(f'Column {cl} with {k} distinct values, out of {bikes_and_stations_count} records ({k*100/bikes_and_stations_count:.2f}%)')"
   ]
  },
  {
   "cell_type": "markdown",
   "id": "7189968a-fc1b-4dc7-98cf-8f050786a2ff",
   "metadata": {
    "id": "7189968a-fc1b-4dc7-98cf-8f050786a2ff"
   },
   "source": [
    "### Actions"
   ]
  },
  {
   "cell_type": "code",
   "execution_count": 61,
   "id": "5c32de9a-bc37-4fa4-a8d4-84dcda14cb6c",
   "metadata": {
    "id": "5c32de9a-bc37-4fa4-a8d4-84dcda14cb6c",
    "outputId": "24e87161-af66-4ee6-f796-0ab9970e0b4e",
    "tags": []
   },
   "outputs": [
    {
     "data": {
      "application/vnd.jupyter.widget-view+json": {
       "model_id": "693fb10586e040438b0f8dc7027b44e2",
       "version_major": 2,
       "version_minor": 0
      },
      "text/plain": [
       "VBox()"
      ]
     },
     "metadata": {},
     "output_type": "display_data"
    },
    {
     "data": {
      "application/vnd.jupyter.widget-view+json": {
       "model_id": "",
       "version_major": 2,
       "version_minor": 0
      },
      "text/plain": [
       "FloatProgress(value=0.0, bar_style='info', description='Progress:', layout=Layout(height='25px', width='50%'),…"
      ]
     },
     "metadata": {},
     "output_type": "display_data"
    }
   ],
   "source": [
    "bikes_and_stations = bikes_and_stations.na.drop()"
   ]
  },
  {
   "cell_type": "code",
   "execution_count": 63,
   "id": "2ae6ac11-bdcb-40d8-8a5c-c56ecf39933e",
   "metadata": {
    "id": "2ae6ac11-bdcb-40d8-8a5c-c56ecf39933e",
    "tags": []
   },
   "outputs": [
    {
     "data": {
      "application/vnd.jupyter.widget-view+json": {
       "model_id": "01d7083994ff43a1b5f31f97269ac530",
       "version_major": 2,
       "version_minor": 0
      },
      "text/plain": [
       "VBox()"
      ]
     },
     "metadata": {},
     "output_type": "display_data"
    },
    {
     "data": {
      "application/vnd.jupyter.widget-view+json": {
       "model_id": "",
       "version_major": 2,
       "version_minor": 0
      },
      "text/plain": [
       "FloatProgress(value=0.0, bar_style='info', description='Progress:', layout=Layout(height='25px', width='50%'),…"
      ]
     },
     "metadata": {},
     "output_type": "display_data"
    }
   ],
   "source": [
    "bikes_and_stations.write.mode(\"overwrite\").parquet(\"s3://abdbucketjddc/dataout/londonbikes\")"
   ]
  },
  {
   "cell_type": "markdown",
   "id": "c45a12a3-d6be-43bd-bfb3-1362f20164c5",
   "metadata": {
    "id": "c45a12a3-d6be-43bd-bfb3-1362f20164c5"
   },
   "source": [
    "## Visualizing data"
   ]
  },
  {
   "cell_type": "code",
   "execution_count": null,
   "id": "f88d36db-a817-43bd-a73f-750c75e7c978",
   "metadata": {
    "id": "f88d36db-a817-43bd-a73f-750c75e7c978",
    "tags": []
   },
   "outputs": [],
   "source": [
    "def plotBar(df, xcol, ycol, huecol=None):\n",
    "    return sns.barplot(data=df, x=xcol, y=ycol, hue=huecol)"
   ]
  },
  {
   "cell_type": "code",
   "execution_count": null,
   "id": "74de8ed6-7ed7-45d2-a036-ae73e3a958f9",
   "metadata": {
    "id": "74de8ed6-7ed7-45d2-a036-ae73e3a958f9",
    "tags": []
   },
   "outputs": [],
   "source": [
    "def plotCorrelationMatrix(df, annot=False):\n",
    "    # compute the correlation matrix\n",
    "    corr = df.corr()\n",
    "    \n",
    "    # generate a mask for the upper triangle\n",
    "    mask = np.triu(np.ones_like(corr, dtype=bool))\n",
    "\n",
    "    # set up the matplotlib figure\n",
    "    f, ax = plt.subplots(figsize=(20, 9))\n",
    "\n",
    "    # generate a custom colormap\n",
    "    #cmap = sns.divergent_palette(230, 20, as_cmap=True)\n",
    "    \n",
    "    cmap='coolwarm'\n",
    "\n",
    "    # draw the heatmap with the mask and correct aspect ratio\n",
    "    return sns.heatmap(corr, mask=mask, cmap=cmap, vmax=.3, center=0, annot=annot,\n",
    "            square=True, linewidths=.5, cbar_kws={\"shrink\": .5})"
   ]
  },
  {
   "cell_type": "code",
   "execution_count": null,
   "id": "f31a90ac-f8ed-40ce-8c3c-907e7a7a39f7",
   "metadata": {
    "id": "f31a90ac-f8ed-40ce-8c3c-907e7a7a39f7",
    "tags": []
   },
   "outputs": [],
   "source": [
    "df_plot = ( bikes_and_stations\n",
    "                .groupby('Year')\n",
    "                .count()\n",
    "                .sort('Year', ascending=True)\n",
    "                .toPandas()\n",
    "          )\n",
    "plotBar(df_plot, 'Year', 'count')\n",
    "plt.title('Number of rentals in London by year')\n",
    "plt.show()"
   ]
  },
  {
   "cell_type": "code",
   "execution_count": null,
   "id": "d538db3c-fc17-4113-a04d-d27a2084f0f0",
   "metadata": {
    "id": "d538db3c-fc17-4113-a04d-d27a2084f0f0",
    "tags": []
   },
   "outputs": [],
   "source": [
    "df_plot = ( bikes_and_stations\n",
    "                .groupby('Month')\n",
    "                .count()\n",
    "                .sort('Month', ascending=True)\n",
    "                .toPandas()\n",
    "          )\n",
    "plotBar(df_plot, 'Month', 'count')\n",
    "plt.title('Number of rentals in London by month')\n",
    "plt.show()"
   ]
  },
  {
   "cell_type": "code",
   "execution_count": null,
   "id": "326755f5-4137-460b-b419-4a54e06a13a3",
   "metadata": {
    "id": "326755f5-4137-460b-b419-4a54e06a13a3",
    "tags": []
   },
   "outputs": [],
   "source": [
    "df_plot = ( bikes_and_stations\n",
    "                .groupby('Hour')\n",
    "                .count()\n",
    "                .sort('Hour', ascending=True)\n",
    "                .toPandas()\n",
    "          )\n",
    "plotBar(df_plot, 'Hour', 'count')\n",
    "plt.title('Number of rentals in London by Hour')\n",
    "plt.show()"
   ]
  },
  {
   "cell_type": "code",
   "execution_count": null,
   "id": "17330574-6fc1-46f2-b442-bc040e8e46a9",
   "metadata": {
    "id": "17330574-6fc1-46f2-b442-bc040e8e46a9",
    "tags": []
   },
   "outputs": [],
   "source": [
    "df_plot = ( bikes_and_stations\n",
    "                .groupby('DayofWeek')\n",
    "                .count()\n",
    "                .sort('DayofWeek', ascending=True)\n",
    "                .toPandas()\n",
    "          )\n",
    "plotBar(df_plot, 'DayofWeek', 'count')\n",
    "plt.title('Number of rentals in London by day of the week')\n",
    "plt.show()"
   ]
  },
  {
   "cell_type": "code",
   "execution_count": null,
   "id": "4479ec2c-9ea4-46e8-91e3-ff81c75f6115",
   "metadata": {
    "id": "4479ec2c-9ea4-46e8-91e3-ff81c75f6115",
    "tags": []
   },
   "outputs": [],
   "source": [
    "df_plot = ( bikes_and_stations\n",
    "                .groupby('mean')\n",
    "                .count()\n",
    "                .sort('mean', ascending=True)\n",
    "                .toPandas()\n",
    "          )\n",
    "plotBar(df_plot, 'mean', 'count')\n",
    "plt.title('Number of rentals in London by mean temperature')\n",
    "plt.show()"
   ]
  },
  {
   "cell_type": "code",
   "execution_count": null,
   "id": "408dee5f-d8c5-4b2a-b79a-6889c9a62d54",
   "metadata": {
    "id": "408dee5f-d8c5-4b2a-b79a-6889c9a62d54"
   },
   "outputs": [],
   "source": [
    "df_plot = ( bikes_and_stations\n",
    "                .groupby('sunshine')\n",
    "                .count()\n",
    "                .sort('sunshine', ascending=True)\n",
    "                .toPandas()\n",
    "          )\n",
    "plotBar(df_plot, 'sunshine', 'count')\n",
    "plt.title('Number of rentals in London by sunshine')\n",
    "plt.show()"
   ]
  },
  {
   "cell_type": "code",
   "execution_count": null,
   "id": "8054be36-f291-4751-a176-18c51f7b7f8f",
   "metadata": {
    "id": "8054be36-f291-4751-a176-18c51f7b7f8f"
   },
   "outputs": [],
   "source": [
    "df_plot = ( bikes_and_stations\n",
    "                .groupby('press')\n",
    "                .count()\n",
    "                .sort('press', ascending=True)\n",
    "                .toPandas()\n",
    "          )\n",
    "plotBar(df_plot, 'press', 'count')\n",
    "plt.title('Number of rentals in London by pressure')\n",
    "plt.show()"
   ]
  },
  {
   "cell_type": "code",
   "execution_count": null,
   "id": "09fa205e-1eb7-4b1a-934d-80cb1ecc29b1",
   "metadata": {
    "id": "09fa205e-1eb7-4b1a-934d-80cb1ecc29b1"
   },
   "outputs": [],
   "source": [
    "df_plot = ( bikes_and_stations\n",
    "                .groupby('prec')\n",
    "                .count()\n",
    "                .sort('prec', ascending=True)\n",
    "                .toPandas()\n",
    "          )\n",
    "plotBar(df_plot, 'prec', 'count')\n",
    "plt.title('Number of rentals in London by precipitation')\n",
    "plt.show()"
   ]
  },
  {
   "cell_type": "code",
   "execution_count": null,
   "id": "23693cf8-8451-46ba-a0ad-096cab5d6293",
   "metadata": {
    "id": "23693cf8-8451-46ba-a0ad-096cab5d6293"
   },
   "outputs": [],
   "source": [
    "import matplotlib.pyplot as plt\n",
    "\n",
    "# Assuming you have a PySpark DataFrame called 'bikes_and_stations' and a column named 'start_area'\n",
    "df_plot = grouped.groupBy('area_cleaned').count().orderBy('count', ascending=True).limit(15).toPandas()\n",
    "\n",
    "# Creating the horizontal bar plot\n",
    "plt.barh(df_plot['area_cleaned'], df_plot['count'])\n",
    "\n",
    "# Adding labels and title\n",
    "plt.xlabel('Count')\n",
    "plt.ylabel('Area')\n",
    "plt.title('Area with most rentals')\n",
    "\n",
    "# Displaying the plot\n",
    "plt.show()\n"
   ]
  },
  {
   "cell_type": "markdown",
   "id": "0c47f2c8-fae5-450d-b37b-7788181f6411",
   "metadata": {},
   "source": [
    "### Map Visualizing:"
   ]
  },
  {
   "cell_type": "code",
   "execution_count": null,
   "id": "46574c7a-6fea-45a9-9f38-220a22cbb2b1",
   "metadata": {},
   "outputs": [],
   "source": [
    "from pyspark.sql.functions import sum,avg,max,count\n",
    "\n",
    "group_cols = [\"start_station_id\", \"dateconc\"]\n",
    "\n",
    "grouped = joined.groupBy(group_cols) \\\n",
    "            .agg(sum(\"duration\").alias(\"sum_duration\"), \\\n",
    "                 avg(\"duration\").alias(\"avg_duration\"), \\\n",
    "                 count('duration').alias('num_rentals')\n",
    "                 )\n",
    "\n",
    "grouped.show(1, truncate=False, vertical=True)"
   ]
  },
  {
   "cell_type": "code",
   "execution_count": null,
   "id": "7c1a3347-6597-4619-8144-30b0f5be5246",
   "metadata": {},
   "outputs": [],
   "source": [
    "joined = grouped.join(new_weather, grouped.dateconc == new_weather.date, 'left')\n",
    "\n",
    "joined.show(5, vertical=True)"
   ]
  },
  {
   "cell_type": "code",
   "execution_count": null,
   "id": "07c28be8-1e23-40a3-888a-9ad6f78e859c",
   "metadata": {
    "id": "07c28be8-1e23-40a3-888a-9ad6f78e859c",
    "tags": []
   },
   "outputs": [],
   "source": [
    "#!pip install folium\n",
    "import folium\n",
    "from folium import Choropleth, Circle, Marker\n",
    "from folium.plugins import HeatMap, MarkerCluster\n",
    "\n",
    "df = joined.toPandas()\n",
    "\n",
    "# find the row of the house which has the highest price\n",
    "maxpr=df.loc[df['num_rentals'].idxmax()]\n",
    "\n",
    "# define a function to draw a basemap easily\n",
    "def generateBaseMap(default_location=[51.5292, -0.109971], default_zoom_start=9.4):\n",
    "    base_map = folium.Map(location=default_location, control_scale=True, zoom_start=default_zoom_start)\n",
    "    return base_map\n",
    "\n",
    "df_copy = df.copy()\n",
    "df_copy['count'] = 1\n",
    "basemap = generateBaseMap()\n",
    "# add carton position map\n",
    "folium.TileLayer('cartodbpositron').add_to(basemap)\n",
    "s=folium.FeatureGroup(name='icon').add_to(basemap)\n",
    "# add a marker for the house which has the highest price\n",
    "folium.Marker([maxpr['latitude'], maxpr['longitude']],popup='Highest Rentals: $'+str(format(maxpr['num_rentals'],'.0f')),\n",
    "              icon=folium.Icon(color='green')).add_to(s)\n",
    "# add heatmap\n",
    "HeatMap(data=df_copy[['latitude','longitude','count']].groupby(['latitude','longitude']).sum().reset_index().values.tolist(),\n",
    "        radius=8,max_zoom=13,name='Heat Map').add_to(basemap)\n",
    "folium.LayerControl(collapsed=False).add_to(basemap)\n",
    "basemap"
   ]
  }
 ],
 "metadata": {
  "colab": {
   "provenance": []
  },
  "kernelspec": {
   "display_name": "PySpark",
   "language": "python",
   "name": "pysparkkernel"
  },
  "language_info": {
   "codemirror_mode": {
    "name": "python",
    "version": 3
   },
   "file_extension": ".py",
   "mimetype": "text/x-python",
   "name": "pyspark",
   "pygments_lexer": "python3"
  }
 },
 "nbformat": 4,
 "nbformat_minor": 5
}
