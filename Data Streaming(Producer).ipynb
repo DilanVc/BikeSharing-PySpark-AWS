{
 "cells": [
  {
   "cell_type": "code",
   "execution_count": 11,
   "id": "d618bf4a-2d50-4c08-84b4-313603360c4a",
   "metadata": {
    "tags": []
   },
   "outputs": [
    {
     "name": "stdout",
     "output_type": "stream",
     "text": [
      "/home/dilanveracruz\n"
     ]
    }
   ],
   "source": [
    "%%bash\n",
    "pwd"
   ]
  },
  {
   "cell_type": "code",
   "execution_count": 12,
   "id": "81063737-1748-4e62-842b-08c469c26d34",
   "metadata": {
    "tags": []
   },
   "outputs": [],
   "source": [
    "from pyspark.sql import SparkSession\n",
    "spark = SparkSession\\\n",
    "    .builder\\\n",
    "    .appName(\"KafkaProducer\")\\\n",
    "    .config(\"spark.sql.shuffle.partitions\",6)\\\n",
    "    .config(\"spark.sql.repl.eagereval.enabled\",True)\\\n",
    "    .getOrCreate()"
   ]
  },
  {
   "cell_type": "code",
   "execution_count": 13,
   "id": "21b94fe8-6dc1-45f2-a9d3-4e1151fa70b0",
   "metadata": {
    "tags": []
   },
   "outputs": [],
   "source": [
    "spark.conf.set(\"spark.sql.legacy.timeParserPolicy\", \"LEGACY\")"
   ]
  },
  {
   "cell_type": "markdown",
   "id": "c115f7fd-08cd-4e05-bc9f-3d86d0236d02",
   "metadata": {},
   "source": [
    "##### import the data "
   ]
  },
  {
   "cell_type": "code",
   "execution_count": 14,
   "id": "328dd6a7-378c-4a5d-b56c-20c793a0b6c4",
   "metadata": {
    "tags": []
   },
   "outputs": [
    {
     "name": "stdout",
     "output_type": "stream",
     "text": [
      "root\n",
      " |-- Hour: integer (nullable = true)\n",
      " |-- Day: integer (nullable = true)\n",
      " |-- DayofWeek: integer (nullable = true)\n",
      " |-- Month: integer (nullable = true)\n",
      " |-- end_station_id: double (nullable = true)\n",
      " |-- num_rentals: long (nullable = true)\n",
      " |-- station_id: integer (nullable = true)\n",
      " |-- station_name: string (nullable = true)\n",
      " |-- longitude: double (nullable = true)\n",
      " |-- latitude: double (nullable = true)\n",
      " |-- area_cleaned: string (nullable = true)\n",
      " |-- date: integer (nullable = true)\n",
      " |-- sunshine: double (nullable = true)\n",
      " |-- mean: double (nullable = true)\n",
      " |-- cloud: double (nullable = true)\n",
      " |-- prec: double (nullable = true)\n",
      " |-- press: double (nullable = true)\n",
      "\n"
     ]
    },
    {
     "name": "stderr",
     "output_type": "stream",
     "text": [
      "[Stage 23:>                                                         (0 + 6) / 6]\r"
     ]
    },
    {
     "name": "stdout",
     "output_type": "stream",
     "text": [
      "-RECORD 0------------------------------\n",
      " Hour           | 0                    \n",
      " Day            | 28                   \n",
      " DayofWeek      | 4                    \n",
      " Month          | 12                   \n",
      " end_station_id | 436.0                \n",
      " num_rentals    | 2                    \n",
      " station_id     | 246                  \n",
      " station_name   | Berry Street, Cle... \n",
      " longitude      | -0.0999941           \n",
      " latitude       | 51.5229              \n",
      " area_cleaned   | Clerkenwell          \n",
      " date           | 20161228             \n",
      " sunshine       | 4.7                  \n",
      " mean           | 3.0                  \n",
      " cloud          | 2.0                  \n",
      " prec           | 0.2                  \n",
      " press          | 104260.0             \n",
      "-RECORD 1------------------------------\n",
      " Hour           | 0                    \n",
      " Day            | 28                   \n",
      " DayofWeek      | 4                    \n",
      " Month          | 12                   \n",
      " end_station_id | 378.0                \n",
      " num_rentals    | 1                    \n",
      " station_id     | 378                  \n",
      " station_name   | Natural History M... \n",
      " longitude      | -0.179078            \n",
      " latitude       | 51.4956              \n",
      " area_cleaned   | SouthKensington      \n",
      " date           | 20161228             \n",
      " sunshine       | 4.7                  \n",
      " mean           | 3.0                  \n",
      " cloud          | 2.0                  \n",
      " prec           | 0.2                  \n",
      " press          | 104260.0             \n",
      "-RECORD 2------------------------------\n",
      " Hour           | 0                    \n",
      " Day            | 28                   \n",
      " DayofWeek      | 4                    \n",
      " Month          | 12                   \n",
      " end_station_id | 705.0                \n",
      " num_rentals    | 1                    \n",
      " station_id     | 158                  \n",
      " station_name   | Trebovir Road, Ea... \n",
      " longitude      | -0.19617             \n",
      " latitude       | 51.4909              \n",
      " area_cleaned   | EarlsCourt           \n",
      " date           | 20161228             \n",
      " sunshine       | 4.7                  \n",
      " mean           | 3.0                  \n",
      " cloud          | 2.0                  \n",
      " prec           | 0.2                  \n",
      " press          | 104260.0             \n",
      "-RECORD 3------------------------------\n",
      " Hour           | 0                    \n",
      " Day            | 28                   \n",
      " DayofWeek      | 4                    \n",
      " Month          | 12                   \n",
      " end_station_id | 337.0                \n",
      " num_rentals    | 1                    \n",
      " station_id     | 524                  \n",
      " station_name   | Lancaster Gate, B... \n",
      " longitude      | -0.179668            \n",
      " latitude       | 51.5117              \n",
      " area_cleaned   | Bayswater            \n",
      " date           | 20161228             \n",
      " sunshine       | 4.7                  \n",
      " mean           | 3.0                  \n",
      " cloud          | 2.0                  \n",
      " prec           | 0.2                  \n",
      " press          | 104260.0             \n",
      "-RECORD 4------------------------------\n",
      " Hour           | 0                    \n",
      " Day            | 28                   \n",
      " DayofWeek      | 4                    \n",
      " Month          | 12                   \n",
      " end_station_id | 660.0                \n",
      " num_rentals    | 1                    \n",
      " station_id     | 633                  \n",
      " station_name   | Vereker Road, Wes... \n",
      " longitude      | -0.209379            \n",
      " latitude       | 51.4896              \n",
      " area_cleaned   | WestKensington       \n",
      " date           | 20161228             \n",
      " sunshine       | 4.7                  \n",
      " mean           | 3.0                  \n",
      " cloud          | 2.0                  \n",
      " prec           | 0.2                  \n",
      " press          | 104260.0             \n",
      "only showing top 5 rows\n",
      "\n"
     ]
    },
    {
     "name": "stderr",
     "output_type": "stream",
     "text": [
      "                                                                                \r"
     ]
    }
   ],
   "source": [
    "from pyspark.sql.functions import col\n",
    "\n",
    "test_df = spark.read.parquet(\"featured\")\n",
    "test_df = test_df.orderBy(col('date'), col('Hour'))\n",
    "test_df.printSchema()\n",
    "test_df.show(5, vertical=True)"
   ]
  },
  {
   "cell_type": "markdown",
   "id": "4b817d1c-5f0c-45ed-a61b-08f41c63d80d",
   "metadata": {},
   "source": [
    "##### Discretize the categorical data "
   ]
  },
  {
   "cell_type": "markdown",
   "id": "07481fd8-5671-45b7-95fd-7918a8c6af58",
   "metadata": {
    "tags": []
   },
   "source": [
    "from pyspark.ml import Pipeline\n",
    "from pyspark.ml.regression import RandomForestRegressor\n",
    "from pyspark.ml.feature import VectorIndexer, VectorAssembler, StringIndexer, OneHotEncoder\n",
    "from pyspark.ml.evaluation import RegressionEvaluator\n",
    "\n",
    "###### Define the columns you want to index\n",
    "columns_to_index = [\"station_name\", \"area_cleaned\"]\n",
    "non_categorical_cols = [x for x in test_df.columns if x not in columns_to_index]\n",
    "index_output_cols = [x + ' Index' for x in columns_to_index]\n",
    "ohe_output_cols = [x + ' OHE' for x in columns_to_index]\n",
    "\n",
    "\n",
    "###### Create a list of StringIndexer stages for each column\n",
    "string_indexer = StringIndexer(inputCols=columns_to_index, outputCols=index_output_cols, handleInvalid=\"skip\")\n",
    "\n",
    "ohe_encoder = OneHotEncoder(inputCols=index_output_cols, outputCols=ohe_output_cols)\n",
    "\n",
    "assembler_inputs = ohe_output_cols + non_categorical_cols\n",
    "vec_assembler = VectorAssembler(inputCols=assembler_inputs, outputCol=\"features\")\n",
    "assembler_inputs"
   ]
  },
  {
   "cell_type": "code",
   "execution_count": 15,
   "id": "ecdd48a2-c0e0-400a-988c-824f4e1e4edb",
   "metadata": {
    "tags": []
   },
   "outputs": [],
   "source": [
    "#pip install kafka-python\n",
    "#conda install -c conda-forge kafka-python"
   ]
  },
  {
   "cell_type": "markdown",
   "id": "a713db6f-cf44-475b-9cad-418ec6d47ca1",
   "metadata": {},
   "source": [
    "##### Split the data"
   ]
  },
  {
   "cell_type": "code",
   "execution_count": 16,
   "id": "cf5cb34a-5195-4826-9643-2f6e9e4f1f5b",
   "metadata": {
    "tags": []
   },
   "outputs": [
    {
     "name": "stderr",
     "output_type": "stream",
     "text": [
      "                                                                                \r"
     ]
    },
    {
     "name": "stdout",
     "output_type": "stream",
     "text": [
      "There are 4232906 rows in the training set and 1073630 in the test set.\n"
     ]
    }
   ],
   "source": [
    "# Time thresholds for splitting the data\n",
    "timestamp_threshold_1 = '20190601'\n",
    "timestamp_threshold_2 = '20191231'\n",
    "\n",
    "stream_output_path = \"stream\"\n",
    "\n",
    "# Time-series 1: Timestamps before the threshold\n",
    "training_set = test_df.filter(col('date') < timestamp_threshold_1)\n",
    "# Time-series 2: Timestamps after or equal to the threshold\n",
    "test_set = test_df.filter((col('date') >= timestamp_threshold_1) & (col('date') < timestamp_threshold_2))\n",
    "# Time-series 3: Timestamps after the second threshold (streaming data)\n",
    "stream_set = test_df.filter(col('date') > timestamp_threshold_2)\n",
    "\n",
    "# Write the training set to the output path\n",
    "training_set.write.mode(\"overwrite\").parquet(stream_output_path)\n",
    "\n",
    "# Print the number of rows in each part\n",
    "print(f\"There are {training_set.count()} rows in the training set and {test_set.count()} in the test set.\")\n"
   ]
  },
  {
   "cell_type": "markdown",
   "id": "3ea2161a-1012-4ee4-9bbc-b5cd42e6214c",
   "metadata": {},
   "source": [
    "##### Get the data for the first 15 days of january for the data streamming"
   ]
  },
  {
   "cell_type": "code",
   "execution_count": 17,
   "id": "071616f0-e068-4d8a-a231-7bb9c820fd87",
   "metadata": {
    "tags": []
   },
   "outputs": [
    {
     "name": "stdout",
     "output_type": "stream",
     "text": [
      "root\n",
      " |-- Hour: integer (nullable = true)\n",
      " |-- Day: integer (nullable = true)\n",
      " |-- DayofWeek: integer (nullable = true)\n",
      " |-- Month: integer (nullable = true)\n",
      " |-- end_station_id: double (nullable = true)\n",
      " |-- num_rentals: long (nullable = true)\n",
      " |-- station_id: integer (nullable = true)\n",
      " |-- station_name: string (nullable = true)\n",
      " |-- longitude: double (nullable = true)\n",
      " |-- latitude: double (nullable = true)\n",
      " |-- area_cleaned: string (nullable = true)\n",
      " |-- date: integer (nullable = true)\n",
      " |-- sunshine: double (nullable = true)\n",
      " |-- mean: double (nullable = true)\n",
      " |-- cloud: double (nullable = true)\n",
      " |-- prec: double (nullable = true)\n",
      " |-- press: double (nullable = true)\n",
      "\n"
     ]
    }
   ],
   "source": [
    "stream_set = stream_set.filter((col('month') == 1) & (col('Day') <= 15) )\n",
    "stream_set.count()\n",
    "stream_set.printSchema()"
   ]
  },
  {
   "cell_type": "code",
   "execution_count": 19,
   "id": "ff259b9b-a15f-44c6-8dc5-6ecf75345aa0",
   "metadata": {
    "tags": []
   },
   "outputs": [
    {
     "name": "stdout",
     "output_type": "stream",
     "text": [
      "my-topic\n",
      "0\n",
      "1237583\n"
     ]
    }
   ],
   "source": [
    "import json\n",
    "from kafka import KafkaProducer\n",
    "from kafka.errors import KafkaError\n",
    "from json import dumps\n",
    "from time import sleep\n",
    "from datetime import datetime\n",
    "\n",
    "producer = KafkaProducer(bootstrap_servers=['localhost:9092'])\n",
    "future = producer.send('my-topic', b'Initializing')\n",
    "\n",
    "# Block for 'synchronous' sends\n",
    "try:\n",
    "    record_metadata = future.get(timeout=10)\n",
    "except KafkaError:\n",
    "    # Decide what to do if produce request failed...\n",
    "    log.exception()\n",
    "    pass\n",
    "\n",
    "# Successful result returns assigned partition and offset\n",
    "print (record_metadata.topic)\n",
    "print (record_metadata.partition)\n",
    "print (record_metadata.offset)\n",
    "\n",
    "data_list = stream_set.collect()  \n",
    "\n",
    "i = 0\n",
    "# Iterate over the list of Row objects and convert each row to a dictionary\n",
    "for row in data_list:\n",
    "    row_dict = row.asDict()\n",
    "    # Process the row dictionary as needed\n",
    "    row_json = json.dumps(row_dict).encode('utf-8')  # Serialize to JSON and encode to bytes\n",
    "    producer.send('my-topic', value=row_json)\n",
    "    #producer.send('my-topic', row_dict)\n",
    "\n",
    "# block until all async messages are sent\n",
    "producer.flush()\n",
    "\n",
    "# configure multiple retries\n",
    "producer = KafkaProducer(retries=5)"
   ]
  },
  {
   "cell_type": "code",
   "execution_count": null,
   "id": "c9c1bda6-e3fc-48bc-b562-61df0e8cfca9",
   "metadata": {},
   "outputs": [],
   "source": []
  }
 ],
 "metadata": {
  "kernelspec": {
   "display_name": "Python 3 (ipykernel)",
   "language": "python",
   "name": "python3"
  },
  "language_info": {
   "codemirror_mode": {
    "name": "ipython",
    "version": 3
   },
   "file_extension": ".py",
   "mimetype": "text/x-python",
   "name": "python",
   "nbconvert_exporter": "python",
   "pygments_lexer": "ipython3",
   "version": "3.10.6"
  }
 },
 "nbformat": 4,
 "nbformat_minor": 5
}
