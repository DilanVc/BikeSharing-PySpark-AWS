{
 "cells": [
  {
   "cell_type": "markdown",
   "id": "f5764745-95c3-43bc-b8c2-f0bd9e2d7ef0",
   "metadata": {},
   "source": [
    "# Feature Engineering and Modelling"
   ]
  },
  {
   "cell_type": "markdown",
   "id": "787091bf-539e-4abc-8795-fe08215050de",
   "metadata": {
    "tags": []
   },
   "source": [
    "#### Create Spark Session"
   ]
  },
  {
   "cell_type": "code",
   "execution_count": 1,
   "id": "db819f19-5858-42a4-81fa-910d5531ea19",
   "metadata": {
    "tags": []
   },
   "outputs": [
    {
     "data": {
      "application/vnd.jupyter.widget-view+json": {
       "model_id": "97046ac1fcb74461bd14fa4a7f162af1",
       "version_major": 2,
       "version_minor": 0
      },
      "text/plain": [
       "VBox()"
      ]
     },
     "metadata": {},
     "output_type": "display_data"
    },
    {
     "name": "stdout",
     "output_type": "stream",
     "text": [
      "Starting Spark application\n"
     ]
    },
    {
     "data": {
      "text/html": [
       "<table>\n",
       "<tr><th>ID</th><th>YARN Application ID</th><th>Kind</th><th>State</th><th>Spark UI</th><th>Driver log</th><th>User</th><th>Current session?</th></tr><tr><td>0</td><td>application_1685149478290_0001</td><td>pyspark</td><td>idle</td><td><a target=\"_blank\" href=\"http://ip-172-31-1-117.ec2.internal:20888/proxy/application_1685149478290_0001/\" class=\"emr-proxy-link\" emr-resource=\"j-Y062XGQFRPM7\n",
       "\" application-id=\"application_1685149478290_0001\">Link</a></td><td><a target=\"_blank\" href=\"http://ip-172-31-12-171.ec2.internal:8042/node/containerlogs/container_1685149478290_0001_01_000001/livy\" >Link</a></td><td>None</td><td>✔</td></tr></table>"
      ],
      "text/plain": [
       "<IPython.core.display.HTML object>"
      ]
     },
     "metadata": {},
     "output_type": "display_data"
    },
    {
     "data": {
      "application/vnd.jupyter.widget-view+json": {
       "model_id": "",
       "version_major": 2,
       "version_minor": 0
      },
      "text/plain": [
       "FloatProgress(value=0.0, bar_style='info', description='Progress:', layout=Layout(height='25px', width='50%'),…"
      ]
     },
     "metadata": {},
     "output_type": "display_data"
    },
    {
     "name": "stdout",
     "output_type": "stream",
     "text": [
      "SparkSession available as 'spark'.\n"
     ]
    },
    {
     "data": {
      "application/vnd.jupyter.widget-view+json": {
       "model_id": "",
       "version_major": 2,
       "version_minor": 0
      },
      "text/plain": [
       "FloatProgress(value=0.0, bar_style='info', description='Progress:', layout=Layout(height='25px', width='50%'),…"
      ]
     },
     "metadata": {},
     "output_type": "display_data"
    }
   ],
   "source": [
    "from pyspark.sql import SparkSession\n",
    "spark = SparkSession\\\n",
    "    .builder\\\n",
    "    .appName(\"BigData_TG_FE\")\\\n",
    "    .config(\"spark.sql.shuffle.partitions\",6)\\\n",
    "    .config(\"spark.sql.repl.eagereval.enabled\",True)\\\n",
    "    .getOrCreate()"
   ]
  },
  {
   "cell_type": "markdown",
   "id": "21d285c0-1cf1-4e2a-bf9e-68ceee08b236",
   "metadata": {
    "tags": []
   },
   "source": [
    "#### Reduce Data"
   ]
  },
  {
   "cell_type": "code",
   "execution_count": 2,
   "id": "f6d56541-a3af-47f9-9dd3-fe107ecfb04e",
   "metadata": {
    "tags": []
   },
   "outputs": [
    {
     "data": {
      "application/vnd.jupyter.widget-view+json": {
       "model_id": "588f804eb39649f58bc0433b41dc3ace",
       "version_major": 2,
       "version_minor": 0
      },
      "text/plain": [
       "VBox()"
      ]
     },
     "metadata": {},
     "output_type": "display_data"
    },
    {
     "data": {
      "application/vnd.jupyter.widget-view+json": {
       "model_id": "",
       "version_major": 2,
       "version_minor": 0
      },
      "text/plain": [
       "FloatProgress(value=0.0, bar_style='info', description='Progress:', layout=Layout(height='25px', width='50%'),…"
      ]
     },
     "metadata": {},
     "output_type": "display_data"
    }
   ],
   "source": [
    "bikes_and_stations = spark.read.parquet(\"s3://abdbucketjddc/dataout/londonbikes\")"
   ]
  },
  {
   "cell_type": "code",
   "execution_count": 3,
   "id": "bc8c838d-9a8b-430b-9a52-5a94d1641a65",
   "metadata": {
    "tags": []
   },
   "outputs": [
    {
     "data": {
      "application/vnd.jupyter.widget-view+json": {
       "model_id": "fc8cb8fb95554bcc8891e8a309a97a62",
       "version_major": 2,
       "version_minor": 0
      },
      "text/plain": [
       "VBox()"
      ]
     },
     "metadata": {},
     "output_type": "display_data"
    },
    {
     "data": {
      "application/vnd.jupyter.widget-view+json": {
       "model_id": "",
       "version_major": 2,
       "version_minor": 0
      },
      "text/plain": [
       "FloatProgress(value=0.0, bar_style='info', description='Progress:', layout=Layout(height='25px', width='50%'),…"
      ]
     },
     "metadata": {},
     "output_type": "display_data"
    },
    {
     "name": "stdout",
     "output_type": "stream",
     "text": [
      "6443571"
     ]
    }
   ],
   "source": [
    "seed = 5\n",
    "with_replacement = False\n",
    "fraction = 0.20          # reduce to 20%\n",
    "test_bikes = bikes_and_stations.sample(withReplacement=with_replacement, \n",
    "                                               fraction=fraction, seed=seed)\n",
    "\n",
    "test_bikes_count = test_bikes.count()\n",
    "test_bikes_count"
   ]
  },
  {
   "cell_type": "code",
   "execution_count": 10,
   "id": "64eb596b-6c36-4da6-b4a8-14548f91e55a",
   "metadata": {
    "tags": []
   },
   "outputs": [
    {
     "name": "stderr",
     "output_type": "stream",
     "text": [
      "[Stage 10:=============================>                            (4 + 4) / 8]\r"
     ]
    },
    {
     "name": "stdout",
     "output_type": "stream",
     "text": [
      "-RECORD 0--------------------------------\n",
      " summary          | count                \n",
      " start_station_id | 600715               \n",
      " Hour             | 600715               \n",
      " Day              | 600715               \n",
      " DayofWeek        | 600715               \n",
      " Month            | 600715               \n",
      " Year             | 600715               \n",
      " dateconc         | 600715               \n",
      " sum_duration     | 600715               \n",
      " avg_duration     | 600715               \n",
      " num_rentals      | 600715               \n",
      " station_id       | 600647               \n",
      " station_name     | 600647               \n",
      " longitude        | 600647               \n",
      " latitude         | 600647               \n",
      " area_cleaned     | 600647               \n",
      " date             | 600715               \n",
      " sunshine         | 600715               \n",
      " mean             | 600715               \n",
      " cloud            | 600715               \n",
      " gr               | 600715               \n",
      " maxt             | 600715               \n",
      " mint             | 600715               \n",
      " prec             | 600715               \n",
      " press            | 600715               \n",
      "-RECORD 1--------------------------------\n",
      " summary          | mean                 \n",
      " start_station_id | 399.4027983319877    \n",
      " Hour             | 13.505647436804475   \n",
      " Day              | 15.726431003054692   \n",
      " DayofWeek        | 4.047018969061868    \n",
      " Month            | 6.262408962652839    \n",
      " Year             | 2018.3637149064032   \n",
      " dateconc         | 2.01842791163913E7   \n",
      " sum_duration     | 4084.57441548821     \n",
      " avg_duration     | 1163.397096512756    \n",
      " num_rentals      | 3.172765787436638    \n",
      " station_id       | 399.40396938634507   \n",
      " station_name     | null                 \n",
      " longitude        | -0.12805572913200092 \n",
      " latitude         | 51.50675721524504    \n",
      " area_cleaned     | null                 \n",
      " date             | 2.01842791163913E7   \n",
      " sunshine         | 4.940805040659468    \n",
      " mean             | 13.158277552583726   \n",
      " cloud            | 4.910651473660555    \n",
      " gr               | 133.95076367328932   \n",
      " maxt             | 17.477306543036992   \n",
      " mint             | 8.822357191012536    \n",
      " prec             | 1.4428765720847916   \n",
      " press            | 101570.60559499929   \n",
      "-RECORD 2--------------------------------\n",
      " summary          | stddev               \n",
      " start_station_id | 242.43053271324683   \n",
      " Hour             | 5.388632003223126    \n",
      " Day              | 8.770678345631554    \n",
      " DayofWeek        | 1.9518516020264638   \n",
      " Month            | 3.2200319624244615   \n",
      " Year             | 1.070170994064223    \n",
      " dateconc         | 10654.62213944676    \n",
      " sum_duration     | 10560.311917010658   \n",
      " avg_duration     | 3183.190660920602    \n",
      " num_rentals      | 4.04212669961985     \n",
      " station_id       | 242.44419823399878   \n",
      " station_name     | null                 \n",
      " longitude        | 0.05272035041541078  \n",
      " latitude         | 0.01969905456987201  \n",
      " area_cleaned     | null                 \n",
      " date             | 10654.62213944676    \n",
      " sunshine         | 4.328511469785715    \n",
      " mean             | 5.878269905766613    \n",
      " cloud            | 2.382920156829804    \n",
      " gr               | 96.55001907234896    \n",
      " maxt             | 6.9634151621614535   \n",
      " mint             | 5.270375323604673    \n",
      " prec             | 3.268566853474837    \n",
      " press            | 1011.2081197767659   \n",
      "-RECORD 3--------------------------------\n",
      " summary          | min                  \n",
      " start_station_id | 1                    \n",
      " Hour             | 0                    \n",
      " Day              | 1                    \n",
      " DayofWeek        | 1                    \n",
      " Month            | 1                    \n",
      " Year             | 2016                 \n",
      " dateconc         | 20161228             \n",
      " sum_duration     | 41.0                 \n",
      " avg_duration     | 41.0                 \n",
      " num_rentals      | 1                    \n",
      " station_id       | 1                    \n",
      " station_name     | Abbey Orchard Str... \n",
      " longitude        | -0.23676999999999998 \n",
      " latitude         | 51.3341              \n",
      " area_cleaned     | Aldgate              \n",
      " date             | 20161228             \n",
      " sunshine         | 0.0                  \n",
      " mean             | -3.3                 \n",
      " cloud            | 0.0                  \n",
      " gr               | 10.0                 \n",
      " maxt             | -1.2                 \n",
      " mint             | -5.4                 \n",
      " prec             | 0.0                  \n",
      " press            | 97900.0              \n",
      "-RECORD 4--------------------------------\n",
      " summary          | max                  \n",
      " start_station_id | 839                  \n",
      " Hour             | 23                   \n",
      " Day              | 9                    \n",
      " DayofWeek        | 7                    \n",
      " Month            | 12                   \n",
      " Year             | 2020                 \n",
      " dateconc         | 20200901             \n",
      " sum_duration     | 1318633.0            \n",
      " avg_duration     | 545040.0             \n",
      " num_rentals      | 184                  \n",
      " station_id       | 839                  \n",
      " station_name     | York Way, Kings C... \n",
      " longitude        | -0.002275            \n",
      " latitude         | 51.5494              \n",
      " area_cleaned     | Whitechapel          \n",
      " date             | 20200901             \n",
      " sunshine         | 16.0                 \n",
      " mean             | 28.8                 \n",
      " cloud            | 9.0                  \n",
      " gr               | 402.0                \n",
      " maxt             | 37.9                 \n",
      " mint             | 21.7                 \n",
      " prec             | 36.8                 \n",
      " press            | 104820.0             \n",
      "\n"
     ]
    },
    {
     "name": "stderr",
     "output_type": "stream",
     "text": [
      "                                                                                \r"
     ]
    }
   ],
   "source": [
    "test_bikes.describe().show(vertical=True)"
   ]
  },
  {
   "cell_type": "code",
   "execution_count": 11,
   "id": "6a1442b0-5f90-4073-a03d-6ccff543673a",
   "metadata": {
    "tags": []
   },
   "outputs": [
    {
     "name": "stdout",
     "output_type": "stream",
     "text": [
      "root\n",
      " |-- start_station_id: integer (nullable = true)\n",
      " |-- Hour: integer (nullable = true)\n",
      " |-- Day: string (nullable = true)\n",
      " |-- DayofWeek: integer (nullable = true)\n",
      " |-- Month: integer (nullable = true)\n",
      " |-- Year: integer (nullable = true)\n",
      " |-- dateconc: string (nullable = true)\n",
      " |-- sum_duration: double (nullable = true)\n",
      " |-- avg_duration: double (nullable = true)\n",
      " |-- num_rentals: long (nullable = true)\n",
      " |-- station_id: integer (nullable = true)\n",
      " |-- station_name: string (nullable = true)\n",
      " |-- longitude: double (nullable = true)\n",
      " |-- latitude: double (nullable = true)\n",
      " |-- area_cleaned: string (nullable = true)\n",
      " |-- date: integer (nullable = true)\n",
      " |-- sunshine: double (nullable = true)\n",
      " |-- mean: double (nullable = true)\n",
      " |-- cloud: double (nullable = true)\n",
      " |-- gr: double (nullable = true)\n",
      " |-- maxt: double (nullable = true)\n",
      " |-- mint: double (nullable = true)\n",
      " |-- prec: double (nullable = true)\n",
      " |-- press: double (nullable = true)\n",
      "\n"
     ]
    }
   ],
   "source": [
    "test_bikes.printSchema()"
   ]
  },
  {
   "cell_type": "code",
   "execution_count": 5,
   "id": "987cef11-e6b1-4426-9205-134d4979c937",
   "metadata": {
    "tags": []
   },
   "outputs": [
    {
     "data": {
      "application/vnd.jupyter.widget-view+json": {
       "model_id": "6bfa22f294e945fea5f8ea1e2fc56caf",
       "version_major": 2,
       "version_minor": 0
      },
      "text/plain": [
       "VBox()"
      ]
     },
     "metadata": {},
     "output_type": "display_data"
    },
    {
     "data": {
      "application/vnd.jupyter.widget-view+json": {
       "model_id": "",
       "version_major": 2,
       "version_minor": 0
      },
      "text/plain": [
       "FloatProgress(value=0.0, bar_style='info', description='Progress:', layout=Layout(height='25px', width='50%'),…"
      ]
     },
     "metadata": {},
     "output_type": "display_data"
    }
   ],
   "source": [
    "from pyspark.sql.functions import col\n",
    "\n",
    "test_bikes = (test_bikes\n",
    "              .withColumn('Day', col('Day').cast('integer'))\n",
    "              .withColumn('dateconc', col('dateconc').cast('integer'))\n",
    "                         \n",
    "             )\n"
   ]
  },
  {
   "cell_type": "code",
   "execution_count": 22,
   "id": "77d917a9-f464-438d-8669-d88afd80eae3",
   "metadata": {
    "tags": []
   },
   "outputs": [
    {
     "name": "stdout",
     "output_type": "stream",
     "text": [
      "root\n",
      " |-- start_station_id: integer (nullable = true)\n",
      " |-- Hour: integer (nullable = true)\n",
      " |-- Day: integer (nullable = true)\n",
      " |-- DayofWeek: integer (nullable = true)\n",
      " |-- Month: integer (nullable = true)\n",
      " |-- Year: integer (nullable = true)\n",
      " |-- dateconc: integer (nullable = true)\n",
      " |-- sum_duration: double (nullable = true)\n",
      " |-- avg_duration: double (nullable = true)\n",
      " |-- num_rentals: long (nullable = true)\n",
      " |-- station_id: integer (nullable = true)\n",
      " |-- station_name: string (nullable = true)\n",
      " |-- longitude: double (nullable = true)\n",
      " |-- latitude: double (nullable = true)\n",
      " |-- area_cleaned: string (nullable = true)\n",
      " |-- date: integer (nullable = true)\n",
      " |-- sunshine: double (nullable = true)\n",
      " |-- mean: double (nullable = true)\n",
      " |-- cloud: double (nullable = true)\n",
      " |-- gr: double (nullable = true)\n",
      " |-- maxt: double (nullable = true)\n",
      " |-- mint: double (nullable = true)\n",
      " |-- prec: double (nullable = true)\n",
      " |-- press: double (nullable = true)\n",
      "\n"
     ]
    }
   ],
   "source": [
    "test_bikes.printSchema()"
   ]
  },
  {
   "cell_type": "code",
   "execution_count": 46,
   "id": "018eaa8b-ecfb-4619-9e28-085d51be1059",
   "metadata": {
    "tags": []
   },
   "outputs": [
    {
     "name": "stdout",
     "output_type": "stream",
     "text": [
      "root\n",
      " |-- start_station_id: integer (nullable = true)\n",
      " |-- Hour: integer (nullable = true)\n",
      " |-- Day: integer (nullable = true)\n",
      " |-- DayofWeek: integer (nullable = true)\n",
      " |-- Month: integer (nullable = true)\n",
      " |-- Year: integer (nullable = true)\n",
      " |-- dateconc: integer (nullable = true)\n",
      " |-- sum_duration: double (nullable = true)\n",
      " |-- avg_duration: double (nullable = true)\n",
      " |-- num_rentals: long (nullable = true)\n",
      " |-- station_id: integer (nullable = true)\n",
      " |-- longitude: double (nullable = true)\n",
      " |-- latitude: double (nullable = true)\n",
      " |-- date: integer (nullable = true)\n",
      " |-- sunshine: double (nullable = true)\n",
      " |-- mean: double (nullable = true)\n",
      " |-- cloud: double (nullable = true)\n",
      " |-- gr: double (nullable = true)\n",
      " |-- maxt: double (nullable = true)\n",
      " |-- mint: double (nullable = true)\n",
      " |-- prec: double (nullable = true)\n",
      " |-- press: double (nullable = true)\n",
      "\n"
     ]
    }
   ],
   "source": [
    "string_columns = ['station_name', 'area_cleaned']\n",
    "\n",
    "cols_interest_corr = [x for x in test_bikes.columns if x not in string_columns]\n",
    "\n",
    "test_bikes_corr = test_bikes.select(cols_interest_corr)\n",
    "\n",
    "test_bikes_corr.printSchema()"
   ]
  },
  {
   "cell_type": "code",
   "execution_count": 47,
   "id": "71a156ed-6cf3-4ab2-9653-0e2bd070b2f7",
   "metadata": {
    "tags": []
   },
   "outputs": [
    {
     "name": "stderr",
     "output_type": "stream",
     "text": [
      "                                                                                \r"
     ]
    }
   ],
   "source": [
    "from pyspark.ml.stat import Correlation\n",
    "\n",
    "vector_col = 'corr_features'\n",
    "cols_corr = test_bikes_corr.columns\n",
    "assembler = VectorAssembler(inputCols=cols_corr, outputCol=vector_col)\n",
    "df_vector = assembler.transform(test_bikes_corr).select(vector_col)\n",
    "\n",
    "corr_matrix = Correlation.corr(df_vector, vector_col).collect()[0][0].toArray().tolist()"
   ]
  },
  {
   "cell_type": "code",
   "execution_count": 48,
   "id": "3d747877-32be-4a69-bbbe-d4a2e9ff89fd",
   "metadata": {
    "tags": []
   },
   "outputs": [
    {
     "data": {
      "image/png": "[encoded data removed]",
      "text/plain": [
       "<Figure size 1000x800 with 2 Axes>"
      ]
     },
     "metadata": {},
     "output_type": "display_data"
    }
   ],
   "source": [
    "import pandas as pd\n",
    "import numpy as np \n",
    "import matplotlib.pyplot as plt\n",
    "import seaborn as sns\n",
    "\n",
    "def plotCorrelationMatrix(df, annot=False):\n",
    "    # compute the correlation matrix\n",
    "    corr = df.corr()\n",
    "    # generate a mask for the upper triangle\n",
    "    mask = np.triu(np.ones_like(corr, dtype=bool))\n",
    "    # set up the matplotlib figure\n",
    "    f, ax = plt.subplots(figsize=(10, 8))\n",
    "    # generate a custom colormap\n",
    "    #cmap = sns.divergent_palette(230, 20, as_cmap=True)\n",
    "\n",
    "    cmap='coolwarm'\n",
    "    # draw the heatmap with the mask and correct aspect ratio\n",
    "    return sns.heatmap(corr, mask=mask, cmap=cmap, vmax=.3, center=0, annot=annot,\n",
    "    square=True, linewidths=.7, cbar_kws={\"shrink\": .7},annot_kws={\"size\": 5})\n",
    "\n",
    "df_plot = pd.DataFrame(data = corr_matrix, index=cols_corr, columns=cols_corr)\n",
    "plotCorrelationMatrix(df_plot, annot=True)\n",
    "plt.show()"
   ]
  },
  {
   "cell_type": "markdown",
   "id": "e1071378-ec53-4177-be54-22c8cdd83315",
   "metadata": {},
   "source": [
    "As a rule, we are going to exclude some features that combined with others, result in high correlations (0.7)"
   ]
  },
  {
   "cell_type": "code",
   "execution_count": 6,
   "id": "54e00312-d144-4aef-98ef-d81efafe9abb",
   "metadata": {
    "tags": []
   },
   "outputs": [
    {
     "data": {
      "application/vnd.jupyter.widget-view+json": {
       "model_id": "8f5599eaf97d48efb9e6d55e06adf843",
       "version_major": 2,
       "version_minor": 0
      },
      "text/plain": [
       "VBox()"
      ]
     },
     "metadata": {},
     "output_type": "display_data"
    },
    {
     "data": {
      "application/vnd.jupyter.widget-view+json": {
       "model_id": "",
       "version_major": 2,
       "version_minor": 0
      },
      "text/plain": [
       "FloatProgress(value=0.0, bar_style='info', description='Progress:', layout=Layout(height='25px', width='50%'),…"
      ]
     },
     "metadata": {},
     "output_type": "display_data"
    }
   ],
   "source": [
    "excluded_features = ['start_station_id', 'dateconc', 'Year', 'gr', 'maxt', 'mint', 'sum_duration', 'avg_duration']\n",
    "\n",
    "included_features = [x for x in test_bikes.columns if x not in excluded_features]\n",
    "\n",
    "featured_df = test_bikes.select(included_features)"
   ]
  },
  {
   "cell_type": "code",
   "execution_count": 51,
   "id": "4d7c5e2a-aea5-44b7-97b3-1f927b9163ba",
   "metadata": {
    "tags": []
   },
   "outputs": [
    {
     "name": "stderr",
     "output_type": "stream",
     "text": [
      "                                                                                \r"
     ]
    }
   ],
   "source": [
    "from pyspark.ml.stat import Correlation\n",
    "\n",
    "string_columns = ['station_name', 'area_cleaned']\n",
    "\n",
    "cols_interest_corr = [x for x in featured_df.columns if x not in string_columns]\n",
    "\n",
    "featured_corr = featured_df.select(cols_interest_corr)\n",
    "\n",
    "vector_col = 'corr_features'\n",
    "cols_corr = featured_corr.columns\n",
    "assembler = VectorAssembler(inputCols=cols_corr, outputCol=vector_col)\n",
    "df_vector = assembler.transform(featured_corr).select(vector_col)\n",
    "\n",
    "corr_matrix = Correlation.corr(df_vector, vector_col).collect()[0][0].toArray().tolist()"
   ]
  },
  {
   "cell_type": "code",
   "execution_count": 52,
   "id": "9a343a34-0c58-4ac8-bc5c-7ee49a8c757b",
   "metadata": {
    "tags": []
   },
   "outputs": [
    {
     "data": {
      "image/png": "[encoded data removed]",
      "text/plain": [
       "<Figure size 1000x800 with 2 Axes>"
      ]
     },
     "metadata": {},
     "output_type": "display_data"
    }
   ],
   "source": [
    "import pandas as pd\n",
    "import numpy as np \n",
    "import matplotlib.pyplot as plt\n",
    "import seaborn as sns\n",
    "\n",
    "def plotCorrelationMatrix(df, annot=False):\n",
    "    # compute the correlation matrix\n",
    "    corr = df.corr()\n",
    "    # generate a mask for the upper triangle\n",
    "    mask = np.triu(np.ones_like(corr, dtype=bool))\n",
    "    # set up the matplotlib figure\n",
    "    f, ax = plt.subplots(figsize=(10, 8))\n",
    "    # generate a custom colormap\n",
    "    #cmap = sns.divergent_palette(230, 20, as_cmap=True)\n",
    "\n",
    "    cmap='coolwarm'\n",
    "    # draw the heatmap with the mask and correct aspect ratio\n",
    "    return sns.heatmap(corr, mask=mask, cmap=cmap, vmax=.3, center=0, annot=annot,\n",
    "    square=True, linewidths=.7, cbar_kws={\"shrink\": .7},annot_kws={\"size\": 5})\n",
    "\n",
    "df_plot = pd.DataFrame(data = corr_matrix, index=cols_corr, columns=cols_corr)\n",
    "plotCorrelationMatrix(df_plot, annot=True)\n",
    "plt.show()"
   ]
  },
  {
   "cell_type": "markdown",
   "id": "f661a80e-175a-421a-9cba-9ed83f216273",
   "metadata": {},
   "source": [
    "Save the current df in parquet:"
   ]
  },
  {
   "cell_type": "code",
   "execution_count": 6,
   "id": "be7542f9-6444-4be7-ade6-58e9fafbe011",
   "metadata": {
    "tags": []
   },
   "outputs": [
    {
     "data": {
      "application/vnd.jupyter.widget-view+json": {
       "model_id": "81c218fe2eba4ad8aa8218b0c8afb776",
       "version_major": 2,
       "version_minor": 0
      },
      "text/plain": [
       "VBox()"
      ]
     },
     "metadata": {},
     "output_type": "display_data"
    },
    {
     "data": {
      "application/vnd.jupyter.widget-view+json": {
       "model_id": "",
       "version_major": 2,
       "version_minor": 0
      },
      "text/plain": [
       "FloatProgress(value=0.0, bar_style='info', description='Progress:', layout=Layout(height='25px', width='50%'),…"
      ]
     },
     "metadata": {},
     "output_type": "display_data"
    }
   ],
   "source": [
    "featured_df.write.mode(\"overwrite\").parquet(\"s3://abdbucketjddc/dataout/featured\")"
   ]
  },
  {
   "cell_type": "markdown",
   "id": "6dcd223b-cec3-4525-b60f-18a6def5387c",
   "metadata": {},
   "source": [
    "### Ler o ficheiro"
   ]
  },
  {
   "cell_type": "code",
   "execution_count": 2,
   "id": "847a5043-1712-4f2e-971e-0ea2ba959446",
   "metadata": {},
   "outputs": [
    {
     "data": {
      "application/vnd.jupyter.widget-view+json": {
       "model_id": "ef07bac83d874a7eb5906a7419088243",
       "version_major": 2,
       "version_minor": 0
      },
      "text/plain": [
       "VBox()"
      ]
     },
     "metadata": {},
     "output_type": "display_data"
    },
    {
     "data": {
      "application/vnd.jupyter.widget-view+json": {
       "model_id": "",
       "version_major": 2,
       "version_minor": 0
      },
      "text/plain": [
       "FloatProgress(value=0.0, bar_style='info', description='Progress:', layout=Layout(height='25px', width='50%'),…"
      ]
     },
     "metadata": {},
     "output_type": "display_data"
    },
    {
     "name": "stdout",
     "output_type": "stream",
     "text": [
      "root\n",
      " |-- Hour: integer (nullable = true)\n",
      " |-- Day: integer (nullable = true)\n",
      " |-- DayofWeek: integer (nullable = true)\n",
      " |-- Month: integer (nullable = true)\n",
      " |-- end_station_id: double (nullable = true)\n",
      " |-- num_rentals: long (nullable = true)\n",
      " |-- station_id: integer (nullable = true)\n",
      " |-- station_name: string (nullable = true)\n",
      " |-- longitude: double (nullable = true)\n",
      " |-- latitude: double (nullable = true)\n",
      " |-- area_cleaned: string (nullable = true)\n",
      " |-- date: integer (nullable = true)\n",
      " |-- sunshine: double (nullable = true)\n",
      " |-- mean: double (nullable = true)\n",
      " |-- cloud: double (nullable = true)\n",
      " |-- prec: double (nullable = true)\n",
      " |-- press: double (nullable = true)\n",
      "\n",
      "-RECORD 0------------------------------\n",
      " Hour           | 0                    \n",
      " Day            | 28                   \n",
      " DayofWeek      | 4                    \n",
      " Month          | 12                   \n",
      " end_station_id | 337.0                \n",
      " num_rentals    | 1                    \n",
      " station_id     | 524                  \n",
      " station_name   | Lancaster Gate, B... \n",
      " longitude      | -0.179668            \n",
      " latitude       | 51.5117              \n",
      " area_cleaned   | Bayswater            \n",
      " date           | 20161228             \n",
      " sunshine       | 4.7                  \n",
      " mean           | 3.0                  \n",
      " cloud          | 2.0                  \n",
      " prec           | 0.2                  \n",
      " press          | 104260.0             \n",
      "-RECORD 1------------------------------\n",
      " Hour           | 0                    \n",
      " Day            | 28                   \n",
      " DayofWeek      | 4                    \n",
      " Month          | 12                   \n",
      " end_station_id | 378.0                \n",
      " num_rentals    | 1                    \n",
      " station_id     | 378                  \n",
      " station_name   | Natural History M... \n",
      " longitude      | -0.179078            \n",
      " latitude       | 51.4956              \n",
      " area_cleaned   | SouthKensington      \n",
      " date           | 20161228             \n",
      " sunshine       | 4.7                  \n",
      " mean           | 3.0                  \n",
      " cloud          | 2.0                  \n",
      " prec           | 0.2                  \n",
      " press          | 104260.0             \n",
      "-RECORD 2------------------------------\n",
      " Hour           | 0                    \n",
      " Day            | 28                   \n",
      " DayofWeek      | 4                    \n",
      " Month          | 12                   \n",
      " end_station_id | 13.0                 \n",
      " num_rentals    | 1                    \n",
      " station_id     | 486                  \n",
      " station_name   | Granby Street, Sh... \n",
      " longitude      | -0.069543            \n",
      " latitude       | 51.5256              \n",
      " area_cleaned   | Shoreditch           \n",
      " date           | 20161228             \n",
      " sunshine       | 4.7                  \n",
      " mean           | 3.0                  \n",
      " cloud          | 2.0                  \n",
      " prec           | 0.2                  \n",
      " press          | 104260.0             \n",
      "-RECORD 3------------------------------\n",
      " Hour           | 0                    \n",
      " Day            | 28                   \n",
      " DayofWeek      | 4                    \n",
      " Month          | 12                   \n",
      " end_station_id | 392.0                \n",
      " num_rentals    | 2                    \n",
      " station_id     | 378                  \n",
      " station_name   | Natural History M... \n",
      " longitude      | -0.179078            \n",
      " latitude       | 51.4956              \n",
      " area_cleaned   | SouthKensington      \n",
      " date           | 20161228             \n",
      " sunshine       | 4.7                  \n",
      " mean           | 3.0                  \n",
      " cloud          | 2.0                  \n",
      " prec           | 0.2                  \n",
      " press          | 104260.0             \n",
      "-RECORD 4------------------------------\n",
      " Hour           | 0                    \n",
      " Day            | 28                   \n",
      " DayofWeek      | 4                    \n",
      " Month          | 12                   \n",
      " end_station_id | 436.0                \n",
      " num_rentals    | 2                    \n",
      " station_id     | 246                  \n",
      " station_name   | Berry Street, Cle... \n",
      " longitude      | -0.0999941           \n",
      " latitude       | 51.5229              \n",
      " area_cleaned   | Clerkenwell          \n",
      " date           | 20161228             \n",
      " sunshine       | 4.7                  \n",
      " mean           | 3.0                  \n",
      " cloud          | 2.0                  \n",
      " prec           | 0.2                  \n",
      " press          | 104260.0             \n",
      "only showing top 5 rows"
     ]
    }
   ],
   "source": [
    "from pyspark.sql.functions import col\n",
    "\n",
    "test_df = spark.read.parquet(\"s3://abdbucketjddc/dataout/featured\")\n",
    "test_df = test_df.orderBy(col('date'), col('Hour'))\n",
    "test_df.printSchema()\n",
    "test_df.show(5, vertical=True)"
   ]
  },
  {
   "cell_type": "markdown",
   "id": "017c1516-6e16-45e1-91b5-00fc41c07cdf",
   "metadata": {},
   "source": [
    "## Criar a Pipeline"
   ]
  },
  {
   "cell_type": "code",
   "execution_count": 5,
   "id": "97c21f13-308b-4412-94bb-78b52f62b334",
   "metadata": {},
   "outputs": [
    {
     "data": {
      "application/vnd.jupyter.widget-view+json": {
       "model_id": "50b3ba589921464d81a1a10937e21c15",
       "version_major": 2,
       "version_minor": 0
      },
      "text/plain": [
       "VBox()"
      ]
     },
     "metadata": {},
     "output_type": "display_data"
    },
    {
     "data": {
      "application/vnd.jupyter.widget-view+json": {
       "model_id": "",
       "version_major": 2,
       "version_minor": 0
      },
      "text/plain": [
       "FloatProgress(value=0.0, bar_style='info', description='Progress:', layout=Layout(height='25px', width='50%'),…"
      ]
     },
     "metadata": {},
     "output_type": "display_data"
    }
   ],
   "source": [
    "# The pipeline holds four stages as set above: \n",
    "#  1. string_indexer \n",
    "#  2. ohe_encoder\n",
    "#  3. vec_assembler (related to assembling features into vector) \n",
    "#  4. Random Forest Regressor/Decision Tree Regressor/Gradient Boosted Tree Regressor (related to ML estimator)"
   ]
  },
  {
   "cell_type": "markdown",
   "id": "9b40867b-6b2d-42d9-bbac-069312cc0b95",
   "metadata": {},
   "source": [
    "#### Aplicar o VectorIndexer e dividir os dados:"
   ]
  },
  {
   "cell_type": "code",
   "execution_count": 4,
   "id": "20b8e145-a26d-4d73-82a9-636a2c1e5b63",
   "metadata": {},
   "outputs": [
    {
     "data": {
      "application/vnd.jupyter.widget-view+json": {
       "model_id": "62175b3d4fdf4d77b9b97f7b88c0c783",
       "version_major": 2,
       "version_minor": 0
      },
      "text/plain": [
       "VBox()"
      ]
     },
     "metadata": {},
     "output_type": "display_data"
    },
    {
     "data": {
      "application/vnd.jupyter.widget-view+json": {
       "model_id": "",
       "version_major": 2,
       "version_minor": 0
      },
      "text/plain": [
       "FloatProgress(value=0.0, bar_style='info', description='Progress:', layout=Layout(height='25px', width='50%'),…"
      ]
     },
     "metadata": {},
     "output_type": "display_data"
    },
    {
     "name": "stdout",
     "output_type": "stream",
     "text": [
      "['station_name OHE', 'area_cleaned OHE', 'Hour', 'Day', 'DayofWeek', 'Month', 'end_station_id', 'num_rentals', 'station_id', 'longitude', 'latitude', 'date', 'sunshine', 'mean', 'cloud', 'prec', 'press']"
     ]
    }
   ],
   "source": [
    "from pyspark.ml import Pipeline\n",
    "from pyspark.ml.regression import RandomForestRegressor\n",
    "from pyspark.ml.feature import VectorIndexer, VectorAssembler, StringIndexer, OneHotEncoder\n",
    "from pyspark.ml.evaluation import RegressionEvaluator\n",
    "\n",
    "# Define the columns you want to index\n",
    "columns_to_index = [\"station_name\", \"area_cleaned\"]\n",
    "non_categorical_cols = [x for x in test_df.columns if x not in columns_to_index]\n",
    "index_output_cols = [x + ' Index' for x in columns_to_index]\n",
    "ohe_output_cols = [x + ' OHE' for x in columns_to_index]\n",
    "\n",
    "\n",
    "# Create a list of StringIndexer stages for each column\n",
    "string_indexer = StringIndexer(inputCols=columns_to_index, outputCols=index_output_cols, handleInvalid=\"skip\")\n",
    "\n",
    "ohe_encoder = OneHotEncoder(inputCols=index_output_cols, outputCols=ohe_output_cols)\n",
    "\n",
    "assembler_inputs = ohe_output_cols + non_categorical_cols\n",
    "vec_assembler = VectorAssembler(inputCols=assembler_inputs, outputCol=\"features\")\n",
    "assembler_inputs"
   ]
  },
  {
   "cell_type": "code",
   "execution_count": 7,
   "id": "09ddb855-2b4b-4fa1-a599-00b64471d773",
   "metadata": {},
   "outputs": [
    {
     "data": {
      "application/vnd.jupyter.widget-view+json": {
       "model_id": "e73f9cbf8e054c438817eb38958f1bb0",
       "version_major": 2,
       "version_minor": 0
      },
      "text/plain": [
       "VBox()"
      ]
     },
     "metadata": {},
     "output_type": "display_data"
    },
    {
     "data": {
      "application/vnd.jupyter.widget-view+json": {
       "model_id": "",
       "version_major": 2,
       "version_minor": 0
      },
      "text/plain": [
       "FloatProgress(value=0.0, bar_style='info', description='Progress:', layout=Layout(height='25px', width='50%'),…"
      ]
     },
     "metadata": {},
     "output_type": "display_data"
    },
    {
     "name": "stdout",
     "output_type": "stream",
     "text": [
      "There are 4232906 rows in the training set and 1073630 in the test set."
     ]
    }
   ],
   "source": [
    "# Split the data into training and test sets (30% held out for testing)\n",
    "#(trainingData, testData) = test_df.randomSplit([0.7, 0.3])\n",
    "\n",
    "timestamp_threshold_1 = '20190601'\n",
    "\n",
    "timestamp_threshold_2 = '20191231'\n",
    "\n",
    "# Time-series 1: Timestamps before the threshold\n",
    "training_set = test_df.filter(col('date') < timestamp_threshold_1)\n",
    "\n",
    "# Time-series 2: Timestamps after or equal to the threshold\n",
    "test_set = test_df.filter((col('date') >= timestamp_threshold_1) & (col('date') < timestamp_threshold_2))\n",
    "\n",
    "stream_set = test_df.filter(col('date') > timestamp_threshold_2)\n",
    "\n",
    "test_set.write.mode(\"overwrite\").parquet(\"s3://abdbucketjddc/dataout/test\")\n",
    "\n",
    "stream_set.write.mode(\"overwrite\").parquet(\"s3://abdbucketjddc/dataout/stream\")\n",
    "\n",
    "# Print the number of rows in each part\n",
    "print(f\"There are {training_set.count()} rows in the training set and {test_set.count()} in the test set.\")"
   ]
  },
  {
   "cell_type": "markdown",
   "id": "9ff9c04d",
   "metadata": {},
   "source": [
    "## Random Forest Regressor"
   ]
  },
  {
   "cell_type": "markdown",
   "id": "5fc0c43f-2bdb-4ca5-b080-6cfa0cf37c46",
   "metadata": {},
   "source": [
    "#### Treinar o modelo:"
   ]
  },
  {
   "cell_type": "code",
   "execution_count": 38,
   "id": "bac5f622",
   "metadata": {},
   "outputs": [
    {
     "data": {
      "application/vnd.jupyter.widget-view+json": {
       "model_id": "1125829e24914216ba78419120eefcec",
       "version_major": 2,
       "version_minor": 0
      },
      "text/plain": [
       "VBox()"
      ]
     },
     "metadata": {},
     "output_type": "display_data"
    },
    {
     "data": {
      "application/vnd.jupyter.widget-view+json": {
       "model_id": "",
       "version_major": 2,
       "version_minor": 0
      },
      "text/plain": [
       "FloatProgress(value=0.0, bar_style='info', description='Progress:', layout=Layout(height='25px', width='50%'),…"
      ]
     },
     "metadata": {},
     "output_type": "display_data"
    }
   ],
   "source": [
    "import time"
   ]
  },
  {
   "cell_type": "code",
   "execution_count": 39,
   "id": "f3741d6d-5d3c-46fa-ad84-ac0e6d31c8f2",
   "metadata": {},
   "outputs": [
    {
     "data": {
      "application/vnd.jupyter.widget-view+json": {
       "model_id": "657f80da33ee4c6b8b9fd1e8b76adecb",
       "version_major": 2,
       "version_minor": 0
      },
      "text/plain": [
       "VBox()"
      ]
     },
     "metadata": {},
     "output_type": "display_data"
    },
    {
     "data": {
      "application/vnd.jupyter.widget-view+json": {
       "model_id": "",
       "version_major": 2,
       "version_minor": 0
      },
      "text/plain": [
       "FloatProgress(value=0.0, bar_style='info', description='Progress:', layout=Layout(height='25px', width='50%'),…"
      ]
     },
     "metadata": {},
     "output_type": "display_data"
    },
    {
     "name": "stdout",
     "output_type": "stream",
     "text": [
      "Execution time: 394.0432870388031 seconds"
     ]
    }
   ],
   "source": [
    "start_time = time.time()\n",
    "\n",
    "# Train a RandomForest model.\n",
    "rf = RandomForestRegressor(featuresCol=\"features\", labelCol='num_rentals')\n",
    "\n",
    "# Chain indexer and forest in a Pipeline\n",
    "pipeline = Pipeline(stages=[string_indexer, ohe_encoder, vec_assembler, rf])\n",
    "\n",
    "# Train model.  This also runs the indexer.\n",
    "model = pipeline.fit(training_set)\n",
    "\n",
    "end_time = time.time()\n",
    "\n",
    "elapsed_time = end_time - start_time\n",
    "print(f\"Execution time: {elapsed_time} seconds\")"
   ]
  },
  {
   "cell_type": "markdown",
   "id": "67f1e1cd-0df3-4156-a17f-cf4acbddd512",
   "metadata": {},
   "source": [
    "#### Save pipeline"
   ]
  },
  {
   "cell_type": "code",
   "execution_count": 42,
   "id": "8c248800-8de1-40d9-bb3a-cfcad4977ca6",
   "metadata": {},
   "outputs": [
    {
     "data": {
      "application/vnd.jupyter.widget-view+json": {
       "model_id": "f6f81b9dfad14f00a61835039c308b77",
       "version_major": 2,
       "version_minor": 0
      },
      "text/plain": [
       "VBox()"
      ]
     },
     "metadata": {},
     "output_type": "display_data"
    },
    {
     "data": {
      "application/vnd.jupyter.widget-view+json": {
       "model_id": "",
       "version_major": 2,
       "version_minor": 0
      },
      "text/plain": [
       "FloatProgress(value=0.0, bar_style='info', description='Progress:', layout=Layout(height='25px', width='50%'),…"
      ]
     },
     "metadata": {},
     "output_type": "display_data"
    }
   ],
   "source": [
    "# We can save the pipeline for further use should it be required\n",
    "\n",
    "pipeline.write().overwrite().save(\"s3://abdbucketjddc/dataout/pipeline-RF\")\n",
    "\n",
    "model.write().overwrite().save('s3://abdbucketjddc/dataout/model-RF')\n",
    "# later on, it can be loaded anywhere\n",
    "\n",
    "# check the content of created directories "
   ]
  },
  {
   "cell_type": "markdown",
   "id": "2ee8e9ac-b6ee-4a73-831e-e88d5e7bc506",
   "metadata": {},
   "source": [
    "#### Fazer previsões:"
   ]
  },
  {
   "cell_type": "code",
   "execution_count": 43,
   "id": "12bb099b-e771-4b29-8cad-7da931e559e7",
   "metadata": {},
   "outputs": [
    {
     "data": {
      "application/vnd.jupyter.widget-view+json": {
       "model_id": "4ceed05a34be4268b8fb552fdb348027",
       "version_major": 2,
       "version_minor": 0
      },
      "text/plain": [
       "VBox()"
      ]
     },
     "metadata": {},
     "output_type": "display_data"
    },
    {
     "data": {
      "application/vnd.jupyter.widget-view+json": {
       "model_id": "",
       "version_major": 2,
       "version_minor": 0
      },
      "text/plain": [
       "FloatProgress(value=0.0, bar_style='info', description='Progress:', layout=Layout(height='25px', width='50%'),…"
      ]
     },
     "metadata": {},
     "output_type": "display_data"
    },
    {
     "name": "stdout",
     "output_type": "stream",
     "text": [
      "+------------------+-----------+--------------------+--------+------------+----+\n",
      "|        prediction|num_rentals|            features|    date|area_cleaned|hour|\n",
      "+------------------+-----------+--------------------+--------+------------+----+\n",
      "|1.0044011868824654|          1|(924,[232,808,910...|20190601|     Mayfair|   0|\n",
      "|1.0044011868824654|          1|(924,[8,800,910,9...|20190601|  Shoreditch|   0|\n",
      "|2.5780898901457485|          3|(924,[608,840,910...|20190601| WestChelsea|   0|\n",
      "|1.0044011868824654|          1|(924,[72,891,910,...|20190601|  ShadThames|   0|\n",
      "|2.0554036695223377|          2|(924,[357,833,910...|20190601|     Stepney|   0|\n",
      "+------------------+-----------+--------------------+--------+------------+----+\n",
      "only showing top 5 rows"
     ]
    }
   ],
   "source": [
    "# Make predictions.\n",
    "predictions = model.transform(test_set)\n",
    "\n",
    "# Select example rows to display.\n",
    "predictions.select(\"prediction\", \"num_rentals\", \"features\", \"date\", \"area_cleaned\", \"hour\").show(5)"
   ]
  },
  {
   "cell_type": "markdown",
   "id": "f02f72fa-395d-4a02-bdfe-fe0354573642",
   "metadata": {},
   "source": [
    "#### Avaliar os resultados:"
   ]
  },
  {
   "cell_type": "code",
   "execution_count": 44,
   "id": "1435a113-f6fe-4974-a79e-eb9c857d63b9",
   "metadata": {},
   "outputs": [
    {
     "data": {
      "application/vnd.jupyter.widget-view+json": {
       "model_id": "83fb63e9aac04b0aa0c0b650953f1578",
       "version_major": 2,
       "version_minor": 0
      },
      "text/plain": [
       "VBox()"
      ]
     },
     "metadata": {},
     "output_type": "display_data"
    },
    {
     "data": {
      "application/vnd.jupyter.widget-view+json": {
       "model_id": "",
       "version_major": 2,
       "version_minor": 0
      },
      "text/plain": [
       "FloatProgress(value=0.0, bar_style='info', description='Progress:', layout=Layout(height='25px', width='50%'),…"
      ]
     },
     "metadata": {},
     "output_type": "display_data"
    },
    {
     "name": "stdout",
     "output_type": "stream",
     "text": [
      "Root Mean Squared Error (RMSE) on test data = 0.213317"
     ]
    }
   ],
   "source": [
    "# Select (prediction, true label) and compute test error\n",
    "evaluator = RegressionEvaluator(\n",
    "    labelCol=\"num_rentals\", predictionCol=\"prediction\", metricName=\"rmse\")\n",
    "rmse = evaluator.evaluate(predictions)\n",
    "print(\"Root Mean Squared Error (RMSE) on test data = %g\" % rmse)\n"
   ]
  },
  {
   "cell_type": "code",
   "execution_count": 45,
   "id": "4a3bd38c-4b20-436b-9608-96b8d6e01dc6",
   "metadata": {},
   "outputs": [
    {
     "data": {
      "application/vnd.jupyter.widget-view+json": {
       "model_id": "2d25d7424a7142ff8ff62ac210ccd10d",
       "version_major": 2,
       "version_minor": 0
      },
      "text/plain": [
       "VBox()"
      ]
     },
     "metadata": {},
     "output_type": "display_data"
    },
    {
     "data": {
      "application/vnd.jupyter.widget-view+json": {
       "model_id": "",
       "version_major": 2,
       "version_minor": 0
      },
      "text/plain": [
       "FloatProgress(value=0.0, bar_style='info', description='Progress:', layout=Layout(height='25px', width='50%'),…"
      ]
     },
     "metadata": {},
     "output_type": "display_data"
    },
    {
     "name": "stdout",
     "output_type": "stream",
     "text": [
      "+--------+------------+----+------------+------------------+\n",
      "|    date|area_cleaned|hour|real_rentals|      pred_rentals|\n",
      "+--------+------------+----+------------+------------------+\n",
      "|20190803|    HydePark|  16|         121|100.98464980579166|\n",
      "|20190804|    HydePark|  15|         108| 89.96900434533948|\n",
      "|20190623|    HydePark|  15|         113| 87.92206530026067|\n",
      "|20190919|    Waterloo|   8|          91|  85.9882936471687|\n",
      "|20190624|     Holborn|  17|          85| 85.00530974774267|\n",
      "+--------+------------+----+------------+------------------+\n",
      "only showing top 5 rows"
     ]
    }
   ],
   "source": [
    "from pyspark.sql.functions import sum,avg,max,count\n",
    "\n",
    "cols_to_plot = ['date', 'area_cleaned', 'hour']\n",
    "\n",
    "grouped = predictions.groupBy(cols_to_plot) \\\n",
    "            .agg(sum(\"num_rentals\").alias(\"real_rentals\"), \\\n",
    "                 sum(\"prediction\").alias(\"pred_rentals\")\n",
    "                 )\n",
    "\n",
    "grouped = grouped.sort(col('pred_rentals'), ascending=False)\n",
    "grouped.show(5)"
   ]
  },
  {
   "cell_type": "markdown",
   "id": "8fbfd4e1",
   "metadata": {},
   "source": [
    "## Decision Tree Regressor"
   ]
  },
  {
   "cell_type": "markdown",
   "id": "8809b67a",
   "metadata": {},
   "source": [
    "#### Treinar o modelo:"
   ]
  },
  {
   "cell_type": "code",
   "execution_count": 46,
   "id": "3cca53a2",
   "metadata": {},
   "outputs": [
    {
     "data": {
      "application/vnd.jupyter.widget-view+json": {
       "model_id": "066dbde618d4480290d480551b038172",
       "version_major": 2,
       "version_minor": 0
      },
      "text/plain": [
       "VBox()"
      ]
     },
     "metadata": {},
     "output_type": "display_data"
    },
    {
     "data": {
      "application/vnd.jupyter.widget-view+json": {
       "model_id": "",
       "version_major": 2,
       "version_minor": 0
      },
      "text/plain": [
       "FloatProgress(value=0.0, bar_style='info', description='Progress:', layout=Layout(height='25px', width='50%'),…"
      ]
     },
     "metadata": {},
     "output_type": "display_data"
    },
    {
     "name": "stdout",
     "output_type": "stream",
     "text": [
      "Execution time: 277.1463677883148 seconds"
     ]
    }
   ],
   "source": [
    "from pyspark.ml.regression import DecisionTreeRegressor\n",
    "\n",
    "start_time = time.time()\n",
    "\n",
    "# Train a RandomForest model.\n",
    "dt = DecisionTreeRegressor(featuresCol=\"features\", labelCol='num_rentals')\n",
    "\n",
    "# Chain indexer and forest in a Pipeline\n",
    "pipeline = Pipeline(stages=[string_indexer, ohe_encoder, vec_assembler, dt])\n",
    "\n",
    "# Train model.  This also runs the indexer.\n",
    "model = pipeline.fit(training_set)\n",
    "\n",
    "end_time = time.time()\n",
    "\n",
    "elapsed_time = end_time - start_time\n",
    "print(f\"Execution time: {elapsed_time} seconds\")"
   ]
  },
  {
   "cell_type": "markdown",
   "id": "4a5447ab",
   "metadata": {},
   "source": [
    "#### Save pipeline"
   ]
  },
  {
   "cell_type": "code",
   "execution_count": 47,
   "id": "a04f3fbb",
   "metadata": {},
   "outputs": [
    {
     "data": {
      "application/vnd.jupyter.widget-view+json": {
       "model_id": "13a30fb3aa8240339032ceeb088bfa5d",
       "version_major": 2,
       "version_minor": 0
      },
      "text/plain": [
       "VBox()"
      ]
     },
     "metadata": {},
     "output_type": "display_data"
    },
    {
     "data": {
      "application/vnd.jupyter.widget-view+json": {
       "model_id": "",
       "version_major": 2,
       "version_minor": 0
      },
      "text/plain": [
       "FloatProgress(value=0.0, bar_style='info', description='Progress:', layout=Layout(height='25px', width='50%'),…"
      ]
     },
     "metadata": {},
     "output_type": "display_data"
    }
   ],
   "source": [
    "# We can save the pipeline for further use should it be required\n",
    "\n",
    "pipeline.write().overwrite().save(\"s3://abdbucketjddc/dataout/pipeline-DT\")\n",
    "\n",
    "model.write().overwrite().save('s3://abdbucketjddc/dataout/model-DT')\n",
    "# later on, it can be loaded anywhere\n",
    "\n",
    "# check the content of created directories "
   ]
  },
  {
   "cell_type": "markdown",
   "id": "6a257a31",
   "metadata": {},
   "source": [
    "#### Fazer previsões:"
   ]
  },
  {
   "cell_type": "code",
   "execution_count": 48,
   "id": "ab630195",
   "metadata": {},
   "outputs": [
    {
     "data": {
      "application/vnd.jupyter.widget-view+json": {
       "model_id": "dc7de1e05e3f4f5999d26245031c3a62",
       "version_major": 2,
       "version_minor": 0
      },
      "text/plain": [
       "VBox()"
      ]
     },
     "metadata": {},
     "output_type": "display_data"
    },
    {
     "data": {
      "application/vnd.jupyter.widget-view+json": {
       "model_id": "",
       "version_major": 2,
       "version_minor": 0
      },
      "text/plain": [
       "FloatProgress(value=0.0, bar_style='info', description='Progress:', layout=Layout(height='25px', width='50%'),…"
      ]
     },
     "metadata": {},
     "output_type": "display_data"
    },
    {
     "name": "stdout",
     "output_type": "stream",
     "text": [
      "+----------+-----------+--------------------+--------+---------------+----+\n",
      "|prediction|num_rentals|            features|    date|   area_cleaned|hour|\n",
      "+----------+-----------+--------------------+--------+---------------+----+\n",
      "|       1.0|          1|(924,[56,812,910,...|20190601|SouthKensington|   0|\n",
      "|       1.0|          1|(924,[7,820,910,9...|20190601|           Bank|   0|\n",
      "|       2.0|          2|(924,[177,885,910...|20190601| HackneyCentral|   0|\n",
      "|       6.0|          6|(924,[57,802,910,...|20190601|         Strand|   0|\n",
      "|       1.0|          1|(924,[15,821,910,...|20190601|        StLukes|   0|\n",
      "+----------+-----------+--------------------+--------+---------------+----+\n",
      "only showing top 5 rows"
     ]
    }
   ],
   "source": [
    "# Make predictions.\n",
    "predictions = model.transform(test_set)\n",
    "\n",
    "# Select example rows to display.\n",
    "predictions.select(\"prediction\", \"num_rentals\", \"features\", \"date\", \"area_cleaned\", \"hour\").show(5)"
   ]
  },
  {
   "cell_type": "markdown",
   "id": "f9f14755",
   "metadata": {},
   "source": [
    "#### Avaliar os resultados:"
   ]
  },
  {
   "cell_type": "code",
   "execution_count": 49,
   "id": "ccfe8eb8",
   "metadata": {},
   "outputs": [
    {
     "data": {
      "application/vnd.jupyter.widget-view+json": {
       "model_id": "32c267e4c3754e129176f35aee71fe5c",
       "version_major": 2,
       "version_minor": 0
      },
      "text/plain": [
       "VBox()"
      ]
     },
     "metadata": {},
     "output_type": "display_data"
    },
    {
     "data": {
      "application/vnd.jupyter.widget-view+json": {
       "model_id": "",
       "version_major": 2,
       "version_minor": 0
      },
      "text/plain": [
       "FloatProgress(value=0.0, bar_style='info', description='Progress:', layout=Layout(height='25px', width='50%'),…"
      ]
     },
     "metadata": {},
     "output_type": "display_data"
    },
    {
     "name": "stdout",
     "output_type": "stream",
     "text": [
      "Root Mean Squared Error (RMSE) on test data = 0.0460345"
     ]
    }
   ],
   "source": [
    "# Select (prediction, true label) and compute test error\n",
    "evaluator = RegressionEvaluator(\n",
    "    labelCol=\"num_rentals\", predictionCol=\"prediction\", metricName=\"rmse\")\n",
    "rmse = evaluator.evaluate(predictions)\n",
    "print(\"Root Mean Squared Error (RMSE) on test data = %g\" % rmse)\n"
   ]
  },
  {
   "cell_type": "code",
   "execution_count": 50,
   "id": "0eb47020",
   "metadata": {},
   "outputs": [
    {
     "data": {
      "application/vnd.jupyter.widget-view+json": {
       "model_id": "ba9fd840d4fb4c78b74920ee01d2aca6",
       "version_major": 2,
       "version_minor": 0
      },
      "text/plain": [
       "VBox()"
      ]
     },
     "metadata": {},
     "output_type": "display_data"
    },
    {
     "data": {
      "application/vnd.jupyter.widget-view+json": {
       "model_id": "",
       "version_major": 2,
       "version_minor": 0
      },
      "text/plain": [
       "FloatProgress(value=0.0, bar_style='info', description='Progress:', layout=Layout(height='25px', width='50%'),…"
      ]
     },
     "metadata": {},
     "output_type": "display_data"
    },
    {
     "name": "stdout",
     "output_type": "stream",
     "text": [
      "+--------+------------+----+------------+------------------+\n",
      "|    date|area_cleaned|hour|real_rentals|      pred_rentals|\n",
      "+--------+------------+----+------------+------------------+\n",
      "|20190803|    HydePark|  16|         121|122.25832507491765|\n",
      "|20190623|    HydePark|  15|         113|116.08454421327333|\n",
      "|20190804|    HydePark|  15|         108|104.12330451211427|\n",
      "|20190622|    HydePark|  17|          86| 91.72499365147557|\n",
      "|20190919|    Waterloo|   8|          91|              91.0|\n",
      "+--------+------------+----+------------+------------------+\n",
      "only showing top 5 rows"
     ]
    }
   ],
   "source": [
    "from pyspark.sql.functions import sum,avg,max,count\n",
    "\n",
    "cols_to_plot = ['date', 'area_cleaned', 'hour']\n",
    "\n",
    "grouped = predictions.groupBy(cols_to_plot) \\\n",
    "            .agg(sum(\"num_rentals\").alias(\"real_rentals\"), \\\n",
    "                 sum(\"prediction\").alias(\"pred_rentals\")\n",
    "                 )\n",
    "\n",
    "grouped = grouped.sort(col('pred_rentals'), ascending=False)\n",
    "grouped.show(5)"
   ]
  },
  {
   "cell_type": "markdown",
   "id": "32e5de8c",
   "metadata": {},
   "source": [
    "## Gradient-boosted tree regression"
   ]
  },
  {
   "cell_type": "markdown",
   "id": "95195ca3",
   "metadata": {},
   "source": [
    "#### Treinar o modelo:"
   ]
  },
  {
   "cell_type": "code",
   "execution_count": 51,
   "id": "ccecac80",
   "metadata": {},
   "outputs": [
    {
     "data": {
      "application/vnd.jupyter.widget-view+json": {
       "model_id": "3ac443ebb86a4229abd7358378a8b4fd",
       "version_major": 2,
       "version_minor": 0
      },
      "text/plain": [
       "VBox()"
      ]
     },
     "metadata": {},
     "output_type": "display_data"
    },
    {
     "data": {
      "application/vnd.jupyter.widget-view+json": {
       "model_id": "",
       "version_major": 2,
       "version_minor": 0
      },
      "text/plain": [
       "FloatProgress(value=0.0, bar_style='info', description='Progress:', layout=Layout(height='25px', width='50%'),…"
      ]
     },
     "metadata": {},
     "output_type": "display_data"
    },
    {
     "name": "stdout",
     "output_type": "stream",
     "text": [
      "Execution time: 674.7225520610809 seconds"
     ]
    }
   ],
   "source": [
    "from pyspark.ml.regression import GBTRegressor\n",
    "\n",
    "start_time = time.time()\n",
    "\n",
    "# Train a RandomForest model.\n",
    "gbt = GBTRegressor(featuresCol=\"features\", labelCol='num_rentals', maxIter=3)\n",
    "\n",
    "# Chain indexer and forest in a Pipeline\n",
    "pipeline = Pipeline(stages=[string_indexer, ohe_encoder, vec_assembler, gbt])\n",
    "\n",
    "# Train model.  This also runs the indexer.\n",
    "model = pipeline.fit(training_set)\n",
    "\n",
    "end_time = time.time()\n",
    "\n",
    "elapsed_time = end_time - start_time\n",
    "print(f\"Execution time: {elapsed_time} seconds\")"
   ]
  },
  {
   "cell_type": "markdown",
   "id": "9f5c2457",
   "metadata": {},
   "source": [
    "#### Save pipeline"
   ]
  },
  {
   "cell_type": "code",
   "execution_count": 52,
   "id": "e26a6860",
   "metadata": {},
   "outputs": [
    {
     "data": {
      "application/vnd.jupyter.widget-view+json": {
       "model_id": "d27304e15ce44af48ec78967179fe203",
       "version_major": 2,
       "version_minor": 0
      },
      "text/plain": [
       "VBox()"
      ]
     },
     "metadata": {},
     "output_type": "display_data"
    },
    {
     "data": {
      "application/vnd.jupyter.widget-view+json": {
       "model_id": "",
       "version_major": 2,
       "version_minor": 0
      },
      "text/plain": [
       "FloatProgress(value=0.0, bar_style='info', description='Progress:', layout=Layout(height='25px', width='50%'),…"
      ]
     },
     "metadata": {},
     "output_type": "display_data"
    }
   ],
   "source": [
    "# We can save the pipeline for further use should it be required\n",
    "\n",
    "pipeline.write().overwrite().save(\"s3://abdbucketjddc/dataout/pipeline-GBT\")\n",
    "\n",
    "model.write().overwrite().save('s3://abdbucketjddc/dataout/model-GBT')\n",
    "# later on, it can be loaded anywhere\n",
    "\n",
    "# check the content of created directories "
   ]
  },
  {
   "cell_type": "markdown",
   "id": "f609b8d2",
   "metadata": {},
   "source": [
    "#### Fazer previsões:"
   ]
  },
  {
   "cell_type": "code",
   "execution_count": 8,
   "id": "ede3b02d",
   "metadata": {},
   "outputs": [
    {
     "data": {
      "application/vnd.jupyter.widget-view+json": {
       "model_id": "f5f2a2be596d41a9b5ff45f9eae4aedf",
       "version_major": 2,
       "version_minor": 0
      },
      "text/plain": [
       "VBox()"
      ]
     },
     "metadata": {},
     "output_type": "display_data"
    },
    {
     "data": {
      "application/vnd.jupyter.widget-view+json": {
       "model_id": "",
       "version_major": 2,
       "version_minor": 0
      },
      "text/plain": [
       "FloatProgress(value=0.0, bar_style='info', description='Progress:', layout=Layout(height='25px', width='50%'),…"
      ]
     },
     "metadata": {},
     "output_type": "display_data"
    },
    {
     "name": "stdout",
     "output_type": "stream",
     "text": [
      "+----------+-----------+--------------------+--------+---------------+----+\n",
      "|prediction|num_rentals|            features|    date|   area_cleaned|hour|\n",
      "+----------+-----------+--------------------+--------+---------------+----+\n",
      "|       1.0|          1|(924,[56,812,910,...|20190601|SouthKensington|   0|\n",
      "|       1.0|          1|(924,[7,820,910,9...|20190601|           Bank|   0|\n",
      "|       2.0|          2|(924,[177,885,910...|20190601| HackneyCentral|   0|\n",
      "|       6.0|          6|(924,[57,802,910,...|20190601|         Strand|   0|\n",
      "|       1.0|          1|(924,[15,821,910,...|20190601|        StLukes|   0|\n",
      "+----------+-----------+--------------------+--------+---------------+----+\n",
      "only showing top 5 rows"
     ]
    }
   ],
   "source": [
    "from pyspark.ml import PipelineModel\n",
    "\n",
    "model = PipelineModel.load('s3://abdbucketjddc/dataout/model-GBT/')\n",
    "\n",
    "# Make predictions.\n",
    "predictions = model.transform(test_set)\n",
    "\n",
    "# Select example rows to display.\n",
    "predictions.select(\"prediction\", \"num_rentals\", \"features\", \"date\", \"area_cleaned\", \"hour\").show(5)"
   ]
  },
  {
   "cell_type": "markdown",
   "id": "41dc9a77",
   "metadata": {},
   "source": [
    "#### Avaliar os resultados:"
   ]
  },
  {
   "cell_type": "code",
   "execution_count": 54,
   "id": "a8937957",
   "metadata": {},
   "outputs": [
    {
     "data": {
      "application/vnd.jupyter.widget-view+json": {
       "model_id": "86f1a3d8ee1c432c9d6d961c2e66c4b4",
       "version_major": 2,
       "version_minor": 0
      },
      "text/plain": [
       "VBox()"
      ]
     },
     "metadata": {},
     "output_type": "display_data"
    },
    {
     "data": {
      "application/vnd.jupyter.widget-view+json": {
       "model_id": "",
       "version_major": 2,
       "version_minor": 0
      },
      "text/plain": [
       "FloatProgress(value=0.0, bar_style='info', description='Progress:', layout=Layout(height='25px', width='50%'),…"
      ]
     },
     "metadata": {},
     "output_type": "display_data"
    },
    {
     "name": "stdout",
     "output_type": "stream",
     "text": [
      "Root Mean Squared Error (RMSE) on test data = 0.0345221"
     ]
    }
   ],
   "source": [
    "# Select (prediction, true label) and compute test error\n",
    "evaluator = RegressionEvaluator(\n",
    "    labelCol=\"num_rentals\", predictionCol=\"prediction\", metricName=\"rmse\")\n",
    "rmse = evaluator.evaluate(predictions)\n",
    "print(\"Root Mean Squared Error (RMSE) on test data = %g\" % rmse)\n"
   ]
  },
  {
   "cell_type": "code",
   "execution_count": 9,
   "id": "c58717d1",
   "metadata": {
    "scrolled": true
   },
   "outputs": [
    {
     "data": {
      "application/vnd.jupyter.widget-view+json": {
       "model_id": "7400ea858ad141c9bce0be55a95745ec",
       "version_major": 2,
       "version_minor": 0
      },
      "text/plain": [
       "VBox()"
      ]
     },
     "metadata": {},
     "output_type": "display_data"
    },
    {
     "data": {
      "application/vnd.jupyter.widget-view+json": {
       "model_id": "",
       "version_major": 2,
       "version_minor": 0
      },
      "text/plain": [
       "FloatProgress(value=0.0, bar_style='info', description='Progress:', layout=Layout(height='25px', width='50%'),…"
      ]
     },
     "metadata": {},
     "output_type": "display_data"
    },
    {
     "name": "stdout",
     "output_type": "stream",
     "text": [
      "+--------+------------+----+------------+------------------+\n",
      "|    date|area_cleaned|hour|real_rentals|      pred_rentals|\n",
      "+--------+------------+----+------------+------------------+\n",
      "|20190803|    HydePark|  16|         121|121.82605982283359|\n",
      "|20190623|    HydePark|  15|         113|116.87663814648727|\n",
      "|20190804|    HydePark|  15|         108|111.01444502707302|\n",
      "|20190601|    HydePark|  16|          99|102.67686684701584|\n",
      "|20190919|    Waterloo|   8|          91|              91.0|\n",
      "+--------+------------+----+------------+------------------+\n",
      "only showing top 5 rows"
     ]
    }
   ],
   "source": [
    "from pyspark.sql.functions import sum,avg,max,count\n",
    "\n",
    "cols_to_plot = ['date', 'area_cleaned', 'hour']\n",
    "\n",
    "grouped = predictions.groupBy(cols_to_plot) \\\n",
    "            .agg(sum(\"num_rentals\").alias(\"real_rentals\"), \\\n",
    "                 sum(\"prediction\").alias(\"pred_rentals\")\n",
    "                 )\n",
    "\n",
    "grouped = grouped.sort(col('pred_rentals'), ascending=False)\n",
    "grouped.show(5)"
   ]
  },
  {
   "cell_type": "markdown",
   "id": "cbe691f4",
   "metadata": {},
   "source": [
    "### Save for future visualizations"
   ]
  },
  {
   "cell_type": "code",
   "execution_count": 10,
   "id": "449788b2",
   "metadata": {},
   "outputs": [
    {
     "data": {
      "application/vnd.jupyter.widget-view+json": {
       "model_id": "68c1164cbee84b7b92b8e778781c7430",
       "version_major": 2,
       "version_minor": 0
      },
      "text/plain": [
       "VBox()"
      ]
     },
     "metadata": {},
     "output_type": "display_data"
    },
    {
     "data": {
      "application/vnd.jupyter.widget-view+json": {
       "model_id": "",
       "version_major": 2,
       "version_minor": 0
      },
      "text/plain": [
       "FloatProgress(value=0.0, bar_style='info', description='Progress:', layout=Layout(height='25px', width='50%'),…"
      ]
     },
     "metadata": {},
     "output_type": "display_data"
    }
   ],
   "source": [
    "grouped.write.mode(\"overwrite\").parquet(\"s3://abdbucketjddc/dataout/predicted\")"
   ]
  },
  {
   "cell_type": "code",
   "execution_count": null,
   "id": "fcb02e33",
   "metadata": {},
   "outputs": [],
   "source": []
  }
 ],
 "metadata": {
  "kernelspec": {
   "display_name": "PySpark",
   "language": "python",
   "name": "pysparkkernel"
  },
  "language_info": {
   "codemirror_mode": {
    "name": "python",
    "version": 3
   },
   "file_extension": ".py",
   "mimetype": "text/x-python",
   "name": "pyspark",
   "pygments_lexer": "python3"
  }
 },
 "nbformat": 4,
 "nbformat_minor": 5
}
